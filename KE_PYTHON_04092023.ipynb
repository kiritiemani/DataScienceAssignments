{
 "cells": [
  {
   "cell_type": "code",
   "execution_count": 5,
   "id": "cc967c76-7c2f-4f71-ac32-4b2fd92d8cd7",
   "metadata": {},
   "outputs": [
    {
     "name": "stdin",
     "output_type": "stream",
     "text": [
      "Please enter a number 30.5\n"
     ]
    },
    {
     "name": "stdout",
     "output_type": "stream",
     "text": [
      "Positive Number\n"
     ]
    }
   ],
   "source": [
    "#Basic If-Else Statements:\n",
    "#1 Write a Python program to check if a given number is positive or negative.\n",
    "a=float(input(\"Please enter a number\"))\n",
    "if a>0:\n",
    "    print(\"Positive Number\")\n",
    "else:\n",
    "    print(\"Negative Number\")"
   ]
  },
  {
   "cell_type": "code",
   "execution_count": 7,
   "id": "2e415b31-6bd5-44aa-8479-cceaab494650",
   "metadata": {},
   "outputs": [
    {
     "name": "stdin",
     "output_type": "stream",
     "text": [
      "Please enter your age 15\n"
     ]
    },
    {
     "name": "stdout",
     "output_type": "stream",
     "text": [
      "Not Eligible for vote\n"
     ]
    }
   ],
   "source": [
    "#2 Create a program that determines if a person is eligible to vote based on their age\n",
    "a=int(input(\"Please enter your age\"))\n",
    "if a>=18:\n",
    "    print(\"Eligible for vote\")\n",
    "else:\n",
    "    print(\"Not Eligible for vote\")"
   ]
  },
  {
   "cell_type": "code",
   "execution_count": 9,
   "id": "51a7023f-32a6-4413-9c52-3c057358efe9",
   "metadata": {},
   "outputs": [
    {
     "name": "stdin",
     "output_type": "stream",
     "text": [
      "Please enter first number 10\n",
      "Please enter second number 20\n"
     ]
    },
    {
     "name": "stdout",
     "output_type": "stream",
     "text": [
      "second number is larger\n"
     ]
    }
   ],
   "source": [
    "#3 Develop a program to find the maximum of two numbers using if-else statements\n",
    "a=float(input(\"Please enter first number\"))\n",
    "b=float(input(\"Please enter second number\"))\n",
    "if a>b:\n",
    "    print(\"first number is larger\")\n",
    "else:\n",
    "    print(\"second number is larger\")"
   ]
  },
  {
   "cell_type": "code",
   "execution_count": 16,
   "id": "1a1ad20b-6d9c-408d-8995-f7779c1b3d09",
   "metadata": {},
   "outputs": [
    {
     "name": "stdin",
     "output_type": "stream",
     "text": [
      "Please eneter a valid year 1996\n"
     ]
    },
    {
     "name": "stdout",
     "output_type": "stream",
     "text": [
      "Its a leap year\n"
     ]
    }
   ],
   "source": [
    "#4  Write a Python script to classify a given year as a leap year or not\n",
    "a=int(input(\"Please eneter a valid year\"))\n",
    "if a%4==0:\n",
    "    print(\"Its a leap year\")\n",
    "else:\n",
    "    print(\"Not a leap year\")"
   ]
  },
  {
   "cell_type": "code",
   "execution_count": 22,
   "id": "aafa9020-c549-48a5-b56b-3f2ceccaa323",
   "metadata": {},
   "outputs": [
    {
     "name": "stdin",
     "output_type": "stream",
     "text": [
      "please enter the character A\n"
     ]
    },
    {
     "name": "stdout",
     "output_type": "stream",
     "text": [
      "Given character is an Vowel\n"
     ]
    }
   ],
   "source": [
    "#5 Create a program that checks whether a character is a vowel or a consonant\n",
    "a=input(\"please enter the character\")\n",
    "if a.lower() in ['a','e','i','o','u']:\n",
    "    print(\"Given character is an Vowel\")\n",
    "else:\n",
    "    print(\"Given character is a Consonent\")"
   ]
  },
  {
   "cell_type": "code",
   "execution_count": 24,
   "id": "98202999-6848-49ec-9413-be061f454002",
   "metadata": {},
   "outputs": [
    {
     "name": "stdin",
     "output_type": "stream",
     "text": [
      "Please enter the number 7\n"
     ]
    },
    {
     "name": "stdout",
     "output_type": "stream",
     "text": [
      "Odd\n"
     ]
    }
   ],
   "source": [
    "#6  Implement a program to determine whether a given number is even or odd\n",
    "a=int(input(\"Please enter the number\"))\n",
    "if a%2==0:\n",
    "    print(\"Even\")\n",
    "else:\n",
    "    print(\"Odd\")"
   ]
  },
  {
   "cell_type": "code",
   "execution_count": 30,
   "id": "f1bb736e-d6f5-46dc-9214-e1738d7cc927",
   "metadata": {},
   "outputs": [
    {
     "name": "stdin",
     "output_type": "stream",
     "text": [
      "Please enter the number -90\n"
     ]
    },
    {
     "name": "stdout",
     "output_type": "stream",
     "text": [
      "the absolute value of -90 is 90\n"
     ]
    }
   ],
   "source": [
    "#7 Write a Python function to calculate the absolute value of a number without using the `abs()` function\n",
    "a=int(input(\"Please enter the number\"))\n",
    "if a>0:\n",
    "    print(f\"the absolute value of {a} is {a}\")\n",
    "else:\n",
    "    print(\"the absolute value of\",a,\"is\", -1*a)"
   ]
  },
  {
   "cell_type": "code",
   "execution_count": 1,
   "id": "efc724be-c414-4c6b-8358-18f6d36a1f00",
   "metadata": {},
   "outputs": [
    {
     "name": "stdin",
     "output_type": "stream",
     "text": [
      "Please enter the first number 10\n",
      "Please enter the second number 20\n",
      "Please enter the third number 30\n"
     ]
    },
    {
     "name": "stdout",
     "output_type": "stream",
     "text": [
      "Third number is largest\n"
     ]
    }
   ],
   "source": [
    "#8 Develop a program that determines the largest of three given numbers using if-else statements\n",
    "a=int(input(\"Please enter the first number\"))\n",
    "b=int(input(\"Please enter the second number\"))\n",
    "c=int(input(\"Please enter the third number\"))\n",
    "if a>b and a>c:\n",
    "    print(\"First number is largest\")\n",
    "if b>a and b>c:\n",
    "    print(\"Second number is largest\")\n",
    "else:\n",
    "    print(\"Third number is largest\")"
   ]
  },
  {
   "cell_type": "code",
   "execution_count": 37,
   "id": "321ba584-efcc-42cc-a6ab-62722a1cc0d8",
   "metadata": {},
   "outputs": [
    {
     "name": "stdin",
     "output_type": "stream",
     "text": [
      "Please enter the string Malayalam\n"
     ]
    },
    {
     "name": "stdout",
     "output_type": "stream",
     "text": [
      "The string is palindrome\n"
     ]
    }
   ],
   "source": [
    "#9 Create a program that checks if a given string is a palindrome\n",
    "a=input(\"Please enter the string\")\n",
    "if a.lower()==a[::-1].lower():\n",
    "    print(\"The string is palindrome\")\n",
    "else:\n",
    "    print(\"The string is not palindrome\")"
   ]
  },
  {
   "cell_type": "code",
   "execution_count": 11,
   "id": "5f5fc994-ffda-4676-a9c5-c5b4105d1757",
   "metadata": {},
   "outputs": [
    {
     "name": "stdin",
     "output_type": "stream",
     "text": [
      "Please enter the student's score 250\n"
     ]
    },
    {
     "name": "stdout",
     "output_type": "stream",
     "text": [
      "D Grade\n"
     ]
    }
   ],
   "source": [
    "#10 Write a Python program to calculate the grade based on a student's score\n",
    "a=float(input(\"Please enter the student's score\"))\n",
    "b=(a/6)\n",
    "if b>85:\n",
    "    print(\"A Grade\")\n",
    "if b>=75 and b<85:\n",
    "    print(\"B Grade\")\n",
    "if b>=60 and b<75:\n",
    "    print(\"C Grade\")\n",
    "if b>=35 and b<60:\n",
    "    print(\"D Grade\")\n",
    "else:\n",
    "    print(\"Fail\")"
   ]
  },
  {
   "cell_type": "code",
   "execution_count": 2,
   "id": "f219a6cd-508a-440d-95a9-249c93706b5d",
   "metadata": {},
   "outputs": [
    {
     "name": "stdin",
     "output_type": "stream",
     "text": [
      "Please enter the first number 10\n",
      "Please enter the second number 20\n",
      "Please enter the third number 30\n"
     ]
    },
    {
     "name": "stdout",
     "output_type": "stream",
     "text": [
      "Third number is largest\n"
     ]
    }
   ],
   "source": [
    "#11  Write a program to find the largest among three numbers using nested if-else statements\n",
    "a=int(input(\"Please enter the first number\"))\n",
    "b=int(input(\"Please enter the second number\"))\n",
    "c=int(input(\"Please enter the third number\"))\n",
    "if a>b:\n",
    "    if a>c:\n",
    "        print(\"First number is largest\")\n",
    "    else:\n",
    "        print(\"Third number is largest\")\n",
    "if b>a:\n",
    "    if b>c:\n",
    "        print(\"Second number is largest\")\n",
    "    else:\n",
    "        print(\"Third number is largest\")"
   ]
  },
  {
   "cell_type": "code",
   "execution_count": 7,
   "id": "25e87dea-cc71-4ef5-8fab-8a3b4aa6025d",
   "metadata": {},
   "outputs": [
    {
     "name": "stdin",
     "output_type": "stream",
     "text": [
      "Please enter the first side length 10\n",
      "Please enter the second side length  10\n",
      "Please enter the third side length 20\n"
     ]
    },
    {
     "name": "stdout",
     "output_type": "stream",
     "text": [
      "The triangle formed will be Isosceles\n"
     ]
    }
   ],
   "source": [
    "#12  Implement a program to determine if a triangle is equilateral, isosceles, or scalene.\n",
    "a=int(input(\"Please enter the first side length\"))\n",
    "b=int(input(\"Please enter the second side length \"))\n",
    "c=int(input(\"Please enter the third side length\"))\n",
    "if a==b or b==c or c==a:\n",
    "    if a==b and b==c and c==a:  \n",
    "        print(\"The Triangle formed will be of equilateral\")\n",
    "    else:\n",
    "        print(\"The triangle formed will be Isosceles\")\n",
    "else:\n",
    "    print(\"Scalene Tirangle\")"
   ]
  },
  {
   "cell_type": "code",
   "execution_count": 17,
   "id": "71c3e17c-dc20-4c4d-88ce-14537425db92",
   "metadata": {},
   "outputs": [
    {
     "name": "stdin",
     "output_type": "stream",
     "text": [
      "Please enter the year 2004\n"
     ]
    },
    {
     "name": "stdout",
     "output_type": "stream",
     "text": [
      "Leap Year\n"
     ]
    }
   ],
   "source": [
    "#13  Develop a program that checks if a year is a leap year and also if it is a century year\n",
    "a=int(input(\"Please enter the year\"))\n",
    "if a%4==0:\n",
    "    if a%100==0:\n",
    "        if a%400 ==0:\n",
    "            print(\"Leap Year\")\n",
    "        else:\n",
    "            print(\"Not a Leap year\")\n",
    "    else:\n",
    "        print(\"Leap Year\")\n",
    "else:\n",
    "    print(\"Not a Leap Year\")"
   ]
  },
  {
   "cell_type": "code",
   "execution_count": 4,
   "id": "015fc0c7-c71c-4e35-a20b-217a76f25835",
   "metadata": {},
   "outputs": [
    {
     "name": "stdin",
     "output_type": "stream",
     "text": [
      "Please enter the number 23\n"
     ]
    },
    {
     "name": "stdout",
     "output_type": "stream",
     "text": [
      "Positive Number\n"
     ]
    }
   ],
   "source": [
    "#14 Write a Python script to determine if a number is positive, negative, or zero\n",
    "a=int(input(\"Please enter the number\"))\n",
    "if a>0:\n",
    "    print(\"Positive Number\")\n",
    "if a==0:\n",
    "    print(\"It is zero\")\n",
    "if a<0:\n",
    "    print(\"Negative Number\")"
   ]
  },
  {
   "cell_type": "code",
   "execution_count": 6,
   "id": "f708934a-a94c-46df-93f1-a298d95b69d7",
   "metadata": {},
   "outputs": [
    {
     "name": "stdin",
     "output_type": "stream",
     "text": [
      "Please enter the age 15\n"
     ]
    },
    {
     "name": "stdout",
     "output_type": "stream",
     "text": [
      "Teenager\n"
     ]
    }
   ],
   "source": [
    "#15 Create a program to check if a person is a teenager (between 13 and 19 years old)\n",
    "a=int(input(\"Please enter the age\"))\n",
    "if a>=13 and a<=19:\n",
    "    print(\"Teenager\")\n",
    "else:\n",
    "    print(\"Not a teenager\")"
   ]
  },
  {
   "cell_type": "code",
   "execution_count": 1,
   "id": "31b09271-b9ed-4e34-92ef-d764ce2c565e",
   "metadata": {},
   "outputs": [
    {
     "name": "stdin",
     "output_type": "stream",
     "text": [
      "Please eneter the angle 30\n"
     ]
    },
    {
     "name": "stdout",
     "output_type": "stream",
     "text": [
      "Actue Angle\n"
     ]
    }
   ],
   "source": [
    "#16 Develop a program that determines the type of angle based on its measure\n",
    "ang=int(input(\"Please eneter the angle\"))\n",
    "if ang>90:\n",
    "    print(\"Obtuse Angle\")\n",
    "if ang<90:\n",
    "    print(\"Actue Angle\")\n",
    "if ang==90:\n",
    "    print(\"Right Angle\")"
   ]
  },
  {
   "cell_type": "code",
   "execution_count": 8,
   "id": "8a84f61a-31f8-43a7-875b-75c07675b4f8",
   "metadata": {},
   "outputs": [
    {
     "name": "stdin",
     "output_type": "stream",
     "text": [
      "Enter the coefficients of a:  1\n",
      "Enter the coefficients of b:  4\n",
      "Enter the coefficients of c:  1\n"
     ]
    },
    {
     "name": "stdout",
     "output_type": "stream",
     "text": [
      "This equation has two solutions:  -0.2679491924311228  or -3.732050807568877\n"
     ]
    }
   ],
   "source": [
    "#17 Write a Python program to calculate the roots of a quadratic equation\n",
    "a = int(input(\"Enter the coefficients of a: \"))\n",
    "b = int(input(\"Enter the coefficients of b: \"))\n",
    "c = int(input(\"Enter the coefficients of c: \"))\n",
    "\n",
    "d = (b**2)-(4*a*c) # discriminant\n",
    "\n",
    "if d < 0:\n",
    "    print (\"This equation has no real solution\")\n",
    "elif d == 0:\n",
    "    x = (-b+(d**0.5))/2*a\n",
    "    print (\"This equation has one solutions: \"), x\n",
    "else:\n",
    "    x1 = (-b+(d**0.5))/(2*a)\n",
    "    x2 = (-b-(d**0.5))/(2*a)\n",
    "    print (\"This equation has two solutions: \", x1, \" or\", x2)"
   ]
  },
  {
   "cell_type": "code",
   "execution_count": 12,
   "id": "debab646-2137-4627-a5f3-0cba1ff8e8ff",
   "metadata": {},
   "outputs": [
    {
     "name": "stdin",
     "output_type": "stream",
     "text": [
      "Kindly enter the number ranging 1-7  4\n"
     ]
    },
    {
     "name": "stdout",
     "output_type": "stream",
     "text": [
      "Thursday\n"
     ]
    }
   ],
   "source": [
    "#18  Implement a program to determine the day of the week based on a user-provided number (1 for Monday, 2 for Tuesday, etc.)\n",
    "dayoftheweek=int(input(\"Kindly enter the number ranging 1-7 \"))\n",
    "if dayoftheweek==1:\n",
    "    print(\"Monday\")\n",
    "elif dayoftheweek==2:\n",
    "    print(\"Tuesday\")\n",
    "elif dayoftheweek==3:\n",
    "    print(\"Wednesday\")\n",
    "elif dayoftheweek==4:\n",
    "    print(\"Thursday\")\n",
    "elif dayoftheweek==5:\n",
    "    print(\"Friday\")\n",
    "elif dayoftheweek==6:\n",
    "    print(\"Saturday\")\n",
    "elif dayoftheweek==7:\n",
    "    print(\"Sunday\")\n",
    "else:\n",
    "    print(\"Invalid input\")"
   ]
  },
  {
   "cell_type": "code",
   "execution_count": 1,
   "id": "17731c06-b189-43b0-a692-2cfb634bd26f",
   "metadata": {},
   "outputs": [
    {
     "name": "stdin",
     "output_type": "stream",
     "text": [
      "Please enter the year 2000\n"
     ]
    },
    {
     "name": "stdout",
     "output_type": "stream",
     "text": [
      "Leap Year\n"
     ]
    }
   ],
   "source": [
    "#19 Create a program that determines if a year is a leap year and also if it is evenly divisible by 400.\n",
    "a=int(input(\"Please enter the year\"))\n",
    "if a%4==0:\n",
    "    if a%100==0:\n",
    "        if a%400 ==0:\n",
    "            print(\"Leap Year\")\n",
    "        else:\n",
    "            print(\"Not a Leap year\")\n",
    "    else:\n",
    "        print(\"Leap Year\")\n",
    "else:\n",
    "    print(\"Not a Leap Year\")"
   ]
  },
  {
   "cell_type": "code",
   "execution_count": 4,
   "id": "2b162286-20c7-4dfa-8545-e75592d5a8f0",
   "metadata": {},
   "outputs": [
    {
     "name": "stdin",
     "output_type": "stream",
     "text": [
      "Please enter the number 9\n"
     ]
    },
    {
     "name": "stdout",
     "output_type": "stream",
     "text": [
      "9 is not a prime number\n"
     ]
    }
   ],
   "source": [
    "#20 Develop a program that checks if a given number is prime or not using nested if-else statements\n",
    "num=int(input(\"Please enter the number\"))\n",
    "if num > 1:\n",
    "    # Check for factors\n",
    "    for i in range(2, num):\n",
    "        if (num % i) == 0:\n",
    "            print(num, \"is not a prime number\")\n",
    "            break\n",
    "    else:\n",
    "        print(num, \"is a prime number\")\n",
    "else:\n",
    "    print(num, \"is not a prime number\")"
   ]
  },
  {
   "cell_type": "code",
   "execution_count": 6,
   "id": "02588f3f-06a4-4f25-8825-11c1b567b4e7",
   "metadata": {},
   "outputs": [
    {
     "name": "stdin",
     "output_type": "stream",
     "text": [
      "Please enter the score out of 600 350\n"
     ]
    },
    {
     "name": "stdout",
     "output_type": "stream",
     "text": [
      "Grade is : D\n"
     ]
    }
   ],
   "source": [
    "#21 Write a Python program to assign grades based on different ranges of scores using elif statements\n",
    "sc=int(input(\"Please enter the score out of 600\"))\n",
    "if sc>=550 and sc<=600:\n",
    "    print(\"Grade is : A+\")\n",
    "elif sc>=500 and sc<550:\n",
    "    print(\"Grade is : A\")\n",
    "elif sc>=450 and sc<500:\n",
    "    print(\"Grade is : B\")\n",
    "elif sc>=400 and sc<450:\n",
    "    print(\"Grade is : C\")\n",
    "elif sc>=350 and sc<400:\n",
    "    print(\"Grade is : D\")\n",
    "else:\n",
    "    print(\"Fail\")"
   ]
  },
  {
   "cell_type": "code",
   "execution_count": 7,
   "id": "f94ab7c4-2561-45ff-85fd-fde89ab7f7c7",
   "metadata": {},
   "outputs": [
    {
     "name": "stdin",
     "output_type": "stream",
     "text": [
      "Please eneter the angle 90\n"
     ]
    },
    {
     "name": "stdout",
     "output_type": "stream",
     "text": [
      "Right Angle\n"
     ]
    }
   ],
   "source": [
    "#22 Implement a program to determine the type of a triangle based on its angles\n",
    "ang=int(input(\"Please eneter the angle\"))\n",
    "if ang>90:\n",
    "    print(\"Obtuse Angle\")\n",
    "elif ang<90:\n",
    "    print(\"Actue Angle\")\n",
    "else:\n",
    "    print(\"Right Angle\")"
   ]
  },
  {
   "cell_type": "code",
   "execution_count": 9,
   "id": "37d2d3cc-5914-49a3-8046-c3a84c9cf14c",
   "metadata": {},
   "outputs": [
    {
     "name": "stdin",
     "output_type": "stream",
     "text": [
      "Please enter your BMI 25\n"
     ]
    },
    {
     "name": "stdout",
     "output_type": "stream",
     "text": [
      "Over Weight\n"
     ]
    }
   ],
   "source": [
    "#23 Develop a program to categorize a given person's BMI into underweight, normal, overweight, or obese using elif statements\n",
    "BMI=int(input(\"Please enter your BMI\"))\n",
    "if BMI <18.5:\n",
    "    print(\"Underweight\")\n",
    "elif BMI>=18.5 and BMI<=24.9:\n",
    "    print(\"Normal Weight\")\n",
    "elif BMI>=25 and BMI<=29.9:\n",
    "    print(\"Over Weight\")\n",
    "else:\n",
    "    print(\"Obesity\")"
   ]
  },
  {
   "cell_type": "code",
   "execution_count": 10,
   "id": "ba6b8a19-69f9-47bb-933d-73805733566b",
   "metadata": {},
   "outputs": [
    {
     "name": "stdin",
     "output_type": "stream",
     "text": [
      "Please enter a number 0\n"
     ]
    },
    {
     "name": "stdout",
     "output_type": "stream",
     "text": [
      "Zero\n"
     ]
    }
   ],
   "source": [
    "#24 Create a program that determines whether a given number is positive, negative, or zero using elif statements\n",
    "a=float(input(\"Please enter a number\"))\n",
    "if a>0:\n",
    "    print(\"Positive Number\")\n",
    "elif a<0:\n",
    "    print(\"Negative Number\")\n",
    "else:\n",
    "    print(\"Zero\")"
   ]
  },
  {
   "cell_type": "code",
   "execution_count": 13,
   "id": "ce387870-eee4-485a-a67b-36077ba58516",
   "metadata": {},
   "outputs": [
    {
     "name": "stdin",
     "output_type": "stream",
     "text": [
      "please enter the character #\n"
     ]
    },
    {
     "name": "stdout",
     "output_type": "stream",
     "text": [
      "Special Character\n"
     ]
    }
   ],
   "source": [
    "#25  Write a Python script to determine the type of a character (uppercase, lowercase, or special) using elif statements\n",
    "a=input(\"please enter the character\")\n",
    "if a.islower():\n",
    "    print(\"Lowercase character\")\n",
    "elif a.isupper():\n",
    "    print(\"Uppercase character\")\n",
    "else:\n",
    "    print(\"Special Character\")"
   ]
  },
  {
   "cell_type": "code",
   "execution_count": 20,
   "id": "9c6c78a7-41db-4870-9420-c60b5213b743",
   "metadata": {},
   "outputs": [
    {
     "name": "stdin",
     "output_type": "stream",
     "text": [
      "Please eneter the purchase amount 2500\n"
     ]
    },
    {
     "name": "stdout",
     "output_type": "stream",
     "text": [
      "10% discount is applicable and your final amount to be paid is: 2250.0\n"
     ]
    }
   ],
   "source": [
    "#26  Implement a program to calculate the discounted price based on different purchase amounts using elif statements\n",
    "a=int(input(\"Please eneter the purchase amount\"))\n",
    "if a>4000 and a<=5000:\n",
    "    print(\"30% discount is applicable and your final amount to be paid is:\",a-(a*0.3))\n",
    "elif a>3000 and a<=4000:\n",
    "    print(\"20% discount is applicable and your final amount to be paid is:\",a-(a*0.2))\n",
    "elif a>2000 and a<=3000:\n",
    "    print(\"10% discount is applicable and your final amount to be paid is:\",a-(a*0.1))\n",
    "else:\n",
    "    print(\"No Discount Total amount has to be paid\",a)"
   ]
  },
  {
   "cell_type": "code",
   "execution_count": 23,
   "id": "ed027282-5715-4537-ab20-69a34ae5d736",
   "metadata": {},
   "outputs": [
    {
     "name": "stdin",
     "output_type": "stream",
     "text": [
      "Please emter the units consumed 200\n"
     ]
    },
    {
     "name": "stdout",
     "output_type": "stream",
     "text": [
      "The current bill is 790.0\n"
     ]
    }
   ],
   "source": [
    "#27 Develop a program to calculate the electricity bill based on different consumption slabs using elif statements\n",
    "a=int(input(\"Please emter the units consumed\"))\n",
    "if a>=0 and a<=50:\n",
    "    print(\"The current bill is\",a*1.9)\n",
    "elif a>50 and a<100:\n",
    "    print(\"The current bill is\",((50*1.9)+((a-50)*3.1)))\n",
    "elif a==100:\n",
    "    print(\"The current bill is\",a*3.4)\n",
    "elif a>100 and a<=200:\n",
    "    print(\"The current bill is\",((100*3.4)+((a-100)*4.5)))\n",
    "else:\n",
    "    print(\"The current bill is\",a*5)"
   ]
  },
  {
   "cell_type": "code",
   "execution_count": 1,
   "id": "d0e35ead-6451-498e-a91a-78145adc1621",
   "metadata": {},
   "outputs": [
    {
     "name": "stdin",
     "output_type": "stream",
     "text": [
      "Please enter the first side 1\n",
      "Please enter the second side 1\n",
      "Please enter the third side 1\n",
      "Please enter the fourth side 1\n"
     ]
    },
    {
     "name": "stdout",
     "output_type": "stream",
     "text": [
      "Square\n"
     ]
    }
   ],
   "source": [
    "#28  Create a program to determine the type of quadrilateral based on its angles and sides using elif statement\n",
    "a=int(input(\"Please enter the first side\"))\n",
    "b=int(input(\"Please enter the second side\"))\n",
    "c=int(input(\"Please enter the third side\"))\n",
    "d=int(input(\"Please enter the fourth side\"))\n",
    "if a == b == c == d:\n",
    "    print(\"Square\")\n",
    "elif a == c and b == d:\n",
    "    if a == b:\n",
    "        print(\"Rectangle\")\n",
    "    else:\n",
    "        print(\"Parallelogram\")\n",
    "elif a == b and c == d:\n",
    "    print(\"Parallelogram\")\n",
    "elif a == c and b == d:\n",
    "    print(\"Parallelogram\")\n",
    "elif a == b == c or b == c == d or a == c == d or a == b == d:\n",
    "    print(\"Rhombus\")\n",
    "else:\n",
    "    print(\"Quadrilateral\")"
   ]
  },
  {
   "cell_type": "code",
   "execution_count": 3,
   "id": "f340a74a-93a9-4966-9b2f-6a3b2c701849",
   "metadata": {},
   "outputs": [
    {
     "name": "stdin",
     "output_type": "stream",
     "text": [
      "Please enter the month january\n"
     ]
    },
    {
     "name": "stdout",
     "output_type": "stream",
     "text": [
      "Winter\n"
     ]
    }
   ],
   "source": [
    "#29 Write a Python script to determine the season based on a user-provided month using elif statements\n",
    "ses=input(\"Please enter the month\")\n",
    "if ses.upper() == \"MARCH\" or ses.upper() == \"APRIL\" or ses.upper() == \"MAY\":\n",
    "    print(\"Spring\")\n",
    "elif ses.upper() == \"JUNE\" or ses.upper() == \"JULY\" or ses.upper() == \"AUGUST\":\n",
    "    print(\"Summer\")\n",
    "elif ses.upper() == \"SEPTEMBER\" or ses.upper() == \"OCTOBER\" or ses.upper() == \"NOVEMBER\":\n",
    "    print(\"Autumn\")\n",
    "else:\n",
    "    print(\"Winter\")"
   ]
  },
  {
   "cell_type": "code",
   "execution_count": 3,
   "id": "d2e4781c-0ba4-47d0-81ed-fec40afb1ab3",
   "metadata": {},
   "outputs": [
    {
     "name": "stdin",
     "output_type": "stream",
     "text": [
      "Please enter the year 1996\n",
      "Please enter the number of the month 2\n"
     ]
    },
    {
     "name": "stdout",
     "output_type": "stream",
     "text": [
      "Leap Year\n",
      "29 days of feb\n"
     ]
    }
   ],
   "source": [
    "#30 Implement a program to determine the type of a year (leap or common) and month (30 or 31 days) using elif statements.\n",
    "a=int(input(\"Please enter the year\"))\n",
    "b=int(input(\"Please enter the number of the month\"))\n",
    "if a%4==0:\n",
    "    if a%100==0:\n",
    "        if a%400 ==0:\n",
    "            print(\"Leap Year\")\n",
    "            if b==2:\n",
    "                print(\"29 days of feb\")\n",
    "        else:\n",
    "            print(\"Not a Leap year\")\n",
    "            if b==2:\n",
    "                print(\"28 days of feb\")\n",
    "    else:\n",
    "        print(\"Leap Year\")\n",
    "        if b==2:\n",
    "            print(\"29 days of feb\")\n",
    "else:\n",
    "    print(\"Not a Leap Year\")\n",
    "if b in {1, 3, 5, 7, 8, 10, 12}:\n",
    "    print(\"31 days in the month\")\n",
    "elif b in {4, 6, 9, 11}:\n",
    "    print(\"30 days in the month\")"
   ]
  },
  {
   "cell_type": "code",
   "execution_count": null,
   "id": "7bd04222-987b-4138-b5dd-9216f2223a9d",
   "metadata": {},
   "outputs": [],
   "source": []
  }
 ],
 "metadata": {
  "kernelspec": {
   "display_name": "Python 3 (ipykernel)",
   "language": "python",
   "name": "python3"
  },
  "language_info": {
   "codemirror_mode": {
    "name": "ipython",
    "version": 3
   },
   "file_extension": ".py",
   "mimetype": "text/x-python",
   "name": "python",
   "nbconvert_exporter": "python",
   "pygments_lexer": "ipython3",
   "version": "3.10.8"
  }
 },
 "nbformat": 4,
 "nbformat_minor": 5
}
