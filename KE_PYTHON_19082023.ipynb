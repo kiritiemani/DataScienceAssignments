{
 "cells": [
  {
   "cell_type": "code",
   "execution_count": 6,
   "id": "aefe3b19-7154-4aa2-920e-3247d9f21534",
   "metadata": {},
   "outputs": [
    {
     "name": "stdout",
     "output_type": "stream",
     "text": [
      "The value of x before swapping is  63\n",
      "The value of y before swaping is  54\n",
      "The value of x after swapping is  54\n",
      "The value of y after swaping is  63\n"
     ]
    }
   ],
   "source": [
    "x=63\n",
    "y=54\n",
    "print(\"The value of x before swapping is \",x)\n",
    "print(\"The value of y before swaping is \",y)\n",
    "x=x+y\n",
    "y=x-y\n",
    "x=x-y\n",
    "print(\"The value of x after swapping is \",x)\n",
    "print(\"The value of y after swaping is \",y)"
   ]
  },
  {
   "cell_type": "code",
   "execution_count": 8,
   "id": "2a0dd2d1-9f63-47f1-9b62-c90a8878cf82",
   "metadata": {},
   "outputs": [
    {
     "name": "stdin",
     "output_type": "stream",
     "text": [
      " 33.4\n",
      " 44.5\n"
     ]
    },
    {
     "name": "stdout",
     "output_type": "stream",
     "text": [
      "The area of rectangle is 1486.3\n"
     ]
    }
   ],
   "source": [
    "l=float(input())\n",
    "b=float(input())\n",
    "print(\"The area of rectangle is\",l*b)"
   ]
  },
  {
   "cell_type": "code",
   "execution_count": 11,
   "id": "0f17c897-b016-48a6-aa8f-b15939d1f9a3",
   "metadata": {},
   "outputs": [
    {
     "name": "stdin",
     "output_type": "stream",
     "text": [
      " 32\n"
     ]
    },
    {
     "name": "stdout",
     "output_type": "stream",
     "text": [
      "The temperature of 32.0 celsisus is equivalent to 89.6 fahrenheit\n"
     ]
    }
   ],
   "source": [
    "t_c=float(input())\n",
    "t_f=((t_c*9)+160)/5\n",
    "print(\"The temperature of\",t_c,\"celsisus is equivalent to\",t_f,\"fahrenheit\")"
   ]
  },
  {
   "cell_type": "code",
   "execution_count": 12,
   "id": "c07aef5b-9749-49cf-accb-1f33aebfda75",
   "metadata": {},
   "outputs": [
    {
     "name": "stdin",
     "output_type": "stream",
     "text": [
      " kiriti\n"
     ]
    },
    {
     "name": "stdout",
     "output_type": "stream",
     "text": [
      "The Length of the string kiriti is 6\n"
     ]
    }
   ],
   "source": [
    "a=input()\n",
    "print(\"The Length of the string\",a,\"is\",len(a))"
   ]
  },
  {
   "cell_type": "code",
   "execution_count": 23,
   "id": "eb12ae36-a9a3-4092-adbf-5a71d929a358",
   "metadata": {},
   "outputs": [
    {
     "name": "stdin",
     "output_type": "stream",
     "text": [
      " RACEcar\n"
     ]
    },
    {
     "name": "stdout",
     "output_type": "stream",
     "text": [
      "The no of vowels in the string RACEcar are 3\n"
     ]
    }
   ],
   "source": [
    "b=input()\n",
    "c=(b.count('a') + b.count('A'))+(b.count('e') + b.count('E'))+(b.count('i') + b.count('I'))+(b.count('o') + b.count('O'))+(b.count('u') + b.count('U'))\n",
    "print(\"The no of vowels in the string\",b,\"are\",c)"
   ]
  },
  {
   "cell_type": "code",
   "execution_count": 25,
   "id": "02ba7bab-8659-4d7f-b5b6-99cbec2b9fa6",
   "metadata": {},
   "outputs": [
    {
     "name": "stdin",
     "output_type": "stream",
     "text": [
      " Kiriti\n"
     ]
    },
    {
     "name": "stdout",
     "output_type": "stream",
     "text": [
      "The given string Kiriti in the reverse order is itiriK\n"
     ]
    }
   ],
   "source": [
    "a=input()\n",
    "print(\"The given string\",a,\"in the reverse order is\",a[::-1])"
   ]
  },
  {
   "cell_type": "code",
   "execution_count": 39,
   "id": "b7b63a8c-ec5e-49f8-b56e-816b193ab7a6",
   "metadata": {},
   "outputs": [
    {
     "name": "stdin",
     "output_type": "stream",
     "text": [
      " Malayalam\n"
     ]
    },
    {
     "name": "stdout",
     "output_type": "stream",
     "text": [
      "The String Malayalam is palindrome : True\n"
     ]
    }
   ],
   "source": [
    "a=input()\n",
    "b=a.upper()\n",
    "print(\"The String\",a,\"is palindrome :\",b[::-1]==b)"
   ]
  },
  {
   "cell_type": "code",
   "execution_count": 42,
   "id": "04fa7ec4-5cf7-48f0-ab81-fdce80f5b129",
   "metadata": {},
   "outputs": [
    {
     "name": "stdin",
     "output_type": "stream",
     "text": [
      "   Hello World   \n"
     ]
    },
    {
     "name": "stdout",
     "output_type": "stream",
     "text": [
      "The String   Hello World    after removal of spaces is Hello World\n"
     ]
    }
   ],
   "source": [
    "a=input()\n",
    "print(\"The String\",a,\"after removal of spaces is\",a.strip())"
   ]
  }
 ],
 "metadata": {
  "kernelspec": {
   "display_name": "Python 3 (ipykernel)",
   "language": "python",
   "name": "python3"
  },
  "language_info": {
   "codemirror_mode": {
    "name": "ipython",
    "version": 3
   },
   "file_extension": ".py",
   "mimetype": "text/x-python",
   "name": "python",
   "nbconvert_exporter": "python",
   "pygments_lexer": "ipython3",
   "version": "3.10.8"
  }
 },
 "nbformat": 4,
 "nbformat_minor": 5
}
