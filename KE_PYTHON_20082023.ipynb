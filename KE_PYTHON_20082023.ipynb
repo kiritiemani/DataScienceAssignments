{
 "cells": [
  {
   "cell_type": "code",
   "execution_count": 1,
   "id": "6c9a3276-952d-4e8e-b9e4-ad41786e7113",
   "metadata": {},
   "outputs": [],
   "source": [
    "s1=\"kiriti\""
   ]
  },
  {
   "cell_type": "code",
   "execution_count": 2,
   "id": "ba803f1e-84e6-44ce-8b1a-53e1974377f2",
   "metadata": {},
   "outputs": [
    {
     "data": {
      "text/plain": [
       "'kiriti'"
      ]
     },
     "execution_count": 2,
     "metadata": {},
     "output_type": "execute_result"
    }
   ],
   "source": [
    "s1"
   ]
  },
  {
   "cell_type": "code",
   "execution_count": 3,
   "id": "f48f5769-a479-4c05-ac72-341fd48a67f2",
   "metadata": {},
   "outputs": [
    {
     "data": {
      "text/plain": [
       "str"
      ]
     },
     "execution_count": 3,
     "metadata": {},
     "output_type": "execute_result"
    }
   ],
   "source": [
    "type(s1)"
   ]
  },
  {
   "cell_type": "code",
   "execution_count": 4,
   "id": "c7a56fd7-37f8-404d-8ed9-994f72e1fdb5",
   "metadata": {},
   "outputs": [
    {
     "data": {
      "text/plain": [
       "'itirik'"
      ]
     },
     "execution_count": 4,
     "metadata": {},
     "output_type": "execute_result"
    }
   ],
   "source": [
    "#1 program to reverse a string.\n",
    "s1[::-1]"
   ]
  },
  {
   "cell_type": "code",
   "execution_count": 11,
   "id": "eb907d01-9cfe-480a-821a-ba512dc71cbf",
   "metadata": {},
   "outputs": [
    {
     "name": "stdin",
     "output_type": "stream",
     "text": [
      " Racecar\n"
     ]
    },
    {
     "name": "stdout",
     "output_type": "stream",
     "text": [
      "The given string Racecar is palindrome: True\n"
     ]
    }
   ],
   "source": [
    "#2 program to Check if a string is a palindrome.\n",
    "s2=input()\n",
    "print('The given string',s2,'is palindrome:' ,s2.lower()==s2.lower()[::-1])"
   ]
  },
  {
   "cell_type": "code",
   "execution_count": 1,
   "id": "ef6bd56b-3ae3-460d-b0a8-e6927ecae9ad",
   "metadata": {},
   "outputs": [
    {
     "name": "stdin",
     "output_type": "stream",
     "text": [
      "Please enter the string kiriti\n"
     ]
    },
    {
     "data": {
      "text/plain": [
       "'KIRITI'"
      ]
     },
     "execution_count": 1,
     "metadata": {},
     "output_type": "execute_result"
    }
   ],
   "source": [
    "#3 program to Convert a string to uppercase.\n",
    "s1=input(\"Please enter the string\")\n",
    "print(s1.upper())"
   ]
  },
  {
   "cell_type": "code",
   "execution_count": 2,
   "id": "c51f11ba-4dd7-4c82-aa4b-ecc5f1af25c5",
   "metadata": {},
   "outputs": [
    {
     "name": "stdin",
     "output_type": "stream",
     "text": [
      "Please enter the string kiriti\n"
     ]
    },
    {
     "data": {
      "text/plain": [
       "'kiriti'"
      ]
     },
     "execution_count": 2,
     "metadata": {},
     "output_type": "execute_result"
    }
   ],
   "source": [
    "#4 program to Convert a string to lowercase.\n",
    "s1=input(\"Please enter the string\")\n",
    "s1.lower()"
   ]
  },
  {
   "cell_type": "code",
   "execution_count": 19,
   "id": "60d460e7-b6df-4c4f-9922-b74c49c9beab",
   "metadata": {},
   "outputs": [
    {
     "name": "stdin",
     "output_type": "stream",
     "text": [
      " Kiriti\n"
     ]
    },
    {
     "name": "stdout",
     "output_type": "stream",
     "text": [
      "The no of vowels in the string kiriti is 3\n"
     ]
    }
   ],
   "source": [
    "#5 program to Count the number of vowels in a string.\n",
    "s1=input(\"Please enter the string\")\n",
    "s2=s1.lower()\n",
    "a=s2.count('a')+s2.count('e')+s2.count('i')+s2.count('o')+s2.count('u')\n",
    "print('The no of vowels in the string',s2,'is',a)"
   ]
  },
  {
   "cell_type": "code",
   "execution_count": 2,
   "id": "fb608e71-93b4-413e-8daf-2102193cbcf9",
   "metadata": {},
   "outputs": [
    {
     "name": "stdin",
     "output_type": "stream",
     "text": [
      " fly\n"
     ]
    },
    {
     "name": "stdout",
     "output_type": "stream",
     "text": [
      "The no of consonants in the string fly is 3\n"
     ]
    }
   ],
   "source": [
    "#6 program to Count the number of consonants in a string.\n",
    "s1=input(\"Please enter the string\")\n",
    "s2=s1.lower()\n",
    "b=len(s2)\n",
    "a=s2.count('a')+s2.count('e')+s2.count('i')+s2.count('o')+s2.count('u')\n",
    "print('The no of consonants in the string',s2,'is',b-a)"
   ]
  },
  {
   "cell_type": "code",
   "execution_count": 20,
   "id": "53218616-8cfb-45cc-a97d-283dab636790",
   "metadata": {},
   "outputs": [
    {
     "name": "stdout",
     "output_type": "stream",
     "text": [
      "kiriti\n"
     ]
    }
   ],
   "source": [
    "#7 program to Remove all whitespaces from a string.\n",
    "s1=input(\"Please enter the string\")\n",
    "print(s1.strip())"
   ]
  },
  {
   "cell_type": "code",
   "execution_count": 13,
   "id": "9f7298c9-820c-4913-898c-e7011c9daa3d",
   "metadata": {},
   "outputs": [
    {
     "name": "stdin",
     "output_type": "stream",
     "text": [
      " kirit   i\n"
     ]
    },
    {
     "name": "stdout",
     "output_type": "stream",
     "text": [
      "The length of the string kirit   i is 9\n"
     ]
    }
   ],
   "source": [
    "#8 program to Find the length of a string without using the `len()` function.\n",
    "s1=input(\"Please enter the string\")\n",
    "s1=s2.lower()\n",
    "a=s1.count('a')+s1.count('b')+s1.count('c')+s1.count('d')+s1.count('e')+s1.count('f')+s1.count('g')+s1.count('h')+s1.count('i')+s1.count('j')+s1.count('k')+s1.count('l')+s1.count('m')+s1.count('n')+s1.count('o')+s1.count('p')+s1.count('q')+s1.count('r')+s1.count('s')+s1.count('t')+s1.count('u')+s1.count('v')+s1.count('w')+s1.count('x')+s1.count('y')+s1.count('z')+s1.count(' ')\n",
    "print('The length of the string',s2,'is',a)"
   ]
  },
  {
   "cell_type": "code",
   "execution_count": 28,
   "id": "28ac4ff7-9d42-4fd5-b6cf-d466a72f8304",
   "metadata": {},
   "outputs": [
    {
     "name": "stdin",
     "output_type": "stream",
     "text": [
      " string\n"
     ]
    },
    {
     "name": "stdout",
     "output_type": "stream",
     "text": [
      "The word string is present and starts at 21 index of ' The is to check if a string contains a specific word '\n"
     ]
    }
   ],
   "source": [
    "#9 program to Check if a string contains a specific word.\n",
    "s2=\"The is to check if a string contains a specific word\"\n",
    "s3=input()\n",
    "a=s2.find(s3)\n",
    "print('The word',s3,'is present and starts at',a,'index of',\"'\",s2,\"'\")"
   ]
  },
  {
   "cell_type": "code",
   "execution_count": 32,
   "id": "535cb252-def3-4809-a9fa-035ce3a75425",
   "metadata": {},
   "outputs": [
    {
     "name": "stdout",
     "output_type": "stream",
     "text": [
      "My name is kiriti srirama\n",
      "My name is kiriti emani\n"
     ]
    }
   ],
   "source": [
    "#10 program to Replace a word in a string with another word.\n",
    "s2=\"My name is kiriti emani\"\n",
    "s1=s2.replace(\"emani\",\"srirama\")\n",
    "print(s1)\n",
    "print(s2)"
   ]
  },
  {
   "cell_type": "code",
   "execution_count": 37,
   "id": "1e1ed8dc-9a22-4f7a-820c-3463f258f7c5",
   "metadata": {},
   "outputs": [
    {
     "name": "stdout",
     "output_type": "stream",
     "text": [
      "2\n"
     ]
    }
   ],
   "source": [
    "#11 program to Count the occurrences of a word in a string.\n",
    "s2=\"My name name name is kiriti kiriti emani\"\n",
    "s1=s2.count(\"kiriti\")\n",
    "print(s1)"
   ]
  },
  {
   "cell_type": "code",
   "execution_count": 45,
   "id": "00c755c2-6ccb-42cb-a7ff-bdd6ff0b90f1",
   "metadata": {},
   "outputs": [
    {
     "name": "stdout",
     "output_type": "stream",
     "text": [
      "3\n"
     ]
    }
   ],
   "source": [
    "#12 program to Find the first occurrence of a word in a string.\n",
    "s2=\"My name name name is kiriti emani\"\n",
    "s1=s2.find(\"name\")\n",
    "print(s1)"
   ]
  },
  {
   "cell_type": "code",
   "execution_count": 48,
   "id": "ba03becf-b8de-464a-ab56-f2367d3e7424",
   "metadata": {},
   "outputs": [
    {
     "name": "stdout",
     "output_type": "stream",
     "text": [
      "13\n"
     ]
    }
   ],
   "source": [
    "#13 program to Find the last occurrence of a word in a string.\n",
    "s2=\"My name name name is kiriti emani\"\n",
    "s1=s2.rfind(\"name\")\n",
    "print(s1)"
   ]
  },
  {
   "cell_type": "code",
   "execution_count": 49,
   "id": "81b48234-2a18-49a1-8d54-35088f413829",
   "metadata": {},
   "outputs": [
    {
     "name": "stdout",
     "output_type": "stream",
     "text": [
      "['My', 'name', 'name', 'name', 'is', 'kiriti', 'emani']\n"
     ]
    }
   ],
   "source": [
    "#14 program to Split a string into a list of words.\n",
    "s2=\"My name name name is kiriti emani\"\n",
    "s1=s2.split()\n",
    "print(s1)"
   ]
  },
  {
   "cell_type": "code",
   "execution_count": 59,
   "id": "60658de8-988c-47e1-b802-04bff61962f1",
   "metadata": {},
   "outputs": [
    {
     "name": "stdout",
     "output_type": "stream",
     "text": [
      "My name name name is kiriti emani\n"
     ]
    }
   ],
   "source": [
    "#15 program to Join a list of words into a string.\n",
    "l1=['My', 'name', 'name', 'name', 'is', 'kiriti', 'emani']\n",
    "s8=' '.join(l1)\n",
    "print(s8)"
   ]
  },
  {
   "cell_type": "code",
   "execution_count": 65,
   "id": "d65ae257-2968-4ced-bf57-5e048374fc73",
   "metadata": {},
   "outputs": [
    {
     "name": "stdout",
     "output_type": "stream",
     "text": [
      "My_name_name_name_is_kiriti_emani\n"
     ]
    }
   ],
   "source": [
    "#16 program to Convert a string where words are separated by spaces to one where words are separated by underscores.\n",
    "s2=\"My name name name is kiriti emani\"\n",
    "s1=s2.replace(' ','_')\n",
    "print(s1)"
   ]
  },
  {
   "cell_type": "code",
   "execution_count": 72,
   "id": "bd94addd-3156-41f0-80f0-7806d1be787d",
   "metadata": {},
   "outputs": [
    {
     "name": "stdout",
     "output_type": "stream",
     "text": [
      "True\n"
     ]
    }
   ],
   "source": [
    "#17 program to Check if a string starts with a specific word or phrase.\n",
    "s2=\"My name name name is kiriti emani\"\n",
    "s1=s2.startswith(\"My\")\n",
    "print(s1)"
   ]
  },
  {
   "cell_type": "code",
   "execution_count": 77,
   "id": "496894b2-e783-40ed-a6a3-e6f73a43dca1",
   "metadata": {},
   "outputs": [
    {
     "name": "stdout",
     "output_type": "stream",
     "text": [
      "True\n"
     ]
    }
   ],
   "source": [
    "#18 program to Check if a string ends with a specific word or phrase.\n",
    "s2=\"My name name name is kiriti emani\"\n",
    "s1=s2.endswith(\"emani\")\n",
    "print(s1)"
   ]
  },
  {
   "cell_type": "code",
   "execution_count": 79,
   "id": "1c266df0-e8d8-45af-b45c-70b84ef3d823",
   "metadata": {},
   "outputs": [
    {
     "name": "stdout",
     "output_type": "stream",
     "text": [
      "Hello World\n"
     ]
    }
   ],
   "source": [
    "#19 program to Convert a string to title case (e.g., \"hello world\" to \"Hello World\").\n",
    "s2=\"hello world\"\n",
    "s1=s2.title()\n",
    "print(s1)"
   ]
  },
  {
   "cell_type": "code",
   "execution_count": 135,
   "id": "acf35930-dd6d-4a88-8490-3094e0da3c57",
   "metadata": {},
   "outputs": [
    {
     "name": "stdout",
     "output_type": "stream",
     "text": [
      "['My', 'name', 'is', 'kiriti', 'emani']\n"
     ]
    },
    {
     "data": {
      "text/plain": [
       "'kiriti'"
      ]
     },
     "execution_count": 135,
     "metadata": {},
     "output_type": "execute_result"
    }
   ],
   "source": [
    "#20 program to Find the longest word in a string.\n",
    "s2=\"My name is kiriti emani\"\n",
    "l1=s2.split()\n",
    "print(l1)\n",
    "max(l1,key=len)"
   ]
  },
  {
   "cell_type": "code",
   "execution_count": 134,
   "id": "c4691cf2-eb20-4fe8-ab1a-048d044dea38",
   "metadata": {},
   "outputs": [
    {
     "name": "stdout",
     "output_type": "stream",
     "text": [
      "['My', 'name', 'is', 'kiriti', 'emani']\n"
     ]
    },
    {
     "data": {
      "text/plain": [
       "'My'"
      ]
     },
     "execution_count": 134,
     "metadata": {},
     "output_type": "execute_result"
    }
   ],
   "source": [
    "#21 program to Find the shortest word in a string.\n",
    "s2=\"My name is kiriti emani\"\n",
    "l1=s2.split()\n",
    "print(l1)\n",
    "min(l1,key=len)"
   ]
  },
  {
   "cell_type": "code",
   "execution_count": 133,
   "id": "db847eea-9e81-4afd-b204-529986820aa0",
   "metadata": {},
   "outputs": [
    {
     "data": {
      "text/plain": [
       "'emani kiriti is name My'"
      ]
     },
     "execution_count": 133,
     "metadata": {},
     "output_type": "execute_result"
    }
   ],
   "source": [
    "#22 program to Reverse the order of words in a string.\n",
    "s2=\"My name is kiriti emani\"\n",
    "l1=s2.split()\n",
    "l2=l1[::-1]\n",
    "' '.join(l2)"
   ]
  },
  {
   "cell_type": "code",
   "execution_count": 143,
   "id": "e9a57122-ed63-4523-8371-7cf111206127",
   "metadata": {},
   "outputs": [
    {
     "data": {
      "text/plain": [
       "True"
      ]
     },
     "execution_count": 143,
     "metadata": {},
     "output_type": "execute_result"
    }
   ],
   "source": [
    "#23 program to Check if a string is alphanumeric.\n",
    "s2=\"Myphonenumberis9991234567\"\n",
    "s2.isalnum()"
   ]
  },
  {
   "cell_type": "code",
   "execution_count": 1,
   "id": "28f5f058-fe68-41b8-a997-0aa97be8166e",
   "metadata": {},
   "outputs": [
    {
     "name": "stdout",
     "output_type": "stream",
     "text": [
      "9991234567\n"
     ]
    }
   ],
   "source": [
    "#24 program to Extract all digits from a string.\n",
    "s2=\"Myphonenumberis9991234567\"\n",
    "c=\"\"\n",
    "for i in s2:\n",
    "    if i.isdigit():\n",
    "        c=c+i\n",
    "print(c)"
   ]
  },
  {
   "cell_type": "code",
   "execution_count": 2,
   "id": "21648d8a-dd93-4624-bd90-6400fb057dd9",
   "metadata": {},
   "outputs": [
    {
     "name": "stdout",
     "output_type": "stream",
     "text": [
      "Myphonenumberis\n"
     ]
    }
   ],
   "source": [
    "#25 program to Extract all alphabets from a string.\n",
    "s2=\"Myphonenumberis9991234567\"\n",
    "c=\"\"\n",
    "for i in s2:\n",
    "    if i.isalpha():\n",
    "        c=c+i\n",
    "print(c)"
   ]
  },
  {
   "cell_type": "code",
   "execution_count": 3,
   "id": "d1eb2b80-33b7-4234-bcce-a55004ffe871",
   "metadata": {},
   "outputs": [
    {
     "name": "stdout",
     "output_type": "stream",
     "text": [
      "5\n"
     ]
    }
   ],
   "source": [
    "#26 program to count number of uppercase letter in  a string.\n",
    "s2=\"MyNameIsKiritI\"\n",
    "c=0\n",
    "for i in s2:\n",
    "    if i.isupper():\n",
    "        c=c+1\n",
    "print(c)"
   ]
  },
  {
   "cell_type": "code",
   "execution_count": 4,
   "id": "b4143eae-b774-4965-955b-c9c0c75369d9",
   "metadata": {},
   "outputs": [
    {
     "name": "stdout",
     "output_type": "stream",
     "text": [
      "9\n"
     ]
    }
   ],
   "source": [
    "#27 program to count number of lowercase letter in  a string.\n",
    "s2=\"MyNameIsKiritI\"\n",
    "c=0\n",
    "for i in s2:\n",
    "    if i.islower():\n",
    "        c=c+1\n",
    "print(c)"
   ]
  },
  {
   "cell_type": "code",
   "execution_count": 5,
   "id": "6d4f5f6e-b145-47db-80f6-9ea94c238fd8",
   "metadata": {},
   "outputs": [
    {
     "name": "stdout",
     "output_type": "stream",
     "text": [
      "mYnAMEiSkIRITi\n"
     ]
    }
   ],
   "source": [
    "#28 program to swap case of eachc haracter in  the string\n",
    "s2=\"MyNameIsKiritI\"\n",
    "s3=s2.swapcase()\n",
    "print(s3)"
   ]
  },
  {
   "cell_type": "code",
   "execution_count": 14,
   "id": "dd8f66c3-3839-4267-bf78-19734986c3c7",
   "metadata": {},
   "outputs": [
    {
     "name": "stdout",
     "output_type": "stream",
     "text": [
      "My name is kiriti emani \n"
     ]
    }
   ],
   "source": [
    "#29 program to Remove a specific word from a string.\n",
    "s2=\"My name is kiriti emani srirama\"\n",
    "s3=s2.replace(\"srirama\",\"\")\n",
    "print(s3)"
   ]
  },
  {
   "cell_type": "code",
   "execution_count": 3,
   "id": "faaff2c3-5c88-4204-890d-4ec91582a54e",
   "metadata": {},
   "outputs": [
    {
     "name": "stdout",
     "output_type": "stream",
     "text": [
      "Valid email address\n"
     ]
    }
   ],
   "source": [
    "#30 program to check if a string is valid email address\n",
    "a=\"kiriti161@gmail.com\"\n",
    "if a.find('@') and a.find('.com'):\n",
    "    print(\"Valid email address\")"
   ]
  },
  {
   "cell_type": "code",
   "execution_count": 6,
   "id": "91ace55b-2331-41be-a282-4e57c5da386f",
   "metadata": {},
   "outputs": [
    {
     "name": "stdout",
     "output_type": "stream",
     "text": [
      "kiriti161\n"
     ]
    }
   ],
   "source": [
    "#31 program to extract username from email\n",
    "a=\"kiriti161@gmail.com\"\n",
    "c=a.find('@')\n",
    "print(a[0:c])"
   ]
  },
  {
   "cell_type": "code",
   "execution_count": 8,
   "id": "151cbae0-3c26-4082-b7e1-35456a92e20d",
   "metadata": {},
   "outputs": [
    {
     "name": "stdout",
     "output_type": "stream",
     "text": [
      "gmail\n"
     ]
    }
   ],
   "source": [
    "#32 program to extract domain from email\n",
    "a=\"kiriti161@gmail.com\"\n",
    "c=a.find('@')\n",
    "d=a.find('.')\n",
    "print(a[c+1:d])"
   ]
  },
  {
   "cell_type": "code",
   "execution_count": 22,
   "id": "3ff3e4f3-4662-48e3-b175-1ba2e396424e",
   "metadata": {},
   "outputs": [
    {
     "name": "stdout",
     "output_type": "stream",
     "text": [
      "sri rama kiriti\n"
     ]
    }
   ],
   "source": [
    "#33 program to Replace multiple spaces in a string with a single space\n",
    "a=\"sri     rama        kiriti\"\n",
    "b=a.split()\n",
    "c=' '.join(b)\n",
    "print(c)"
   ]
  },
  {
   "cell_type": "code",
   "execution_count": 4,
   "id": "caf5dc4c-636e-4dd9-ad8d-bd28ba60d7c0",
   "metadata": {},
   "outputs": [
    {
     "name": "stdin",
     "output_type": "stream",
     "text": [
      "Enter the url https://www.example.com\n"
     ]
    },
    {
     "name": "stdout",
     "output_type": "stream",
     "text": [
      "Valid url address\n"
     ]
    }
   ],
   "source": [
    "#34 program to check  if a string is a valid URL\n",
    "a=input(\"Enter the url\")\n",
    "if (a.find('http://') or a.find('https://')) and a.find('.com'):\n",
    "    print(\"Valid url address\")\n",
    "else:\n",
    "    print(\"Invalid url address\")"
   ]
  },
  {
   "cell_type": "code",
   "execution_count": 6,
   "id": "f789c856-489a-4764-af29-4b6d972fe9fc",
   "metadata": {},
   "outputs": [
    {
     "name": "stdout",
     "output_type": "stream",
     "text": [
      "https\n"
     ]
    }
   ],
   "source": [
    "#35 program to extract protocol\n",
    "a=\"https://www.example.com\"\n",
    "c=a.find('www.')\n",
    "print(a[0:c-3])"
   ]
  },
  {
   "cell_type": "code",
   "execution_count": 16,
   "id": "5be006ea-bba1-4892-9747-78f017b8dc2a",
   "metadata": {},
   "outputs": [
    {
     "name": "stdin",
     "output_type": "stream",
     "text": [
      "Please enter the string india\n"
     ]
    },
    {
     "name": "stdout",
     "output_type": "stream",
     "text": [
      "{'i': 2, 'n': 1, 'd': 1, 'a': 1}\n"
     ]
    }
   ],
   "source": [
    "#36 program to Find the frequency of each character in a string\n",
    "a=input(\"Please enter the string\")\n",
    "b={}\n",
    "for i in a:\n",
    "    if i in b:\n",
    "        b[i]+=1\n",
    "    else:\n",
    "        b[i]=1\n",
    "print(b)"
   ]
  },
  {
   "cell_type": "code",
   "execution_count": 36,
   "id": "77ce37ef-922b-448e-bd89-4e0acf04682a",
   "metadata": {},
   "outputs": [
    {
     "name": "stdin",
     "output_type": "stream",
     "text": [
      "Please enter the string hello!world!\n"
     ]
    },
    {
     "name": "stdout",
     "output_type": "stream",
     "text": [
      "helloworld\n"
     ]
    }
   ],
   "source": [
    "#37 program to remove punctuations\n",
    "a=input(\"Please enter the string\")\n",
    "translator = str.maketrans(\"\",\"\",\"\"\"!\"#$%&'()*+,-./:;<=>?@[\\]^_`{|}~\"\"\")\n",
    "clean_string = a.translate(translator)\n",
    "print(clean_string)"
   ]
  },
  {
   "cell_type": "code",
   "execution_count": 39,
   "id": "91a00a3a-b617-4f0e-a748-dde3f04a0843",
   "metadata": {},
   "outputs": [
    {
     "name": "stdin",
     "output_type": "stream",
     "text": [
      "Please enter the string kiriti123\n"
     ]
    },
    {
     "name": "stdout",
     "output_type": "stream",
     "text": [
      "The given string kiriti123 doesnot contains only alphabets\n"
     ]
    }
   ],
   "source": [
    "#38\n",
    "a=input(\"Please enter the string\")\n",
    "if a.isalpha():\n",
    "    print(\"The given string\",a, \"contains only alphabets\")\n",
    "else:\n",
    "    print(\"The given string\",a, \"doesnot contains only alphabets\")"
   ]
  },
  {
   "cell_type": "code",
   "execution_count": 55,
   "id": "cdae63f1-71ed-468f-90cc-ff0b04fc54cd",
   "metadata": {},
   "outputs": [
    {
     "name": "stdin",
     "output_type": "stream",
     "text": [
      "Please enter the string 21234\n"
     ]
    },
    {
     "name": "stdout",
     "output_type": "stream",
     "text": [
      "The given string 21234 contains only digits\n"
     ]
    }
   ],
   "source": [
    "#39\n",
    "a=input(\"Please enter the string\")\n",
    "if a.isdigit():\n",
    "    print(\"The given string\",a, \"contains only digits\")\n",
    "else:\n",
    "    print(\"The given string\",a, \"doesnot contains only digits\")"
   ]
  },
  {
   "cell_type": "code",
   "execution_count": 58,
   "id": "9b989c67-6288-4c41-b987-9b22648e1343",
   "metadata": {},
   "outputs": [
    {
     "name": "stdin",
     "output_type": "stream",
     "text": [
      "Please enter the string kiriti\n"
     ]
    },
    {
     "name": "stdout",
     "output_type": "stream",
     "text": [
      "The string after coverting to list is : ['k', 'i', 'r', 'i', 't', 'i']\n"
     ]
    }
   ],
   "source": [
    "#40\n",
    "a=input(\"Please enter the string\")\n",
    "b=list(a)\n",
    "print(\"The string after coverting to list is :\",b)"
   ]
  },
  {
   "cell_type": "code",
   "execution_count": 63,
   "id": "6a09322d-f801-4c3d-832a-73f03fd2f7b6",
   "metadata": {},
   "outputs": [
    {
     "name": "stdin",
     "output_type": "stream",
     "text": [
      "please enter string1 kiriti\n",
      "please enter string2 itiirk\n"
     ]
    },
    {
     "name": "stdout",
     "output_type": "stream",
     "text": [
      "The strings are anagram\n"
     ]
    }
   ],
   "source": [
    "#41\n",
    "s1=input(\"please enter string1\")\n",
    "s2=input(\"please enter string2\")\n",
    "if sorted(s1)==sorted(s2):\n",
    "    print('The strings are anagram')\n",
    "else:\n",
    "    print('The strings are not anagrams')"
   ]
  },
  {
   "cell_type": "code",
   "execution_count": 69,
   "id": "b44bcb08-1130-4872-9d59-faec94a22a07",
   "metadata": {},
   "outputs": [
    {
     "name": "stdin",
     "output_type": "stream",
     "text": [
      "please enter string Kiriti\n",
      "enter the shift 3\n"
     ]
    },
    {
     "name": "stdout",
     "output_type": "stream",
     "text": [
      "nlulwl\n"
     ]
    }
   ],
   "source": [
    "#42\n",
    "s1=input(\"please enter string\")\n",
    "shift=int(input(\"enter the shift\"))\n",
    "s2=s1.lower()\n",
    "encoded_text=\"\"\n",
    "for char in s2:\n",
    "    if char.isalpha():\n",
    "        encoded_char = chr(ord(char) + shift)\n",
    "    else:\n",
    "        encoded_char = char\n",
    "    encoded_text += encoded_char\n",
    "print(encoded_text)"
   ]
  },
  {
   "cell_type": "code",
   "execution_count": 71,
   "id": "4b325855-3733-4271-8fc4-e096577f3ca5",
   "metadata": {},
   "outputs": [
    {
     "name": "stdin",
     "output_type": "stream",
     "text": [
      "please enter string nlulwl\n",
      "enter the shift 3\n"
     ]
    },
    {
     "name": "stdout",
     "output_type": "stream",
     "text": [
      "Kiriti\n"
     ]
    }
   ],
   "source": [
    "#43\n",
    "s1=input(\"please enter string\")\n",
    "shift=int(input(\"enter the shift\"))\n",
    "s2=s1.lower()\n",
    "encoded_text=\"\"\n",
    "for char in s2:\n",
    "    if char.isalpha():\n",
    "        encoded_char = chr(ord(char) - shift)\n",
    "    else:\n",
    "        encoded_char = char\n",
    "    encoded_text += encoded_char\n",
    "print(encoded_text.capitalize())"
   ]
  },
  {
   "cell_type": "code",
   "execution_count": 12,
   "id": "756e2b56-219e-4c94-8acd-901f5e434bf7",
   "metadata": {},
   "outputs": [
    {
     "name": "stdin",
     "output_type": "stream",
     "text": [
      "Please enter the string Hello world, hello there! How's the world\n"
     ]
    },
    {
     "name": "stdout",
     "output_type": "stream",
     "text": [
      "<class 'collections.Counter'>\n",
      "hello\n"
     ]
    }
   ],
   "source": [
    "#44\n",
    "from collections import Counter\n",
    "a=input(\"Please enter the string\")\n",
    "translator = str.maketrans(\"\",\"\",\"\"\"!\"#$%&'()*+,-./:;<=>?@[\\]^_`{|}~\"\"\")\n",
    "clean_string = a.translate(translator).lower()\n",
    "split=clean_string.split()\n",
    "wc=Counter(split)\n",
    "most_common_word = wc.most_common(1)[0][0]\n",
    "print(most_common_word)"
   ]
  },
  {
   "cell_type": "code",
   "execution_count": 15,
   "id": "6d33b2bd-cbe3-4412-b6a7-3f4997d39bc1",
   "metadata": {},
   "outputs": [
    {
     "name": "stdin",
     "output_type": "stream",
     "text": [
      "Please enter the string Hello world, hello there! How's the world\n"
     ]
    },
    {
     "name": "stdout",
     "output_type": "stream",
     "text": [
      "{'world', 'hello', 'hows', 'the', 'there'}\n"
     ]
    }
   ],
   "source": [
    "#45\n",
    "a=input(\"Please enter the string\")\n",
    "translator = str.maketrans(\"\",\"\",\"\"\"!\"#$%&'()*+,-./:;<=>?@[\\]^_`{|}~\"\"\")\n",
    "clean_string = a.translate(translator).lower()\n",
    "split=clean_string.split()\n",
    "final_list=set(split)\n",
    "print(final_list)"
   ]
  },
  {
   "cell_type": "code",
   "execution_count": 19,
   "id": "cca63e64-e596-4c10-89f3-cde96f6aba57",
   "metadata": {},
   "outputs": [
    {
     "name": "stdin",
     "output_type": "stream",
     "text": [
      "Please enter the string banana\n"
     ]
    },
    {
     "name": "stdout",
     "output_type": "stream",
     "text": [
      "Syllables are  3\n"
     ]
    }
   ],
   "source": [
    "#46\n",
    "a=input(\"Please enter the string\").lower()\n",
    "count=0\n",
    "for i in a:\n",
    "    if i in ['a','e','i','o','y']:\n",
    "        count+=1\n",
    "print(\"Syllables are \",count)"
   ]
  },
  {
   "cell_type": "code",
   "execution_count": 3,
   "id": "4103218d-1fba-46df-bbc9-8974c2bc9be0",
   "metadata": {},
   "outputs": [
    {
     "name": "stdin",
     "output_type": "stream",
     "text": [
      "Please enter the string Hello world, hello there! How's the world\n"
     ]
    },
    {
     "name": "stdout",
     "output_type": "stream",
     "text": [
      "The string contains special characters 3\n"
     ]
    }
   ],
   "source": [
    "#47\n",
    "a=input(\"Please enter the string\")\n",
    "chk = (\"\"\"!\"#$%&'()*+,-./:;<=>?@[\\]^_`{|}~\"\"\")\n",
    "count=0\n",
    "for i in a:\n",
    "    if i in chk:\n",
    "        count+=1\n",
    "if count>0:\n",
    "    print(\"The string contains special characters\",count)\n",
    "else:\n",
    "    print(\"The string does not contains special characters\")"
   ]
  },
  {
   "cell_type": "code",
   "execution_count": 14,
   "id": "a41ea665-7149-4042-9b8e-d338b5bb7a58",
   "metadata": {},
   "outputs": [
    {
     "name": "stdin",
     "output_type": "stream",
     "text": [
      "Please enter the string sri rama kriti emani pwskills\n",
      "Enter which word to remove 3\n"
     ]
    },
    {
     "name": "stdout",
     "output_type": "stream",
     "text": [
      "sri rama emani pwskills\n"
     ]
    }
   ],
   "source": [
    "#48\n",
    "a=input(\"Please enter the string\")\n",
    "l=int(input(\"Enter at which position word to remove\"))\n",
    "b=a.split()\n",
    "c=b.pop(l-1)\n",
    "d=' '.join(b)\n",
    "print(d)"
   ]
  },
  {
   "cell_type": "code",
   "execution_count": 17,
   "id": "016c4fda-1b0d-48db-a0e4-e6984a5b2c29",
   "metadata": {},
   "outputs": [
    {
     "name": "stdin",
     "output_type": "stream",
     "text": [
      "Please enter the string sri rama kriti\n",
      "Enter at which position word to add 1\n",
      "Please enter the new string emani\n"
     ]
    },
    {
     "name": "stdout",
     "output_type": "stream",
     "text": [
      "emani sri rama kriti\n"
     ]
    }
   ],
   "source": [
    "#49\n",
    "a=input(\"Please enter the string\")\n",
    "l=int(input(\"Enter at which position word to add\"))\n",
    "n=input(\"Please enter the new string\")\n",
    "b=a.split()\n",
    "c=b.insert(l-1,n)\n",
    "d=' '.join(b)\n",
    "print(d)"
   ]
  },
  {
   "cell_type": "code",
   "execution_count": 31,
   "id": "d46b9206-4b7f-4c9f-8658-03aa3a2b1040",
   "metadata": {},
   "outputs": [
    {
     "name": "stdin",
     "output_type": "stream",
     "text": [
      "Please enter the string Name, Age, Country\\nJohn, 25, USA\\nAlice, 30, Canada\\nBob, 22, UK\n"
     ]
    },
    {
     "name": "stdout",
     "output_type": "stream",
     "text": [
      "['Name', ' Age', ' Country']\n",
      "['John', ' 25', ' USA']\n",
      "['Alice', ' 30', ' Canada']\n",
      "['Bob', ' 22', ' UK']\n"
     ]
    }
   ],
   "source": [
    "#50\n",
    "a=input(\"Please enter the string\")\n",
    "b=a.split('\\\\n')\n",
    "for i in b:\n",
    "    d=i.split(',')\n",
    "    print(d)"
   ]
  },
  {
   "cell_type": "code",
   "execution_count": 38,
   "id": "ac821e97-8fb6-4145-a665-d47d0bd686bc",
   "metadata": {},
   "outputs": [
    {
     "name": "stdout",
     "output_type": "stream",
     "text": [
      "[1, 2, 3, 4, 5, 6, 7, 8, 9, 10]\n"
     ]
    }
   ],
   "source": [
    "##############lists assignment#################\n",
    "#1\n",
    "c=[i+1 for i in range(10)]\n",
    "print(c)"
   ]
  },
  {
   "cell_type": "code",
   "execution_count": 59,
   "id": "a3f75653-d875-4cd2-92f7-6a88b3f5e53d",
   "metadata": {},
   "outputs": [
    {
     "name": "stdout",
     "output_type": "stream",
     "text": [
      "The lenght of the list is 5\n"
     ]
    }
   ],
   "source": [
    "#2\n",
    "count=0\n",
    "for i in [1,2,3,4,5]:\n",
    "    count+=1\n",
    "print('The lenght of the list is',count)"
   ]
  },
  {
   "cell_type": "code",
   "execution_count": 58,
   "id": "037a61e8-8e7a-4251-afce-a229ffdc054d",
   "metadata": {},
   "outputs": [
    {
     "name": "stdin",
     "output_type": "stream",
     "text": [
      "Enter the element that you want to add at the end of the lsit 6\n"
     ]
    },
    {
     "name": "stdout",
     "output_type": "stream",
     "text": [
      "[1, 2, 3, 4, 5, 6]\n"
     ]
    }
   ],
   "source": [
    "#3\n",
    "a=[1,2,3,4,5]\n",
    "c=int(input(\"Enter the element that you want to add at the end of the lsit\"))\n",
    "a.append(c)\n",
    "print(a)"
   ]
  },
  {
   "cell_type": "code",
   "execution_count": 61,
   "id": "1ffa2eab-4306-4bc2-8bbc-01c887210c4e",
   "metadata": {},
   "outputs": [
    {
     "name": "stdin",
     "output_type": "stream",
     "text": [
      "At which index you want to add the element 4\n",
      "Enter the element 66\n"
     ]
    },
    {
     "name": "stdout",
     "output_type": "stream",
     "text": [
      "[1, 2, 3, 66, 4, 5]\n"
     ]
    }
   ],
   "source": [
    "#4\n",
    "a=[1,2,3,4,5]\n",
    "c=int(input(\"At which index you want to add the element\"))\n",
    "d=int(input(\"Enter the element\"))\n",
    "a.insert(c-1,d)\n",
    "print(a)"
   ]
  },
  {
   "cell_type": "code",
   "execution_count": 63,
   "id": "9ab5f709-2635-4fcc-bfe5-182b68c8202a",
   "metadata": {},
   "outputs": [
    {
     "name": "stdout",
     "output_type": "stream",
     "text": [
      "[1, 3, 4, 5, 6]\n"
     ]
    }
   ],
   "source": [
    "#5\n",
    "a=[1,2,3,4,5,6]\n",
    "a.remove(2)\n",
    "print(a)"
   ]
  },
  {
   "cell_type": "code",
   "execution_count": 2,
   "id": "1fb75625-e2af-4c01-8879-4d80410d5959",
   "metadata": {},
   "outputs": [
    {
     "name": "stdout",
     "output_type": "stream",
     "text": [
      "[3, 4, 5, 6]\n"
     ]
    }
   ],
   "source": [
    "#6\n",
    "a=[2,3,4,5,6]\n",
    "a.pop(0)\n",
    "print(a)"
   ]
  },
  {
   "cell_type": "code",
   "execution_count": 11,
   "id": "6bc3b262-01d5-467a-a9f8-ac924b03af48",
   "metadata": {},
   "outputs": [
    {
     "name": "stdin",
     "output_type": "stream",
     "text": [
      "enter the element you want to search 7\n"
     ]
    },
    {
     "name": "stdout",
     "output_type": "stream",
     "text": [
      "element doesn't exist\n"
     ]
    }
   ],
   "source": [
    "#7\n",
    "a=[1,2,3,4,5]\n",
    "b=int(input(\"enter the element you want to search\"))\n",
    "c=a.count(b)\n",
    "if c==0:\n",
    "    print(\"element doesn't exist\")\n",
    "else:\n",
    "    print(\"element exists\")"
   ]
  },
  {
   "cell_type": "code",
   "execution_count": 13,
   "id": "68506478-f9c0-4e70-932e-aa08514be583",
   "metadata": {},
   "outputs": [
    {
     "name": "stdin",
     "output_type": "stream",
     "text": [
      "enter the element for which you want to find index 3\n"
     ]
    },
    {
     "name": "stdout",
     "output_type": "stream",
     "text": [
      "2\n"
     ]
    }
   ],
   "source": [
    "#8\n",
    "a=[1,2,3,3,1,4,5,2]\n",
    "c=int(input(\"enter the element for which you want to find index\"))\n",
    "b=a.index(c)\n",
    "print(b)"
   ]
  },
  {
   "cell_type": "code",
   "execution_count": 16,
   "id": "66fee76a-20a1-4225-b6ca-a3bc3195f42e",
   "metadata": {},
   "outputs": [
    {
     "name": "stdin",
     "output_type": "stream",
     "text": [
      "enter the element for which you want to find occurance 2\n"
     ]
    },
    {
     "name": "stdout",
     "output_type": "stream",
     "text": [
      "5\n"
     ]
    }
   ],
   "source": [
    "#9\n",
    "a=[1,2,3,3,1,4,5,2,2,2,2,]\n",
    "c=int(input(\"enter the element for which you want to find occurance\"))\n",
    "b=a.count(c)\n",
    "print(b)"
   ]
  },
  {
   "cell_type": "code",
   "execution_count": 21,
   "id": "135af7d2-8ccc-4f61-bbe3-2a8597740e4a",
   "metadata": {},
   "outputs": [
    {
     "name": "stdout",
     "output_type": "stream",
     "text": [
      "list in reverse order is [2, 2, 2, 2, 5, 4, 1, 3, 3, 2, 1]\n"
     ]
    }
   ],
   "source": [
    "#10\n",
    "a=[1,2,3,3,1,4,5,2,2,2,2]\n",
    "a.reverse()\n",
    "print(\"list in reverse order is\",a)"
   ]
  },
  {
   "cell_type": "code",
   "execution_count": 23,
   "id": "1a920f6e-51e7-47e6-91e8-1fb99b5bf58a",
   "metadata": {},
   "outputs": [
    {
     "name": "stdout",
     "output_type": "stream",
     "text": [
      "[1, 1, 2, 2, 2, 2, 2, 3, 3, 4, 5]\n"
     ]
    }
   ],
   "source": [
    "#11\n",
    "a=[1,2,3,3,1,4,5,2,2,2,2]\n",
    "a.sort()\n",
    "print(a)"
   ]
  },
  {
   "cell_type": "code",
   "execution_count": 27,
   "id": "ecfea765-7795-4c8d-860e-6d045446a741",
   "metadata": {},
   "outputs": [
    {
     "name": "stdout",
     "output_type": "stream",
     "text": [
      "[5, 4, 3, 3, 2, 2, 2, 2, 2, 1, 1]\n"
     ]
    }
   ],
   "source": [
    "#12\n",
    "a=[1,2,3,3,1,4,5,2,2,2,2]\n",
    "a.sort(reverse=True)\n",
    "print(a)"
   ]
  },
  {
   "cell_type": "code",
   "execution_count": 32,
   "id": "21641b50-db9a-4351-85b1-6b5dc1ec340f",
   "metadata": {},
   "outputs": [
    {
     "name": "stdout",
     "output_type": "stream",
     "text": [
      "[2, 4, 6, 8, 10, 12, 14, 16, 18, 20]\n"
     ]
    }
   ],
   "source": [
    "#13\n",
    "a=[i+1 for i in range(1,20,2)]\n",
    "print(a)"
   ]
  },
  {
   "cell_type": "code",
   "execution_count": 33,
   "id": "ea2c6a06-435c-47a2-ba2c-a55719c68c86",
   "metadata": {},
   "outputs": [
    {
     "name": "stdout",
     "output_type": "stream",
     "text": [
      "[1, 3, 5, 7, 9, 11, 13, 15, 17, 19]\n"
     ]
    }
   ],
   "source": [
    "#14\n",
    "a=[i for i in range(1,20,2)]\n",
    "print(a)"
   ]
  },
  {
   "cell_type": "code",
   "execution_count": 35,
   "id": "35e8ce16-c1eb-4b5e-8172-9b7709ff8cfb",
   "metadata": {},
   "outputs": [
    {
     "name": "stdout",
     "output_type": "stream",
     "text": [
      "36\n"
     ]
    }
   ],
   "source": [
    "#15\n",
    "a=[1,2,3,4,5,6,7,8]\n",
    "b=sum(a)\n",
    "print(b)"
   ]
  },
  {
   "cell_type": "code",
   "execution_count": 37,
   "id": "8d622b63-7577-47c5-885f-c083bc1d9eda",
   "metadata": {},
   "outputs": [
    {
     "name": "stdout",
     "output_type": "stream",
     "text": [
      "8\n"
     ]
    }
   ],
   "source": [
    "#16\n",
    "a=[1,2,3,4,5,6,7,8]\n",
    "b=max(a)\n",
    "print(b)"
   ]
  },
  {
   "cell_type": "code",
   "execution_count": 38,
   "id": "b53c4cf1-a9e1-47ec-961c-750e7f00addf",
   "metadata": {},
   "outputs": [
    {
     "name": "stdout",
     "output_type": "stream",
     "text": [
      "1\n"
     ]
    }
   ],
   "source": [
    "#17\n",
    "a=[1,2,3,4,5,6,7,8]\n",
    "b=min(a)\n",
    "print(b)"
   ]
  },
  {
   "cell_type": "code",
   "execution_count": 39,
   "id": "e6553eba-e3aa-41b9-ac95-23af30087fbe",
   "metadata": {},
   "outputs": [
    {
     "name": "stdout",
     "output_type": "stream",
     "text": [
      "[1, 4, 9, 16, 25, 36, 49, 64, 81, 100]\n"
     ]
    }
   ],
   "source": [
    "#18\n",
    "a=[i*i for i in range(1,11)]\n",
    "print(a)"
   ]
  },
  {
   "cell_type": "code",
   "execution_count": 53,
   "id": "81ece323-efc7-4086-b185-9ce853ba2ec3",
   "metadata": {},
   "outputs": [
    {
     "name": "stdout",
     "output_type": "stream",
     "text": [
      "[12, 40, 93, 74, 19, 23, 99, 19, 22, 92]\n"
     ]
    }
   ],
   "source": [
    "#19\n",
    "import random\n",
    "a=[random.randint(1,100) for i in range(10)]\n",
    "print(a)"
   ]
  },
  {
   "cell_type": "code",
   "execution_count": 55,
   "id": "9ead986f-bfa5-40e6-8811-a136b2ddaed0",
   "metadata": {},
   "outputs": [
    {
     "name": "stdout",
     "output_type": "stream",
     "text": [
      "[1, 2, 3, 4, 5, 6, 7, 8]\n"
     ]
    }
   ],
   "source": [
    "#20\n",
    "a=[1,2,3,4,5,5,5,6,7,8,2,3,4]\n",
    "b=list(set(a))\n",
    "print(b)"
   ]
  },
  {
   "cell_type": "code",
   "execution_count": 69,
   "id": "bf0de8ba-e33d-4c01-9bfd-37b86298b919",
   "metadata": {},
   "outputs": [
    {
     "name": "stdout",
     "output_type": "stream",
     "text": [
      "[3, 4, 5]\n"
     ]
    }
   ],
   "source": [
    "#21\n",
    "a=[1,2,3,4,5]\n",
    "b=[3,4,5,6,7]\n",
    "c=[]\n",
    "for i in range(len(b)):\n",
    "    d=b.count(a[i])\n",
    "    if d>0:\n",
    "        c.append(a[i])\n",
    "print(c)"
   ]
  },
  {
   "cell_type": "code",
   "execution_count": 71,
   "id": "e3db7fb8-cfb7-4921-bca9-ebf5073f2c1e",
   "metadata": {},
   "outputs": [
    {
     "name": "stdout",
     "output_type": "stream",
     "text": [
      "[1, 2]\n"
     ]
    }
   ],
   "source": [
    "#22\n",
    "a=[1,2,3,4,5]\n",
    "b=[3,4,5,6,7]\n",
    "c=[]\n",
    "for i in range(len(b)):\n",
    "    d=b.count(a[i])\n",
    "    if d==0:\n",
    "        c.append(a[i])\n",
    "print(c)"
   ]
  },
  {
   "cell_type": "code",
   "execution_count": 73,
   "id": "a95abf95-879c-40f2-a0db-a0c70c856ffe",
   "metadata": {},
   "outputs": [
    {
     "name": "stdout",
     "output_type": "stream",
     "text": [
      "[1, 2, 3, 4, 5, 6, 7]\n"
     ]
    }
   ],
   "source": [
    "#23\n",
    "a=[1,2,3,4,5]\n",
    "b=[3,4,5,6,7]\n",
    "c=list(set(a+b))\n",
    "print(c)"
   ]
  },
  {
   "cell_type": "code",
   "execution_count": 74,
   "id": "177be664-6201-42b2-9234-518c79af7f14",
   "metadata": {},
   "outputs": [
    {
     "name": "stdout",
     "output_type": "stream",
     "text": [
      "[2, 4, 6, 8, 10]\n"
     ]
    }
   ],
   "source": [
    "#24\n",
    "a=[1,2,3,4,5]\n",
    "b=[i*2 for i in a]\n",
    "print(b)"
   ]
  },
  {
   "cell_type": "code",
   "execution_count": 76,
   "id": "ef6d8d8f-66a4-40c2-adda-069a8e074e9e",
   "metadata": {},
   "outputs": [
    {
     "name": "stdout",
     "output_type": "stream",
     "text": [
      "[1, 3, 5]\n"
     ]
    }
   ],
   "source": [
    "#25\n",
    "a=[1,2,3,4,5]\n",
    "for i in a:\n",
    "    if i%2==0:\n",
    "        a.remove(i)\n",
    "print(a)"
   ]
  },
  {
   "cell_type": "code",
   "execution_count": 77,
   "id": "70d5009d-ce1c-4be2-b688-cc3ec7064532",
   "metadata": {},
   "outputs": [
    {
     "name": "stdout",
     "output_type": "stream",
     "text": [
      "[1, 2, 3, 4, 5, 6]\n"
     ]
    }
   ],
   "source": [
    "#26\n",
    "a=['1','2','3','4','5','6']\n",
    "b=[int(i) for i in a]\n",
    "print(b)"
   ]
  },
  {
   "cell_type": "code",
   "execution_count": 78,
   "id": "4ec20d14-d421-47c7-aac9-a8717199f2f8",
   "metadata": {},
   "outputs": [
    {
     "name": "stdout",
     "output_type": "stream",
     "text": [
      "['1', '2', '3', '4', '5']\n"
     ]
    }
   ],
   "source": [
    "#27\n",
    "a=[1,2,3,4,5]\n",
    "b=[str(i) for i in a]\n",
    "print(b)"
   ]
  },
  {
   "cell_type": "code",
   "execution_count": 101,
   "id": "6bea4ea6-585c-445a-9552-e73ac85c5228",
   "metadata": {},
   "outputs": [
    {
     "name": "stdout",
     "output_type": "stream",
     "text": [
      "[1, 2, 3, 4, 5, 6, 7, 8, 9, 10]\n"
     ]
    }
   ],
   "source": [
    "#28\n",
    "a=[[1,2,3],[4,5,6],[7,8,9],10]\n",
    "b=[]\n",
    "for i in a:\n",
    "    if isinstance(i,list):\n",
    "        b.extend(i)\n",
    "    else:\n",
    "        b.append(i)\n",
    "print(b)"
   ]
  },
  {
   "cell_type": "code",
   "execution_count": 107,
   "id": "d1712e66-6b14-44a3-8872-a2f9a7d10f13",
   "metadata": {},
   "outputs": [
    {
     "name": "stdout",
     "output_type": "stream",
     "text": [
      "[0, 1, 1, 2, 3, 5, 8, 13, 21, 34]\n"
     ]
    }
   ],
   "source": [
    "#29\n",
    "a=[0,1]\n",
    "for i in range(2,10):\n",
    "    i=a[i-2]+a[i-1]\n",
    "    a.append(i)\n",
    "print(a)"
   ]
  },
  {
   "cell_type": "code",
   "execution_count": 102,
   "id": "ae0778f0-fa50-4fe0-b06c-c8710e3f03fc",
   "metadata": {},
   "outputs": [
    {
     "name": "stdout",
     "output_type": "stream",
     "text": [
      "sorted list\n"
     ]
    }
   ],
   "source": [
    "#30\n",
    "a=[1,2,3,4,5,6]\n",
    "c=a.copy()\n",
    "a.sort()\n",
    "d=0\n",
    "for i in range(len(a)):\n",
    "    if c[i]==a[i]:\n",
    "        d+=1\n",
    "if d==len(a):\n",
    "    print(\"sorted list\")\n",
    "else:\n",
    "    print(\"Not sorted list\")"
   ]
  },
  {
   "cell_type": "code",
   "execution_count": 128,
   "id": "368e98ee-23f5-44a4-bc4f-9a83f222fcc1",
   "metadata": {},
   "outputs": [
    {
     "name": "stdin",
     "output_type": "stream",
     "text": [
      "how many positons you want to rotate? 2\n"
     ]
    },
    {
     "name": "stdout",
     "output_type": "stream",
     "text": [
      "[3, 4, 5, 6, 1, 2]\n"
     ]
    }
   ],
   "source": [
    "#31\n",
    "a=[1,2,3,4,5,6]\n",
    "n=int(input(\"how many positons you want to rotate left?\"))\n",
    "b=a[n:]+a[:n]\n",
    "print(b)"
   ]
  },
  {
   "cell_type": "code",
   "execution_count": 129,
   "id": "25e0de83-76d2-48ba-a3a1-0814bd787902",
   "metadata": {},
   "outputs": [
    {
     "name": "stdin",
     "output_type": "stream",
     "text": [
      "how many positons you want to rotate right? 2\n"
     ]
    },
    {
     "name": "stdout",
     "output_type": "stream",
     "text": [
      "[5, 6, 1, 2, 3, 4]\n"
     ]
    }
   ],
   "source": [
    "#32\n",
    "a=[1,2,3,4,5,6]\n",
    "n=int(input(\"how many positons you want to rotate right?\"))\n",
    "b=a[-2:]+a[:-2]\n",
    "print(b)"
   ]
  },
  {
   "cell_type": "code",
   "execution_count": 143,
   "id": "a9367d87-2fdb-4aee-b9f3-f1fcc30aa705",
   "metadata": {},
   "outputs": [
    {
     "name": "stdout",
     "output_type": "stream",
     "text": [
      "[2, 3, 5, 7, 11, 13, 17, 19, 23, 29, 31, 37, 41, 43, 47]\n"
     ]
    }
   ],
   "source": [
    "#33\n",
    "d=[]\n",
    "for i in range(1,50):\n",
    "    c=0\n",
    "    for j in range(1,i+1):\n",
    "        if i%j==0:\n",
    "            c+=1\n",
    "    if c==2:\n",
    "        d.append(i)\n",
    "print(d)"
   ]
  },
  {
   "cell_type": "code",
   "execution_count": 173,
   "id": "cd8bfec2-f07d-4283-9739-91f9bfb8f901",
   "metadata": {},
   "outputs": [
    {
     "name": "stdin",
     "output_type": "stream",
     "text": [
      "How many chunks you want ? 4\n"
     ]
    },
    {
     "name": "stdout",
     "output_type": "stream",
     "text": [
      "[[1, 2, 3, 4], [5, 6, 7, 8], [9]]\n"
     ]
    }
   ],
   "source": [
    "#34\n",
    "a=[1,2,3,4,5,6,7,8,9]\n",
    "n=int(input(\"How many chunks you want ?\"))\n",
    "b=[]\n",
    "for i in range(0,len(a),n):\n",
    "   b.append(a[i:n+i])\n",
    "print(b)"
   ]
  },
  {
   "cell_type": "code",
   "execution_count": 174,
   "id": "0b384407-59cd-4ee0-b0d6-9a5277cce6ef",
   "metadata": {},
   "outputs": [
    {
     "name": "stdout",
     "output_type": "stream",
     "text": [
      "The second largest number is 8\n"
     ]
    }
   ],
   "source": [
    "#35\n",
    "a=[1,2,3,4,5,6,7,8,9]\n",
    "a.sort()\n",
    "b=a[-2]\n",
    "print(\"The second largest number is\",b)"
   ]
  },
  {
   "cell_type": "code",
   "execution_count": 175,
   "id": "7a95da68-955a-4dae-b178-3df0f7b34a43",
   "metadata": {},
   "outputs": [
    {
     "name": "stdout",
     "output_type": "stream",
     "text": [
      "[1, 4, 9, 16, 25, 36, 49, 64, 81]\n"
     ]
    }
   ],
   "source": [
    "#36\n",
    "a=[1,2,3,4,5,6,7,8,9]\n",
    "b=[i*i for i in a]\n",
    "print(b)"
   ]
  },
  {
   "cell_type": "code",
   "execution_count": 8,
   "id": "a5e89352-1488-4ac8-ba55-13028c9392e6",
   "metadata": {},
   "outputs": [
    {
     "name": "stdout",
     "output_type": "stream",
     "text": [
      "{1: 0, 2: 1, 9: 2, 4: 3, 5: 4, 8: 5}\n"
     ]
    }
   ],
   "source": [
    "#37\n",
    "a=[1,2,9,4,5,8]\n",
    "my_dict = {value:index for index,value in enumerate(a)}\n",
    "print(my_dict)"
   ]
  },
  {
   "cell_type": "code",
   "execution_count": 10,
   "id": "c973eac7-79ff-4d81-93ec-45857505448f",
   "metadata": {},
   "outputs": [
    {
     "name": "stdout",
     "output_type": "stream",
     "text": [
      "[2, 1, 4, 9, 8, 5]\n"
     ]
    }
   ],
   "source": [
    "#38\n",
    "import random\n",
    "a=[1,2,9,4,5,8]\n",
    "random.shuffle(a)\n",
    "print(a)"
   ]
  },
  {
   "cell_type": "code",
   "execution_count": 6,
   "id": "27a76afe-192e-449d-b754-9a2d8c3eaa22",
   "metadata": {},
   "outputs": [
    {
     "name": "stdin",
     "output_type": "stream",
     "text": [
      " 10\n"
     ]
    },
    {
     "name": "stdout",
     "output_type": "stream",
     "text": [
      "[1, 1, 2, 6, 24, 120, 720, 5040, 40320, 362880]\n"
     ]
    }
   ],
   "source": [
    "#39\n",
    "c=[1,1,]\n",
    "b=1\n",
    "n=int(input())\n",
    "for i in range(2,n):\n",
    "    b=b*i\n",
    "    c.append(b)\n",
    "print(c)"
   ]
  },
  {
   "cell_type": "code",
   "execution_count": 20,
   "id": "7f42cadc-0041-4366-91b4-3851c0527769",
   "metadata": {},
   "outputs": [
    {
     "name": "stdout",
     "output_type": "stream",
     "text": [
      "Atleast One element in common\n"
     ]
    }
   ],
   "source": [
    "#40\n",
    "a=[1,2,3,4]\n",
    "b=[3,4,5,6]\n",
    "c=0\n",
    "for i in a:\n",
    "    if i in b:\n",
    "        c+=1\n",
    "if c>1:\n",
    "    print(\"Atleast One element in common\")"
   ]
  },
  {
   "cell_type": "code",
   "execution_count": 22,
   "id": "d365b06d-025e-450a-837f-ac84d9348cc6",
   "metadata": {},
   "outputs": [
    {
     "name": "stdout",
     "output_type": "stream",
     "text": [
      "[]\n"
     ]
    }
   ],
   "source": [
    "#41\n",
    "a=[1,2,3,4]\n",
    "a.clear()\n",
    "print(a)"
   ]
  },
  {
   "cell_type": "code",
   "execution_count": 28,
   "id": "bb306cd8-7adc-4c51-891f-7d626d2ebad1",
   "metadata": {},
   "outputs": [
    {
     "name": "stdout",
     "output_type": "stream",
     "text": [
      "[1, 2, 3, 4, 0, 0]\n"
     ]
    }
   ],
   "source": [
    "#42\n",
    "a=[1,2,3,4,-3,-4]\n",
    "for i in range(len(a)):\n",
    "    if a[i]<0:\n",
    "        a.pop(i)\n",
    "        a.insert(i,0)\n",
    "print(a)"
   ]
  },
  {
   "cell_type": "code",
   "execution_count": 31,
   "id": "42034cd5-bbe4-4c55-8037-ee2d46306deb",
   "metadata": {},
   "outputs": [
    {
     "name": "stdout",
     "output_type": "stream",
     "text": [
      "['My', 'Name', 'Is', 'Kiriti', 'Emani']\n"
     ]
    }
   ],
   "source": [
    "#43\n",
    "a=\"My Name Is Kiriti Emani\"\n",
    "b=a.split()\n",
    "print(b)"
   ]
  },
  {
   "cell_type": "code",
   "execution_count": 32,
   "id": "e9f80788-e2cb-4f0c-a704-c8efa716dd11",
   "metadata": {},
   "outputs": [
    {
     "name": "stdout",
     "output_type": "stream",
     "text": [
      "My Name Is Kiriti Emani\n"
     ]
    }
   ],
   "source": [
    "#44\n",
    "a=['My', 'Name', 'Is', 'Kiriti', 'Emani']\n",
    "b=\" \".join(a)\n",
    "print(b)"
   ]
  },
  {
   "cell_type": "code",
   "execution_count": 37,
   "id": "4f007b1e-ec8a-426b-97da-a8b3e910adff",
   "metadata": {},
   "outputs": [
    {
     "name": "stdin",
     "output_type": "stream",
     "text": [
      " 5\n"
     ]
    },
    {
     "name": "stdout",
     "output_type": "stream",
     "text": [
      "[1, 2, 4, 8, 16]\n"
     ]
    }
   ],
   "source": [
    "#45\n",
    "b=0\n",
    "c=[]\n",
    "n=int(input())\n",
    "for i in range(0,n):\n",
    "    b=2**i\n",
    "    c.append(b)\n",
    "print(c)"
   ]
  },
  {
   "cell_type": "code",
   "execution_count": 45,
   "id": "1ca3a110-b44e-489b-af01-c640aed16e35",
   "metadata": {},
   "outputs": [
    {
     "name": "stdout",
     "output_type": "stream",
     "text": [
      "PWSKILLSLAB\n"
     ]
    }
   ],
   "source": [
    "#46\n",
    "h=0\n",
    "ls=[]\n",
    "a=['My', 'Name', 'Is', 'Kiriti', 'Emani','PWSKILLSLAB']\n",
    "for i in range(len(a)):\n",
    "    if len(a[i])>h:\n",
    "        h=len(a[i])\n",
    "        ls=a[i]\n",
    "print(ls)"
   ]
  },
  {
   "cell_type": "code",
   "execution_count": 47,
   "id": "eb8680c0-bb26-460b-b551-ebefa8f9a660",
   "metadata": {},
   "outputs": [
    {
     "name": "stdout",
     "output_type": "stream",
     "text": [
      "My\n"
     ]
    }
   ],
   "source": [
    "#47\n",
    "l=len(a)\n",
    "ss=[]\n",
    "a=['My', 'Name', 'Is', 'Kiriti', 'Emani','PWSKILLSLAB']\n",
    "for i in range(len(a)):\n",
    "    if len(a[i])<l:\n",
    "        l=len(a[i])\n",
    "        ss=a[i]\n",
    "print(ss)"
   ]
  },
  {
   "cell_type": "code",
   "execution_count": 19,
   "id": "b3aed88e-6ffb-43ad-8e23-48ad436cbafd",
   "metadata": {},
   "outputs": [
    {
     "name": "stdin",
     "output_type": "stream",
     "text": [
      " 5\n"
     ]
    },
    {
     "name": "stdout",
     "output_type": "stream",
     "text": [
      "[1, 3, 6, 10, 15]\n"
     ]
    }
   ],
   "source": [
    "#48\n",
    "c=[1]\n",
    "d=2\n",
    "n=int(input())\n",
    "for i in range(1,(n*3)+1):\n",
    "    if i-c[-1] == d:\n",
    "        c.append(i)\n",
    "        d+=1\n",
    "print(c)"
   ]
  },
  {
   "cell_type": "code",
   "execution_count": 62,
   "id": "2b7e7f5e-355d-41ed-a17c-45b5ee0845df",
   "metadata": {},
   "outputs": [
    {
     "name": "stdout",
     "output_type": "stream",
     "text": [
      "No list doesn't contains another list as a subsequence\n"
     ]
    }
   ],
   "source": [
    "#49\n",
    "a=[1,2,3,4,5,6,7]\n",
    "b=[1,3,10]\n",
    "c=0\n",
    "for i in a:\n",
    "    if i in b:\n",
    "        c+=1\n",
    "if c==len(b):\n",
    "    print(\"Yes list contains another list as a subsequence\")\n",
    "else:\n",
    "    print(\"No list doesn't contains another list as a subsequence\")"
   ]
  },
  {
   "cell_type": "code",
   "execution_count": 63,
   "id": "0889dc4d-01a2-40b6-b0c8-2f870bdf609a",
   "metadata": {},
   "outputs": [
    {
     "name": "stdout",
     "output_type": "stream",
     "text": [
      "[1, 2, 4, 3, 5]\n"
     ]
    }
   ],
   "source": [
    "#50\n",
    "a=[1,2,3,4,5]\n",
    "b=2\n",
    "c=3\n",
    "temp=a[b]\n",
    "a[b]=a[c]\n",
    "a[c]=temp\n",
    "print(a)"
   ]
  },
  {
   "cell_type": "code",
   "execution_count": 64,
   "id": "862b4151-cc9d-4555-ae8a-241bb4c157e0",
   "metadata": {},
   "outputs": [],
   "source": [
    "#1\n",
    "t=(1,2,3,4,5)"
   ]
  },
  {
   "cell_type": "code",
   "execution_count": 66,
   "id": "b0c7f48d-ed4e-4de5-ba26-8fa0f84c73ce",
   "metadata": {},
   "outputs": [
    {
     "name": "stdout",
     "output_type": "stream",
     "text": [
      "3\n"
     ]
    }
   ],
   "source": [
    "#2\n",
    "print(t[2])"
   ]
  },
  {
   "cell_type": "code",
   "execution_count": 67,
   "id": "d4ee8098-2db4-46fd-aa43-18cd8c2d8e11",
   "metadata": {},
   "outputs": [
    {
     "name": "stdout",
     "output_type": "stream",
     "text": [
      "5\n"
     ]
    }
   ],
   "source": [
    "#3\n",
    "c=0\n",
    "for i in t:\n",
    "    c+=1\n",
    "print(c)"
   ]
  },
  {
   "cell_type": "code",
   "execution_count": 75,
   "id": "41d5b704-ebe6-41ae-aec3-2286e7f29cd8",
   "metadata": {},
   "outputs": [
    {
     "data": {
      "text/plain": [
       "4"
      ]
     },
     "execution_count": 75,
     "metadata": {},
     "output_type": "execute_result"
    }
   ],
   "source": [
    "#4\n",
    "t1=(1,2,2,3,3,4,5,6,6,6,6)\n",
    "t1.count(6)"
   ]
  },
  {
   "cell_type": "code",
   "execution_count": 77,
   "id": "026f6ec4-f753-4c37-8236-76a598f10ae5",
   "metadata": {},
   "outputs": [
    {
     "data": {
      "text/plain": [
       "7"
      ]
     },
     "execution_count": 77,
     "metadata": {},
     "output_type": "execute_result"
    }
   ],
   "source": [
    "#5\n",
    "t1.index(6)"
   ]
  },
  {
   "cell_type": "code",
   "execution_count": 76,
   "id": "33df68f5-96f5-4b96-bd77-319585168618",
   "metadata": {},
   "outputs": [
    {
     "name": "stdout",
     "output_type": "stream",
     "text": [
      "Not found\n"
     ]
    }
   ],
   "source": [
    "#6\n",
    "search_element=7\n",
    "if search_element in t1:\n",
    "    print(\"found\")\n",
    "else:\n",
    "    print(\"Not found\")\n",
    "    "
   ]
  },
  {
   "cell_type": "code",
   "execution_count": 80,
   "id": "10c5353c-e1e6-4269-8780-27f53a4febea",
   "metadata": {},
   "outputs": [
    {
     "name": "stdout",
     "output_type": "stream",
     "text": [
      "[1, 2, 2, 3, 3, 4, 5, 6, 6, 6, 6]\n"
     ]
    }
   ],
   "source": [
    "#7\n",
    "l1=list(t1)\n",
    "print(l1)"
   ]
  },
  {
   "cell_type": "code",
   "execution_count": 81,
   "id": "90a17a70-bf4a-4b7f-b955-852fc2c8f70c",
   "metadata": {},
   "outputs": [
    {
     "data": {
      "text/plain": [
       "(1, 2, 2, 3, 3, 4, 5, 6, 6, 6, 6)"
      ]
     },
     "execution_count": 81,
     "metadata": {},
     "output_type": "execute_result"
    }
   ],
   "source": [
    "#8\n",
    "tuple(l1)"
   ]
  },
  {
   "cell_type": "code",
   "execution_count": 84,
   "id": "a9a4b7f0-6335-4f4f-b9a5-41ccfb48e0cb",
   "metadata": {},
   "outputs": [
    {
     "name": "stdout",
     "output_type": "stream",
     "text": [
      "1 2 3\n"
     ]
    }
   ],
   "source": [
    "#9\n",
    "t3=(1,2,3)\n",
    "a,b,c=t3\n",
    "print(a,b,c)"
   ]
  },
  {
   "cell_type": "code",
   "execution_count": 2,
   "id": "92b1bbbb-3aff-4a45-89ca-964528c461b9",
   "metadata": {},
   "outputs": [
    {
     "name": "stdout",
     "output_type": "stream",
     "text": [
      "(2, 4, 6, 8, 10)\n"
     ]
    }
   ],
   "source": [
    "#10\n",
    "l=[i for i in range(2,11,2)]\n",
    "t1=tuple(l)\n",
    "print(t1)"
   ]
  },
  {
   "cell_type": "code",
   "execution_count": 6,
   "id": "8e019414-e981-48be-99c3-c49139c84e6d",
   "metadata": {},
   "outputs": [
    {
     "name": "stdout",
     "output_type": "stream",
     "text": [
      "(1, 3, 5, 7, 9)\n"
     ]
    }
   ],
   "source": [
    "#11\n",
    "l=[i for i in range(1,11,2)]\n",
    "t2=tuple(l)\n",
    "print(t2)"
   ]
  },
  {
   "cell_type": "code",
   "execution_count": 8,
   "id": "03c09240-18b0-4957-8a10-a74124617759",
   "metadata": {},
   "outputs": [
    {
     "data": {
      "text/plain": [
       "(2, 4, 6, 8, 10, 1, 3, 5, 7, 9)"
      ]
     },
     "execution_count": 8,
     "metadata": {},
     "output_type": "execute_result"
    }
   ],
   "source": [
    "#12\n",
    "t1+t2"
   ]
  },
  {
   "cell_type": "code",
   "execution_count": 9,
   "id": "d38052ef-6620-46ea-b3b3-504945ef2966",
   "metadata": {},
   "outputs": [
    {
     "data": {
      "text/plain": [
       "(2, 4, 6, 8, 10, 2, 4, 6, 8, 10, 2, 4, 6, 8, 10)"
      ]
     },
     "execution_count": 9,
     "metadata": {},
     "output_type": "execute_result"
    }
   ],
   "source": [
    "#13\n",
    "t1*3"
   ]
  },
  {
   "cell_type": "code",
   "execution_count": 3,
   "id": "fd28f61c-6bf4-45ac-a98e-2567179f594e",
   "metadata": {},
   "outputs": [
    {
     "name": "stdout",
     "output_type": "stream",
     "text": [
      "Non Empty tuple\n"
     ]
    }
   ],
   "source": [
    "#14\n",
    "c=0\n",
    "for i in t1:\n",
    "    c+=1\n",
    "if c>0:\n",
    "    print(\"Non Empty tuple\")\n",
    "else:\n",
    "    print(\"empty tuple\")"
   ]
  },
  {
   "cell_type": "code",
   "execution_count": 11,
   "id": "b465c0eb-d67a-4bd9-8ac7-a18698d074dc",
   "metadata": {},
   "outputs": [
    {
     "name": "stdout",
     "output_type": "stream",
     "text": [
      "((1, 2, 3), (4, 5, 6), (7, 8, 9))\n"
     ]
    }
   ],
   "source": [
    "#15\n",
    "nt=((1,2,3),(4,5,6),(7,8,9))\n",
    "print(nt)"
   ]
  },
  {
   "cell_type": "code",
   "execution_count": 12,
   "id": "1b2c7547-e094-4d05-89c3-e002f7ab2ba1",
   "metadata": {},
   "outputs": [
    {
     "data": {
      "text/plain": [
       "(1, 2, 3)"
      ]
     },
     "execution_count": 12,
     "metadata": {},
     "output_type": "execute_result"
    }
   ],
   "source": [
    "#16\n",
    "nt[0]"
   ]
  },
  {
   "cell_type": "code",
   "execution_count": 16,
   "id": "295f9cba-a2be-4ce5-a907-f55b824fbe43",
   "metadata": {},
   "outputs": [
    {
     "name": "stdout",
     "output_type": "stream",
     "text": [
      "(1,)\n"
     ]
    }
   ],
   "source": [
    "#17\n",
    "single_element_tuple=(1,)\n",
    "print(single_element_tuple)"
   ]
  },
  {
   "cell_type": "code",
   "execution_count": 22,
   "id": "ebd000a2-6d3b-4ae0-9d92-b4feb3b8d47b",
   "metadata": {},
   "outputs": [
    {
     "name": "stdout",
     "output_type": "stream",
     "text": [
      "t1<t2 True\n",
      "t1>t2 False\n",
      "t1<=t2 True\n",
      "t1>=t2 False\n",
      "t1==t2 False\n",
      "t1!=t2 True\n"
     ]
    }
   ],
   "source": [
    "#18\n",
    "t1=(1,2,3)\n",
    "t2=(3,4,5)\n",
    "print(\"t1<t2\",t1<t2)\n",
    "print(\"t1>t2\",t1>t2)\n",
    "print(\"t1<=t2\",t1<=t2)\n",
    "print(\"t1>=t2\",t1>=t2)\n",
    "print(\"t1==t2\",t1==t2)\n",
    "print(\"t1!=t2\",t1!=t2)"
   ]
  },
  {
   "cell_type": "code",
   "execution_count": 25,
   "id": "0c54d5e2-0a20-4ef6-a21a-5d0b127ff6f6",
   "metadata": {},
   "outputs": [
    {
     "ename": "NameError",
     "evalue": "name 't1' is not defined",
     "output_type": "error",
     "traceback": [
      "\u001b[0;31m---------------------------------------------------------------------------\u001b[0m",
      "\u001b[0;31mNameError\u001b[0m                                 Traceback (most recent call last)",
      "Cell \u001b[0;32mIn[25], line 1\u001b[0m\n\u001b[0;32m----> 1\u001b[0m \u001b[38;5;28;01mdel\u001b[39;00m(t1)\n\u001b[1;32m      2\u001b[0m \u001b[38;5;28mprint\u001b[39m(t1)\n",
      "\u001b[0;31mNameError\u001b[0m: name 't1' is not defined"
     ]
    }
   ],
   "source": [
    "#19\n",
    "del(t1)\n",
    "print(t1)"
   ]
  },
  {
   "cell_type": "code",
   "execution_count": 27,
   "id": "01bdbefa-c685-4949-8caf-bda0abe97306",
   "metadata": {},
   "outputs": [
    {
     "data": {
      "text/plain": [
       "(3, 4)"
      ]
     },
     "execution_count": 27,
     "metadata": {},
     "output_type": "execute_result"
    }
   ],
   "source": [
    "#20\n",
    "t2[:2]"
   ]
  },
  {
   "cell_type": "code",
   "execution_count": 28,
   "id": "a7340d17-4904-4601-bc7d-bcec9e055cc5",
   "metadata": {},
   "outputs": [
    {
     "data": {
      "text/plain": [
       "5"
      ]
     },
     "execution_count": 28,
     "metadata": {},
     "output_type": "execute_result"
    }
   ],
   "source": [
    "#21\n",
    "max(t2)"
   ]
  },
  {
   "cell_type": "code",
   "execution_count": 29,
   "id": "6987fa18-f386-4118-b525-a05ff32bbbff",
   "metadata": {},
   "outputs": [
    {
     "data": {
      "text/plain": [
       "3"
      ]
     },
     "execution_count": 29,
     "metadata": {},
     "output_type": "execute_result"
    }
   ],
   "source": [
    "#22\n",
    "min(t2)"
   ]
  },
  {
   "cell_type": "code",
   "execution_count": 31,
   "id": "c38b233e-fd04-4597-b088-d53bd2d2a7e8",
   "metadata": {},
   "outputs": [
    {
     "name": "stdout",
     "output_type": "stream",
     "text": [
      "('m', 'y', ' ', 'n', 'a', 'm', 'e', ' ', 'i', 's', ' ', 'k', 'i', 'r', 'i', 't', 'i')\n"
     ]
    }
   ],
   "source": [
    "#23\n",
    "s=\"my name is kiriti\"\n",
    "t=tuple(list(s))\n",
    "print(t)"
   ]
  },
  {
   "cell_type": "code",
   "execution_count": 36,
   "id": "8aa50f2e-12ff-4276-a9b7-26bc404d62ce",
   "metadata": {},
   "outputs": [
    {
     "name": "stdout",
     "output_type": "stream",
     "text": [
      "my name is kiriti\n"
     ]
    }
   ],
   "source": [
    "#24\n",
    "t=('m', 'y', ' ', 'n', 'a', 'm', 'e', ' ', 'i', 's', ' ', 'k', 'i', 'r', 'i', 't', 'i')\n",
    "a=''.join(t)\n",
    "print(a)"
   ]
  },
  {
   "cell_type": "code",
   "execution_count": 39,
   "id": "bcb7d948-8274-4807-b839-c40081564816",
   "metadata": {},
   "outputs": [
    {
     "name": "stdout",
     "output_type": "stream",
     "text": [
      "(1, 2, 4.5, (3+4j), {1, 2, 3}, (1, 2, 3), True, [5, 6, 'kiriti'], {'name': 'kiriti'})\n"
     ]
    }
   ],
   "source": [
    "#25\n",
    "t=(1,2,4.5,3+4j,{1,2,3},(1,2,3),True,[5,6,'kiriti'],{\"name\":\"kiriti\"})\n",
    "print(t)"
   ]
  },
  {
   "cell_type": "code",
   "execution_count": 42,
   "id": "9bce6d88-83c2-4e75-bc39-92db1c0d5d6d",
   "metadata": {},
   "outputs": [
    {
     "name": "stdout",
     "output_type": "stream",
     "text": [
      "t1 is equal to t2: False\n"
     ]
    }
   ],
   "source": [
    "#26\n",
    "t1=(1,2,3)\n",
    "t2=(2,3,4)\n",
    "print(\"t1 is equal to t2:\",t1==t2)"
   ]
  },
  {
   "cell_type": "code",
   "execution_count": 49,
   "id": "43cf077e-40e8-4c04-b3f9-aa15331e6fa1",
   "metadata": {},
   "outputs": [
    {
     "name": "stdout",
     "output_type": "stream",
     "text": [
      "(1, 2, 3, 4, 6, 8, 9)\n"
     ]
    }
   ],
   "source": [
    "#27\n",
    "t3=(1,6,3,8,4,9,2)\n",
    "l3=list(t3)\n",
    "l3.sort()\n",
    "print(tuple(l3))"
   ]
  },
  {
   "cell_type": "code",
   "execution_count": 50,
   "id": "b923a8b8-d9fe-47c6-ac88-c664712000b3",
   "metadata": {},
   "outputs": [
    {
     "name": "stdout",
     "output_type": "stream",
     "text": [
      "('1', '2', '3', '4', '55', '6', '7')\n"
     ]
    }
   ],
   "source": [
    "#28\n",
    "t3=(1,2,3,4,55,6,7)\n",
    "c=[]\n",
    "for i in t3:\n",
    "    c.append(str(i))\n",
    "print(tuple(c))"
   ]
  },
  {
   "cell_type": "code",
   "execution_count": 51,
   "id": "43e50494-99e1-4853-890c-a23f8373888e",
   "metadata": {},
   "outputs": [
    {
     "name": "stdout",
     "output_type": "stream",
     "text": [
      "(1, 2, 3, 4, 55, 6, 7)\n"
     ]
    }
   ],
   "source": [
    "#29\n",
    "t5=('1', '2', '3', '4', '55', '6', '7')\n",
    "c=[]\n",
    "for i in t5:\n",
    "    c.append(int(i))\n",
    "print(tuple(c))"
   ]
  },
  {
   "cell_type": "code",
   "execution_count": 52,
   "id": "6e2fe23e-def6-4368-abad-5bd87a1a54ec",
   "metadata": {},
   "outputs": [
    {
     "name": "stdout",
     "output_type": "stream",
     "text": [
      "(1, 2, 3, 4, 4, 5, 6, 7)\n"
     ]
    }
   ],
   "source": [
    "#30\n",
    "t1=(1,2,3,4)\n",
    "t2=(4,5,6,7)\n",
    "print(t1+t2)"
   ]
  },
  {
   "cell_type": "code",
   "execution_count": 64,
   "id": "372001a6-65c9-4be6-bb5d-c3cca67766e3",
   "metadata": {},
   "outputs": [
    {
     "name": "stdout",
     "output_type": "stream",
     "text": [
      "(1, 2, 3, 4, 5, 6, 7, 8, 9)\n"
     ]
    }
   ],
   "source": [
    "#31\n",
    "t1=((1,2,3),(4,5,6),(7,8,9))\n",
    "t2=[]\n",
    "for i in t1:\n",
    "    for j in i:\n",
    "        t2.append(j)\n",
    "print(tuple(t2))"
   ]
  },
  {
   "cell_type": "code",
   "execution_count": 69,
   "id": "0c00a08d-e363-4794-acc1-e74c61ca06f0",
   "metadata": {},
   "outputs": [
    {
     "name": "stdout",
     "output_type": "stream",
     "text": [
      "(2, 3, 5, 7, 11)\n"
     ]
    }
   ],
   "source": [
    "#32\n",
    "d=[]\n",
    "for i in range(1,50):\n",
    "    c=0\n",
    "    for j in range(1,i+1):\n",
    "        if i%j==0:\n",
    "            c+=1\n",
    "    if c==2:\n",
    "        d.append(i)\n",
    "print(tuple(d[:5]))"
   ]
  },
  {
   "cell_type": "code",
   "execution_count": 73,
   "id": "690159ab-4ee4-4b22-9a57-3a84cee98a1a",
   "metadata": {},
   "outputs": [
    {
     "name": "stdout",
     "output_type": "stream",
     "text": [
      "The tuple is palindrome\n"
     ]
    }
   ],
   "source": [
    "#33\n",
    "t=(1,2,3,3,2,1)\n",
    "if t[::-1]==t:\n",
    "    print(\"The tuple is palindrome\")"
   ]
  },
  {
   "cell_type": "code",
   "execution_count": 77,
   "id": "f674f7f2-dc82-468c-85bf-2d239eafedea",
   "metadata": {},
   "outputs": [
    {
     "name": "stdout",
     "output_type": "stream",
     "text": [
      "(1, 4, 9, 16, 25)\n"
     ]
    }
   ],
   "source": [
    "#34\n",
    "t=[i*i for i in range(1,6)]\n",
    "print(tuple(t))"
   ]
  },
  {
   "cell_type": "code",
   "execution_count": 78,
   "id": "fd67273b-11c5-4080-92fe-7a79ce6f0e82",
   "metadata": {},
   "outputs": [
    {
     "name": "stdout",
     "output_type": "stream",
     "text": [
      "(2, 4, 6, 8, 10)\n"
     ]
    }
   ],
   "source": [
    "#35\n",
    "t=(1,2,3,4,5,6,7,8,9,10)\n",
    "c=[]\n",
    "for i in t:\n",
    "    if i%2==0:\n",
    "        c.append(i)\n",
    "print(tuple(c))"
   ]
  },
  {
   "cell_type": "code",
   "execution_count": 81,
   "id": "66624bbd-69f1-4dd3-9b5f-589bcfaa58e4",
   "metadata": {},
   "outputs": [
    {
     "name": "stdout",
     "output_type": "stream",
     "text": [
      "(2, 4, 6, 8, 10, 12)\n"
     ]
    }
   ],
   "source": [
    "#36\n",
    "t=(1,2,3,4,5,6)\n",
    "c=[]\n",
    "for i in t:\n",
    "    c.append(i*2)\n",
    "print(tuple(c))"
   ]
  },
  {
   "cell_type": "code",
   "execution_count": 83,
   "id": "54bf1db1-1267-4565-94fc-d8c6f5432c0c",
   "metadata": {},
   "outputs": [
    {
     "name": "stdout",
     "output_type": "stream",
     "text": [
      "(26, 54, 53, 95, 21, 56, 83, 49, 60, 43)\n"
     ]
    }
   ],
   "source": [
    "#37\n",
    "import random\n",
    "l=[random.randint(1,100) for i in range(10)]\n",
    "print(tuple(l))"
   ]
  },
  {
   "cell_type": "code",
   "execution_count": 108,
   "id": "f40b90d2-394d-4adb-834d-4bbef94a886c",
   "metadata": {},
   "outputs": [
    {
     "name": "stdout",
     "output_type": "stream",
     "text": [
      "The tuple is not sorted\n"
     ]
    }
   ],
   "source": [
    "#38\n",
    "t=(1,2,5,4)\n",
    "t2l=list(t).copy()\n",
    "t2l.sort()\n",
    "t2l2=list(t).copy()\n",
    "if t2l==t2l2:\n",
    "    print(\"The tuple is sorted\")\n",
    "else:\n",
    "    print(\"The tuple is not sorted\")"
   ]
  },
  {
   "cell_type": "code",
   "execution_count": 113,
   "id": "2dd033d3-587e-437b-8eca-a5f5160ca520",
   "metadata": {},
   "outputs": [
    {
     "name": "stdin",
     "output_type": "stream",
     "text": [
      "How many postions you want to shift left 2\n"
     ]
    },
    {
     "name": "stdout",
     "output_type": "stream",
     "text": [
      "(3, 4, 5, 6, 7, 8, 1, 2)\n"
     ]
    }
   ],
   "source": [
    "#39\n",
    "t=(1,2,3,4,5,6,7,8)\n",
    "n=int(input(\"How many postions you want to shift left\"))\n",
    "nt=t[n:]+t[:n]\n",
    "print(nt)"
   ]
  },
  {
   "cell_type": "code",
   "execution_count": 115,
   "id": "84825388-ccb4-4259-a74e-c928fcd9ef61",
   "metadata": {},
   "outputs": [
    {
     "name": "stdin",
     "output_type": "stream",
     "text": [
      "How many postions you want to shift right 2\n"
     ]
    },
    {
     "name": "stdout",
     "output_type": "stream",
     "text": [
      "(7, 8, 1, 2, 3, 4, 5, 6)\n"
     ]
    }
   ],
   "source": [
    "#40\n",
    "t=(1,2,3,4,5,6,7,8)\n",
    "n=int(input(\"How many postions you want to shift right\"))\n",
    "nt=t[-n:]+t[:-n]\n",
    "print(nt)"
   ]
  },
  {
   "cell_type": "code",
   "execution_count": 117,
   "id": "a7511118-44e5-4d07-a913-809af4ca4f96",
   "metadata": {},
   "outputs": [
    {
     "name": "stdout",
     "output_type": "stream",
     "text": [
      "(0, 1, 1, 2, 3)\n"
     ]
    }
   ],
   "source": [
    "#41\n",
    "a=[0,1]\n",
    "for i in range(2,5):\n",
    "    i=a[i-2]+a[i-1]\n",
    "    a.append(i)\n",
    "print(tuple(a))"
   ]
  },
  {
   "cell_type": "code",
   "execution_count": 121,
   "id": "d9b04834-c31e-485c-994b-7273582af648",
   "metadata": {},
   "outputs": [
    {
     "name": "stdin",
     "output_type": "stream",
     "text": [
      "Please enter numbers with space delimited 1 2 3 4 5 6\n"
     ]
    },
    {
     "name": "stdout",
     "output_type": "stream",
     "text": [
      "(1, 2, 3, 4, 5, 6)\n"
     ]
    }
   ],
   "source": [
    "#42\n",
    "a=input(\"Please enter numbers with space delimited\")\n",
    "b=a.split()\n",
    "c=[]\n",
    "for i in b:\n",
    "    c.append(int(i))\n",
    "print(tuple(c))"
   ]
  },
  {
   "cell_type": "code",
   "execution_count": 3,
   "id": "d9f3260d-97de-4e7f-a4d5-d9e50b9bef23",
   "metadata": {},
   "outputs": [
    {
     "name": "stdout",
     "output_type": "stream",
     "text": [
      "(1, 3, 2, 4, 5, 6)\n"
     ]
    }
   ],
   "source": [
    "#43\n",
    "t=(1,2,3,4,5,6)\n",
    "l=list(t)\n",
    "a=1\n",
    "b=2\n",
    "temp=(l[a])\n",
    "(l[a])=(l[b])\n",
    "(l[b])=temp\n",
    "print(tuple(l))"
   ]
  },
  {
   "cell_type": "code",
   "execution_count": 4,
   "id": "29973910-a8aa-4ee4-848e-ff36ac440afe",
   "metadata": {},
   "outputs": [
    {
     "name": "stdout",
     "output_type": "stream",
     "text": [
      "(5, 4, 3, 2, 1)\n"
     ]
    }
   ],
   "source": [
    "#44\n",
    "t=(1,2,3,4,5)\n",
    "print(t[::-1])"
   ]
  },
  {
   "cell_type": "code",
   "execution_count": 7,
   "id": "d0f66926-738d-4aee-8198-a5863e87edfe",
   "metadata": {},
   "outputs": [
    {
     "name": "stdout",
     "output_type": "stream",
     "text": [
      "(1, 2, 4, 8, 16)\n"
     ]
    }
   ],
   "source": [
    "#45\n",
    "l=[]\n",
    "for i in range(5):\n",
    "    l.append(2**i)\n",
    "print(tuple(l))"
   ]
  },
  {
   "cell_type": "code",
   "execution_count": 16,
   "id": "784284a8-1a11-47d0-b987-0b79039731ba",
   "metadata": {},
   "outputs": [
    {
     "name": "stdout",
     "output_type": "stream",
     "text": [
      "sriramakiritiemani\n"
     ]
    }
   ],
   "source": [
    "#46\n",
    "l=()\n",
    "lent=0\n",
    "t=('kiriti','srirama','emani','pwskillslab','sriramakiritiemani')\n",
    "for i in range(len(t)):\n",
    "    if len(t[i])>lent:\n",
    "        lent=len(t[i])\n",
    "        l=t[i]\n",
    "print(l)"
   ]
  },
  {
   "cell_type": "code",
   "execution_count": 17,
   "id": "fc8ef55f-4136-49c0-90fa-49d80a29facf",
   "metadata": {},
   "outputs": [
    {
     "name": "stdout",
     "output_type": "stream",
     "text": [
      "7\n",
      "emani\n"
     ]
    }
   ],
   "source": [
    "#47\n",
    "l=()\n",
    "lent=len(t[1])\n",
    "print(lent)\n",
    "t=('kiriti','srirama','emani','pwskillslab','sriramakiritiemani')\n",
    "for i in range(len(t)):\n",
    "    if len(t[i])<lent:\n",
    "        lent=len(t[i])\n",
    "        l=t[i]\n",
    "print(l)"
   ]
  },
  {
   "cell_type": "code",
   "execution_count": 3,
   "id": "e623470d-7256-424d-833c-864858032423",
   "metadata": {},
   "outputs": [
    {
     "name": "stdout",
     "output_type": "stream",
     "text": [
      "Tuple of the first 5 triangular numbers: (1, 3, 6, 10, 15)\n"
     ]
    }
   ],
   "source": [
    "#48\n",
    "n = 5\n",
    "triangular_numbers_tuple = tuple((i * (i + 1)) // 2 for i in range(1, n + 1))\n",
    "print(\"Tuple of the first\", n, \"triangular numbers:\", triangular_numbers_tuple)"
   ]
  },
  {
   "cell_type": "code",
   "execution_count": 1,
   "id": "36a0ccd8-41ff-447f-8367-d49d2cf4371a",
   "metadata": {},
   "outputs": [
    {
     "name": "stdout",
     "output_type": "stream",
     "text": [
      "tuple subsequence successful\n"
     ]
    }
   ],
   "source": [
    "#49\n",
    "t1=(1,2,3,4,5,6)\n",
    "t2=(4,5,6)\n",
    "c=0\n",
    "for i in range(len(t1)):\n",
    "    if t2[0]==t1[i]:\n",
    "        for j in range(len(t2)):\n",
    "            if t1[i+j]==t2[j]:\n",
    "                c+=1\n",
    "if c==len(t2):\n",
    "    print(\"tuple subsequence successful\")\n",
    "else:\n",
    "    print(\"Not\")"
   ]
  },
  {
   "cell_type": "code",
   "execution_count": 4,
   "id": "6fc921d2-a520-499e-8039-cbe1fefd4b82",
   "metadata": {},
   "outputs": [
    {
     "name": "stdin",
     "output_type": "stream",
     "text": [
      "Please enter the range 5\n"
     ]
    },
    {
     "name": "stdout",
     "output_type": "stream",
     "text": [
      "(0, 1, 0, 1, 0)\n"
     ]
    }
   ],
   "source": [
    "#50\n",
    "n=int(input(\"Please enter the range\"))\n",
    "c=tuple(i%2 for i in range(n))\n",
    "print(c)"
   ]
  },
  {
   "cell_type": "code",
   "execution_count": 5,
   "id": "e267bc59-b7c6-4b60-a633-dd9cf973aa2a",
   "metadata": {},
   "outputs": [
    {
     "name": "stdout",
     "output_type": "stream",
     "text": [
      "{1, 2, 3, 4, 5}\n"
     ]
    }
   ],
   "source": [
    "#1\n",
    "s={i for i in range(1,6)}\n",
    "print(s)"
   ]
  },
  {
   "cell_type": "code",
   "execution_count": 6,
   "id": "270bc036-b32f-4040-8427-701fe3eab7f6",
   "metadata": {},
   "outputs": [
    {
     "name": "stdout",
     "output_type": "stream",
     "text": [
      "{1, 2, 3, 4, 5, 6}\n"
     ]
    }
   ],
   "source": [
    "#2\n",
    "s={1,2,3,4,5}\n",
    "s.add(6)\n",
    "print(s)"
   ]
  },
  {
   "cell_type": "code",
   "execution_count": 15,
   "id": "ea9adedb-2f7c-499d-a1d9-bb3c6bfaf2a3",
   "metadata": {},
   "outputs": [
    {
     "name": "stdout",
     "output_type": "stream",
     "text": [
      "{1, 2, 3, 5}\n"
     ]
    }
   ],
   "source": [
    "#3\n",
    "s={1,2,3,4,5}\n",
    "s.remove(4)\n",
    "print(s)"
   ]
  },
  {
   "cell_type": "code",
   "execution_count": 17,
   "id": "2e6f22c0-1250-41f2-b1f3-ebc449a07206",
   "metadata": {},
   "outputs": [
    {
     "name": "stdin",
     "output_type": "stream",
     "text": [
      "Please emter serach element 3\n"
     ]
    },
    {
     "name": "stdout",
     "output_type": "stream",
     "text": [
      "The element 3 presents in {1, 2, 3, 4, 5}\n"
     ]
    }
   ],
   "source": [
    "#4\n",
    "s={1,2,3,4,5}\n",
    "n=int(input(\"Please emter serach element\"))\n",
    "if n in s:\n",
    "    print(f\"The element {n} presents in {s}\")"
   ]
  },
  {
   "cell_type": "code",
   "execution_count": 19,
   "id": "dcb1d205-da64-4dd1-87d1-192b0cc08199",
   "metadata": {},
   "outputs": [
    {
     "name": "stdout",
     "output_type": "stream",
     "text": [
      "The lenght of set {1, 2, 3, 4, 5} is 5\n"
     ]
    }
   ],
   "source": [
    "#5\n",
    "s={1,2,3,4,5}\n",
    "c=0\n",
    "for i in s:\n",
    "    c+=1\n",
    "print(f\"The lenght of set {s} is {c}\")"
   ]
  },
  {
   "cell_type": "code",
   "execution_count": 22,
   "id": "efc9b965-e896-4a97-9504-8de2001029e8",
   "metadata": {},
   "outputs": [
    {
     "name": "stdout",
     "output_type": "stream",
     "text": [
      "The set before clearning is : {1, 2, 3, 4}\n",
      "The set after clearning is\n"
     ]
    }
   ],
   "source": [
    "#6\n",
    "s={1,2,3,4}\n",
    "print(f\"The set before clearning is : {s}\")\n",
    "s.clear()\n",
    "print(\"The set after clearning is\".format(s))"
   ]
  },
  {
   "cell_type": "code",
   "execution_count": 28,
   "id": "c4e9741b-018c-4b7f-a584-186e01a079bd",
   "metadata": {},
   "outputs": [
    {
     "name": "stdin",
     "output_type": "stream",
     "text": [
      "please enter the range 5\n"
     ]
    },
    {
     "name": "stdout",
     "output_type": "stream",
     "text": [
      "The first 5 even numbers in set format is {0, 2, 4}\n"
     ]
    }
   ],
   "source": [
    "#7\n",
    "n=int(input(\"please enter the range\"))\n",
    "s={i for i in range(0,n,2)}\n",
    "print(\"The first {} even numbers in set format is {}\".format(n,s))"
   ]
  },
  {
   "cell_type": "code",
   "execution_count": 30,
   "id": "aa144d7b-f181-49a3-a8e4-fd31b892b919",
   "metadata": {},
   "outputs": [
    {
     "name": "stdin",
     "output_type": "stream",
     "text": [
      "please enter the range 6\n"
     ]
    },
    {
     "name": "stdout",
     "output_type": "stream",
     "text": [
      "The first 6 even numbers in set format is {1, 3, 5}\n"
     ]
    }
   ],
   "source": [
    "#8\n",
    "n=int(input(\"please enter the range\"))\n",
    "s={i for i in range(1,n,2)}\n",
    "print(\"The first {} even numbers in set format is {}\".format(n,s))"
   ]
  },
  {
   "cell_type": "code",
   "execution_count": 1,
   "id": "5eb953d9-5d5f-4822-a65d-d6ca1f0d8a68",
   "metadata": {},
   "outputs": [
    {
     "data": {
      "text/plain": [
       "{1, 2, 3, 4, 5, 7, 8, 9, 10, 11}"
      ]
     },
     "execution_count": 1,
     "metadata": {},
     "output_type": "execute_result"
    }
   ],
   "source": [
    "#9\n",
    "s1={1,2,3,4,5}\n",
    "s2={7,8,9,10,11}\n",
    "s1.union(s2)"
   ]
  },
  {
   "cell_type": "code",
   "execution_count": 15,
   "id": "d6faca77-6042-45c1-8d48-f516bcbabe76",
   "metadata": {},
   "outputs": [
    {
     "data": {
      "text/plain": [
       "{3, 4, 5}"
      ]
     },
     "execution_count": 15,
     "metadata": {},
     "output_type": "execute_result"
    }
   ],
   "source": [
    "#10\n",
    "s1={1,2,3,4,5}\n",
    "s2={3,4,5,6,7}\n",
    "s1.intersection(s2)"
   ]
  },
  {
   "cell_type": "code",
   "execution_count": 18,
   "id": "5f25fbb8-37c1-4e72-94f8-7a11a6eff36b",
   "metadata": {},
   "outputs": [
    {
     "name": "stdout",
     "output_type": "stream",
     "text": [
      "{1, 2}\n",
      "{6, 7}\n"
     ]
    }
   ],
   "source": [
    "#11\n",
    "s1={1,2,3,4,5}\n",
    "s2={3,4,5,6,7}\n",
    "print(s1.difference(s2))\n",
    "print(s2.difference(s1))"
   ]
  },
  {
   "cell_type": "code",
   "execution_count": 21,
   "id": "e8807b22-5452-4a85-b4fa-3f9380f3c234",
   "metadata": {},
   "outputs": [
    {
     "name": "stdout",
     "output_type": "stream",
     "text": [
      "False\n",
      "True\n"
     ]
    }
   ],
   "source": [
    "#12\n",
    "s1={1,2,3,4,5}\n",
    "s2={2,3,4}\n",
    "print(s1.issubset(s2))\n",
    "print(s2.issubset(s1))"
   ]
  },
  {
   "cell_type": "code",
   "execution_count": 22,
   "id": "f4ebfb9f-97e4-41f3-b5e2-dee9f558e455",
   "metadata": {},
   "outputs": [
    {
     "name": "stdout",
     "output_type": "stream",
     "text": [
      "True\n",
      "False\n"
     ]
    }
   ],
   "source": [
    "#13\n",
    "s1={1,2,3,4,5}\n",
    "s2={2,3,4}\n",
    "print(s1.issuperset(s2))\n",
    "print(s2.issuperset(s1))"
   ]
  },
  {
   "cell_type": "code",
   "execution_count": 24,
   "id": "d22b2b74-a877-46cb-9edc-f6301c343e5e",
   "metadata": {},
   "outputs": [
    {
     "name": "stdout",
     "output_type": "stream",
     "text": [
      "{1, 2, 3, 4, 5}\n"
     ]
    }
   ],
   "source": [
    "#14\n",
    "l1=[1,2,3,4,5]\n",
    "s1=set(l1)\n",
    "print(s1)"
   ]
  },
  {
   "cell_type": "code",
   "execution_count": 25,
   "id": "33c3fc84-cce9-4813-9ea9-49561557f4f8",
   "metadata": {},
   "outputs": [
    {
     "name": "stdout",
     "output_type": "stream",
     "text": [
      "[1, 2, 3, 4, 56]\n"
     ]
    }
   ],
   "source": [
    "#15\n",
    "s1={1,2,3,4,56}\n",
    "l1=list(s1)\n",
    "print(l1)"
   ]
  },
  {
   "cell_type": "code",
   "execution_count": 30,
   "id": "8fc132b4-e9ee-4390-b21f-c01d3a31f3a4",
   "metadata": {},
   "outputs": [
    {
     "name": "stdin",
     "output_type": "stream",
     "text": [
      "Enter the element you want to remove the set {1, 2, 3, 4, 5, 6, 7, 8, 9} 4\n"
     ]
    },
    {
     "name": "stdout",
     "output_type": "stream",
     "text": [
      "Set after removing the required element is {1, 2, 3, 5, 6, 7, 8, 9}\n"
     ]
    }
   ],
   "source": [
    "#16\n",
    "s1={1,2,3,4,5,6,7,8,9}\n",
    "n=int(input(\"Enter the element you want to remove the set {}\".format(s1)))\n",
    "s1.discard(n)\n",
    "print(f\"Set after removing the required element is {s1}\")"
   ]
  },
  {
   "cell_type": "code",
   "execution_count": 39,
   "id": "28afc618-1b23-4214-8427-d6df8189da4f",
   "metadata": {},
   "outputs": [
    {
     "name": "stdout",
     "output_type": "stream",
     "text": [
      "{3, 4, 5, 6, 7, 8, 9, 10}\n"
     ]
    }
   ],
   "source": [
    "#17\n",
    "s1={2,3,4,5,6,7,8,9,10}\n",
    "s1.pop()\n",
    "print(s1)"
   ]
  },
  {
   "cell_type": "code",
   "execution_count": 46,
   "id": "9e2009b9-c589-4c26-bf35-dd68cdbfdd3f",
   "metadata": {},
   "outputs": [
    {
     "name": "stdout",
     "output_type": "stream",
     "text": [
      "Intersection present\n"
     ]
    }
   ],
   "source": [
    "#18\n",
    "s1={1,2,3,4,5}\n",
    "s2={3,4,6}\n",
    "if s1.intersection(s2):\n",
    "    print(\"Intersection present\")\n",
    "else:\n",
    "    print(\"No intersection present\")"
   ]
  },
  {
   "cell_type": "code",
   "execution_count": 52,
   "id": "ff6b07de-32b3-4650-84bc-6c29cdd2bb53",
   "metadata": {},
   "outputs": [
    {
     "name": "stdout",
     "output_type": "stream",
     "text": [
      "{1, 2, 5, 6}\n",
      "{1, 2, 5, 6}\n"
     ]
    }
   ],
   "source": [
    "#19\n",
    "s1={1,2,3,4,5}\n",
    "s2={3,4,6}\n",
    "s3=s1.difference(s2)\n",
    "s4=s2.difference(s1)\n",
    "print(s3.union(s4))\n",
    "\n",
    "####################\n",
    "print(s1^s2)"
   ]
  },
  {
   "cell_type": "code",
   "execution_count": 1,
   "id": "5a51e5c8-f91a-4b46-a6fa-d2d65fceb9d3",
   "metadata": {},
   "outputs": [
    {
     "data": {
      "text/plain": [
       "{1, 2, 3, 4, 5, 6}"
      ]
     },
     "execution_count": 1,
     "metadata": {},
     "output_type": "execute_result"
    }
   ],
   "source": [
    "#20\n",
    "s1={1,2,3,4,5}\n",
    "s2={3,4,6}\n",
    "s1.update(s2)\n",
    "s1"
   ]
  },
  {
   "cell_type": "code",
   "execution_count": 11,
   "id": "198cf800-308c-4fb7-bf0e-2aba0faaa4aa",
   "metadata": {},
   "outputs": [
    {
     "name": "stdout",
     "output_type": "stream",
     "text": [
      "{2, 3, 5, 7, 11}\n"
     ]
    }
   ],
   "source": [
    "#21\n",
    "c=0\n",
    "i=1\n",
    "s={2,}\n",
    "while len(s)<5:\n",
    "        c=0\n",
    "        i+=1\n",
    "        for j in range(1,i+1):\n",
    "            if i%j==0:\n",
    "                c+=1\n",
    "        if c==2:\n",
    "            s.add(i)\n",
    "print(s)"
   ]
  },
  {
   "cell_type": "code",
   "execution_count": 13,
   "id": "95403ef4-bc3f-4c44-a7a4-bcf121f170c7",
   "metadata": {},
   "outputs": [
    {
     "name": "stdout",
     "output_type": "stream",
     "text": [
      "Identical sets\n"
     ]
    }
   ],
   "source": [
    "#22\n",
    "s1={1,2,3,4,5,6,7}\n",
    "s2={2,3,4,5,6,7,1}\n",
    "if s1==s2:\n",
    "    print(\"Identical sets\")\n",
    "else:\n",
    "    print(\"Non Identical sets\")"
   ]
  },
  {
   "cell_type": "code",
   "execution_count": 15,
   "id": "09e6e71b-a9bc-4b82-9e86-4bcb1800274e",
   "metadata": {},
   "outputs": [
    {
     "name": "stdout",
     "output_type": "stream",
     "text": [
      "frozenset({1, 2, 3, 4, 5})\n"
     ]
    },
    {
     "ename": "AttributeError",
     "evalue": "'frozenset' object has no attribute 'remove'",
     "output_type": "error",
     "traceback": [
      "\u001b[0;31m---------------------------------------------------------------------------\u001b[0m",
      "\u001b[0;31mAttributeError\u001b[0m                            Traceback (most recent call last)",
      "Cell \u001b[0;32mIn[15], line 5\u001b[0m\n\u001b[1;32m      3\u001b[0m s1\u001b[38;5;241m=\u001b[39m\u001b[38;5;28mfrozenset\u001b[39m(s) \u001b[38;5;66;03m##frozenset set that cannot be changed\u001b[39;00m\n\u001b[1;32m      4\u001b[0m \u001b[38;5;28mprint\u001b[39m(s1)\n\u001b[0;32m----> 5\u001b[0m \u001b[43ms1\u001b[49m\u001b[38;5;241;43m.\u001b[39;49m\u001b[43mremove\u001b[49m()\n",
      "\u001b[0;31mAttributeError\u001b[0m: 'frozenset' object has no attribute 'remove'"
     ]
    }
   ],
   "source": [
    "#23\n",
    "s={1,2,3,4,5}\n",
    "s1=frozenset(s) ##frozenset set that cannot be changed\n",
    "print(s1)\n",
    "s1.remove() #this confirms that frozenset cannot be changed"
   ]
  },
  {
   "cell_type": "code",
   "execution_count": 20,
   "id": "d3a63a2d-b578-4a98-b6d1-92bfb528e916",
   "metadata": {},
   "outputs": [
    {
     "name": "stdout",
     "output_type": "stream",
     "text": [
      "True\n",
      "True\n"
     ]
    }
   ],
   "source": [
    "#24\n",
    "s1={1,2,3,4,5}\n",
    "s2={6,7,8,9}\n",
    "print(s1.isdisjoint(s2)) ##no elements in common\n",
    "print(s2.isdisjoint(s1))"
   ]
  },
  {
   "cell_type": "code",
   "execution_count": 22,
   "id": "482daf5c-92e5-48c2-8de4-d657fede0ad8",
   "metadata": {},
   "outputs": [
    {
     "name": "stdout",
     "output_type": "stream",
     "text": [
      "{1, 4, 9, 16, 25}\n"
     ]
    }
   ],
   "source": [
    "#25\n",
    "s={i*i for i in range(1,6)}\n",
    "print(s)"
   ]
  },
  {
   "cell_type": "code",
   "execution_count": 34,
   "id": "af09e53d-0bf9-418a-a111-1518ba3c8a9e",
   "metadata": {},
   "outputs": [
    {
     "name": "stdout",
     "output_type": "stream",
     "text": [
      "{8, 2, 4, 6}\n"
     ]
    }
   ],
   "source": [
    "#26\n",
    "s={1,2,3,4,5,6,7,8}\n",
    "s2={i for i in s if i%2==0}\n",
    "print(s2)"
   ]
  },
  {
   "cell_type": "code",
   "execution_count": 31,
   "id": "be1ac684-edd0-445a-86e1-ae794598d516",
   "metadata": {},
   "outputs": [
    {
     "name": "stdout",
     "output_type": "stream",
     "text": [
      "{2, 4, 6, 8, 10, 12, 14, 16}\n"
     ]
    }
   ],
   "source": [
    "#27\n",
    "s={1,2,3,4,5,6,7,8}\n",
    "s2={i*2 for i in s}\n",
    "print(s2)"
   ]
  },
  {
   "cell_type": "code",
   "execution_count": 33,
   "id": "cefacc25-cfc5-4932-9432-16a834749de3",
   "metadata": {},
   "outputs": [
    {
     "name": "stdout",
     "output_type": "stream",
     "text": [
      "{72, 82, 27, 94, 95}\n"
     ]
    }
   ],
   "source": [
    "#28\n",
    "import random\n",
    "s={random.randint(1,100) for i in range(5)}\n",
    "print(s)"
   ]
  },
  {
   "cell_type": "code",
   "execution_count": 36,
   "id": "a7ae98db-0d34-4eb5-aa98-b0c19d5b1ee9",
   "metadata": {},
   "outputs": [
    {
     "name": "stdout",
     "output_type": "stream",
     "text": [
      "NonEmpty Set\n"
     ]
    }
   ],
   "source": [
    "#29\n",
    "s={1,2,3,4,5}\n",
    "if len(s)==0:\n",
    "    print(\"Empty Set\")\n",
    "else:\n",
    "    print(\"NonEmpty Set\")"
   ]
  },
  {
   "cell_type": "code",
   "execution_count": 40,
   "id": "bf00ce17-cd61-4ca4-b581-b422bf64ea3a",
   "metadata": {},
   "outputs": [
    {
     "name": "stdout",
     "output_type": "stream",
     "text": [
      "{frozenset({1, 2, 3, 4, 5}), frozenset({6, 7, 8, 9, 10})}\n"
     ]
    }
   ],
   "source": [
    "#30\n",
    "s1={1,2,3,4,5}\n",
    "s2={6,7,8,9,10}\n",
    "s1=frozenset(s1)\n",
    "s2=frozenset(s2)\n",
    "s3={s1,s2}\n",
    "print(s3)"
   ]
  },
  {
   "cell_type": "code",
   "execution_count": 42,
   "id": "f6dd76c7-58d2-4f35-bdb9-9624651b8f23",
   "metadata": {},
   "outputs": [
    {
     "name": "stdout",
     "output_type": "stream",
     "text": [
      "{1, 2, 4, 5, 6}\n"
     ]
    }
   ],
   "source": [
    "#31\n",
    "s={1,2,3,4,5,6}\n",
    "s.discard(3)\n",
    "print(s)"
   ]
  },
  {
   "cell_type": "code",
   "execution_count": 49,
   "id": "5c6acdca-525c-4a76-a317-52decb16ef53",
   "metadata": {},
   "outputs": [
    {
     "name": "stdout",
     "output_type": "stream",
     "text": [
      "Union of sets {1, 2, 3, 4, 5, 6} {0, 3, 4, 5, 9, 78} is {0, 1, 2, 3, 4, 5, 6, 9, 78}\n",
      "Intersection of sets {1, 2, 3, 4, 5, 6} {0, 3, 4, 5, 9, 78} is {3, 4, 5}\n",
      "Difference of sets {1, 2, 3, 4, 5, 6} {0, 3, 4, 5, 9, 78} is {1, 2, 6}\n",
      "Checking if {1, 2, 3, 4, 5, 6} is superset of  {0, 3, 4, 5, 9, 78} is False\n",
      "Checking if {1, 2, 3, 4, 5, 6} is subset of  {0, 3, 4, 5, 9, 78} is False\n"
     ]
    }
   ],
   "source": [
    "#32\n",
    "s1={1,2,3,4,5,6}\n",
    "s2={3,4,5,78,9,0}\n",
    "print(f\"Union of sets {s1} {s2} is {s1.union(s2)}\")\n",
    "print(f\"Intersection of sets {s1} {s2} is {s1.intersection(s2)}\")\n",
    "print(f\"Difference of sets {s1} {s2} is {s1.difference(s2)}\")\n",
    "print(f\"Checking if {s1} is superset of  {s2} is {s1.issuperset(s2)}\")\n",
    "print(f\"Checking if {s1} is subset of  {s2} is {s1.issubset(s2)}\")"
   ]
  },
  {
   "cell_type": "code",
   "execution_count": 51,
   "id": "6ee989c2-fbf5-4f3a-9abe-596b92ad3e58",
   "metadata": {},
   "outputs": [
    {
     "name": "stdout",
     "output_type": "stream",
     "text": [
      "{'y', 'e', 'M', 'N', 's', 't', 'K', 'E', 'a', 'r', 'n', 'm', 'i', ' '}\n"
     ]
    }
   ],
   "source": [
    "#33\n",
    "stri=\"My Name is Kiriti Emani\"\n",
    "s=set(stri)\n",
    "print(s)"
   ]
  },
  {
   "cell_type": "code",
   "execution_count": 56,
   "id": "2d65a06e-1f37-4f36-bc13-1899e33ae7f7",
   "metadata": {},
   "outputs": [
    {
     "name": "stdout",
     "output_type": "stream",
     "text": [
      "{1, 2, 3, 4, 5}\n"
     ]
    }
   ],
   "source": [
    "#34\n",
    "s={'1','2','3','4','5'}\n",
    "s1=set()\n",
    "for i in s:\n",
    "    s1.add(int(i))\n",
    "print(s1)"
   ]
  },
  {
   "cell_type": "code",
   "execution_count": 58,
   "id": "e34e18a7-890c-4ebd-9bf3-8fd7c6e9e0d5",
   "metadata": {},
   "outputs": [
    {
     "name": "stdout",
     "output_type": "stream",
     "text": [
      "{'5', '2', '4', '6', '1', '3'}\n"
     ]
    }
   ],
   "source": [
    "#35\n",
    "s={1,2,3,4,5,6}\n",
    "s1=set()\n",
    "for i in s:\n",
    "    s1.add(str(i))\n",
    "print(s1)"
   ]
  },
  {
   "cell_type": "code",
   "execution_count": 61,
   "id": "5955cf97-333d-4389-bd47-9f4fbbf036dc",
   "metadata": {},
   "outputs": [
    {
     "data": {
      "text/plain": [
       "{1, 2, 3, 4, 5, 6}"
      ]
     },
     "execution_count": 61,
     "metadata": {},
     "output_type": "execute_result"
    }
   ],
   "source": [
    "#36\n",
    "t=(1,2,3,4,5,6)\n",
    "set(t)"
   ]
  },
  {
   "cell_type": "code",
   "execution_count": 62,
   "id": "23490c60-65e2-4a8d-bb33-4bf5380c412b",
   "metadata": {},
   "outputs": [
    {
     "data": {
      "text/plain": [
       "(1, 2, 3, 4, 5, 6)"
      ]
     },
     "execution_count": 62,
     "metadata": {},
     "output_type": "execute_result"
    }
   ],
   "source": [
    "#37\n",
    "t={1,2,3,4,5,6}\n",
    "tuple(t)"
   ]
  },
  {
   "cell_type": "code",
   "execution_count": 64,
   "id": "9c3eb69d-e8ea-47c0-9011-f60a56e94e0d",
   "metadata": {},
   "outputs": [
    {
     "name": "stdout",
     "output_type": "stream",
     "text": [
      "7\n"
     ]
    }
   ],
   "source": [
    "#38\n",
    "s={1,2,3,4,5,6,7}\n",
    "max_s=max(s)\n",
    "print(max_s)"
   ]
  },
  {
   "cell_type": "code",
   "execution_count": 66,
   "id": "55d24946-6973-4987-a844-6bb74fd78795",
   "metadata": {},
   "outputs": [
    {
     "name": "stdout",
     "output_type": "stream",
     "text": [
      "1\n"
     ]
    }
   ],
   "source": [
    "#39\n",
    "s={1,2,3,4,5,6,7}\n",
    "min_s=min(s)\n",
    "print(min_s)"
   ]
  },
  {
   "cell_type": "code",
   "execution_count": 72,
   "id": "ea659cf5-6322-4469-9bb6-23b36dbf4552",
   "metadata": {},
   "outputs": [
    {
     "name": "stdin",
     "output_type": "stream",
     "text": [
      ">  kiriti\n",
      ">  emani\n",
      ">  done\n"
     ]
    },
    {
     "name": "stdout",
     "output_type": "stream",
     "text": [
      "{'kiriti', 'emani'}\n"
     ]
    }
   ],
   "source": [
    "#40\n",
    "s=set()\n",
    "while True:\n",
    "    user_input = input(\"> \")  # Get input from the user\n",
    "\n",
    "    if user_input.lower() == 'done':\n",
    "        break  # Exit the loop if the user enters 'done'\n",
    "\n",
    "    # Step 3: Add the user input to the set\n",
    "    s.add(user_input)\n",
    "print(s)"
   ]
  },
  {
   "cell_type": "code",
   "execution_count": 73,
   "id": "e1e9132f-ed2e-44f7-9e27-7b50297085b7",
   "metadata": {},
   "outputs": [
    {
     "name": "stdout",
     "output_type": "stream",
     "text": [
      "Non Empty Intersection\n"
     ]
    }
   ],
   "source": [
    "#41\n",
    "s1={1,2,3,4,5}\n",
    "s2={2,3,4}\n",
    "if s1.intersection(s2):\n",
    "    print(\"Non Empty Intersection\")\n",
    "else:\n",
    "    print(\"Empty Intersection\")"
   ]
  },
  {
   "cell_type": "code",
   "execution_count": 74,
   "id": "27805e36-9343-431d-b4b4-69b897bdb0f7",
   "metadata": {},
   "outputs": [
    {
     "name": "stdout",
     "output_type": "stream",
     "text": [
      "{0, 1, 2, 3, 5}\n"
     ]
    }
   ],
   "source": [
    "#42\n",
    "s=set()\n",
    "a,b=0,1\n",
    "for i in range(6):\n",
    "    s.add(a)\n",
    "    a,b=b,a+b\n",
    "print(s)"
   ]
  },
  {
   "cell_type": "code",
   "execution_count": 76,
   "id": "119070b3-735e-41cf-a42a-0cd0f24287ec",
   "metadata": {},
   "outputs": [
    {
     "name": "stdout",
     "output_type": "stream",
     "text": [
      "[1, 2, 3, 4, 5, 6, 7]\n"
     ]
    }
   ],
   "source": [
    "#43\n",
    "l=[1,2,3,4,5,6,6,6,7,7]\n",
    "s=set(l)\n",
    "print(list(s))"
   ]
  },
  {
   "cell_type": "code",
   "execution_count": 79,
   "id": "f90a3fb1-d0e3-44f2-9f85-fb54834490f7",
   "metadata": {},
   "outputs": [
    {
     "name": "stdout",
     "output_type": "stream",
     "text": [
      "Equal Sets\n"
     ]
    }
   ],
   "source": [
    "#44\n",
    "s1={5,2,3,4,3,1}\n",
    "s2={1,2,3,4,5}\n",
    "if s1==s2:\n",
    "    print(\"Equal Sets\")\n",
    "else:\n",
    "    print(\"Unequal Sets\")"
   ]
  },
  {
   "cell_type": "code",
   "execution_count": 83,
   "id": "ff809f96-e2ee-4427-bafe-46db023bc455",
   "metadata": {},
   "outputs": [
    {
     "name": "stdin",
     "output_type": "stream",
     "text": [
      "Please inpu the range 5\n"
     ]
    },
    {
     "name": "stdout",
     "output_type": "stream",
     "text": [
      "{1, 2, 4, 8, 16}\n"
     ]
    }
   ],
   "source": [
    "#45\n",
    "n=int(input(\"Please inpu the range\"))\n",
    "s={2**i for i in range(n)}\n",
    "print(s)"
   ]
  },
  {
   "cell_type": "code",
   "execution_count": 84,
   "id": "2bcb16c1-c970-4543-9562-7caaf585cbd6",
   "metadata": {},
   "outputs": [
    {
     "data": {
      "text/plain": [
       "{2, 3, 4}"
      ]
     },
     "execution_count": 84,
     "metadata": {},
     "output_type": "execute_result"
    }
   ],
   "source": [
    "#46\n",
    "s={1,2,3,4,5}\n",
    "l=[2,3,4,7,8,9]\n",
    "s1=set(l)\n",
    "s.intersection(s1)"
   ]
  },
  {
   "cell_type": "code",
   "execution_count": 88,
   "id": "5e07f17d-116e-44ba-996c-a32974b1836c",
   "metadata": {},
   "outputs": [
    {
     "name": "stdin",
     "output_type": "stream",
     "text": [
      "Please enter range 5\n"
     ]
    },
    {
     "name": "stdout",
     "output_type": "stream",
     "text": [
      "{0, 1, 3, 6, 10}\n"
     ]
    }
   ],
   "source": [
    "#47\n",
    "n=int(input(\"Please enter range\"))\n",
    "s={((i*(i+1))//2) for i in range(n)}\n",
    "print(s)"
   ]
  },
  {
   "cell_type": "code",
   "execution_count": 89,
   "id": "f4146a0d-d981-460c-9242-d82bfd726277",
   "metadata": {},
   "outputs": [
    {
     "data": {
      "text/plain": [
       "True"
      ]
     },
     "execution_count": 89,
     "metadata": {},
     "output_type": "execute_result"
    }
   ],
   "source": [
    "#48\n",
    "s1={1,2,3,4,5,6}\n",
    "s2={2,3,4,5}\n",
    "s2.issubset(s1)"
   ]
  },
  {
   "cell_type": "code",
   "execution_count": 90,
   "id": "9f8ee389-fddd-4f9f-b08e-9621dc7a41c5",
   "metadata": {},
   "outputs": [
    {
     "name": "stdin",
     "output_type": "stream",
     "text": [
      "Please enter range 5\n"
     ]
    },
    {
     "name": "stdout",
     "output_type": "stream",
     "text": [
      "{0, 1}\n"
     ]
    }
   ],
   "source": [
    "#49\n",
    "n=int(input(\"Please enter range\"))\n",
    "s={i%2 for i in range(n)}\n",
    "print(s)"
   ]
  },
  {
   "cell_type": "code",
   "execution_count": 92,
   "id": "7cc47d1e-1178-40a8-b0b1-e8631c2e2bce",
   "metadata": {},
   "outputs": [
    {
     "data": {
      "text/plain": [
       "{1, 2, 3, 4, 5, 6, 7, 8, 9, 10, 11, 12, 13, 14}"
      ]
     },
     "execution_count": 92,
     "metadata": {},
     "output_type": "execute_result"
    }
   ],
   "source": [
    "#50\n",
    "s1={1,2,3,4,5}\n",
    "s2={5,6,7,8,9}\n",
    "s3={10,11,12,13,14}\n",
    "s1.union(s2,s3)"
   ]
  }
 ],
 "metadata": {
  "kernelspec": {
   "display_name": "Python 3 (ipykernel)",
   "language": "python",
   "name": "python3"
  },
  "language_info": {
   "codemirror_mode": {
    "name": "ipython",
    "version": 3
   },
   "file_extension": ".py",
   "mimetype": "text/x-python",
   "name": "python",
   "nbconvert_exporter": "python",
   "pygments_lexer": "ipython3",
   "version": "3.10.8"
  }
 },
 "nbformat": 4,
 "nbformat_minor": 5
}
