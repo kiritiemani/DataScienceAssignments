{
 "cells": [
  {
   "cell_type": "code",
   "execution_count": 4,
   "id": "dd311a06-74a6-4e38-956b-637a00510d59",
   "metadata": {},
   "outputs": [
    {
     "name": "stdout",
     "output_type": "stream",
     "text": [
      "Below is range of numbers from 1 to 10 using for loop:\n",
      "1\n",
      "2\n",
      "3\n",
      "4\n",
      "5\n",
      "6\n",
      "7\n",
      "8\n",
      "9\n",
      "10\n"
     ]
    }
   ],
   "source": [
    "#1 Write a Python program to print the numbers from 1 to 10 using a `for` loop.\n",
    "print(\"Below is range of numbers from 1 to 10 using for loop:\")\n",
    "for i in range(1,11):\n",
    "    print(i)"
   ]
  },
  {
   "cell_type": "code",
   "execution_count": 5,
   "id": "fda7052e-b794-4814-a0fe-ccaf467a0922",
   "metadata": {},
   "outputs": [
    {
     "name": "stdout",
     "output_type": "stream",
     "text": [
      "The sum of numbers in the list [1, 2, 3, 4, 5, 6] is 21\n"
     ]
    }
   ],
   "source": [
    "#2 Create a program that calculates the sum of all numbers in a list using a `for` loop\n",
    "a=[1,2,3,4,5,6]\n",
    "sum=0\n",
    "for i in a:\n",
    "    sum=sum+i\n",
    "print(f\"The sum of numbers in the list {a} is {sum}\")"
   ]
  },
  {
   "cell_type": "code",
   "execution_count": 20,
   "id": "f372ad96-5ec8-48d0-8dd1-f0ef7c5f812f",
   "metadata": {},
   "outputs": [
    {
     "name": "stdout",
     "output_type": "stream",
     "text": [
      "The string sriramakiriti in reverse order is itirikamarirs\n"
     ]
    }
   ],
   "source": [
    "#3 Write a program to print the characters of a string in reverse order using a `for` loop.\n",
    "s=\"sriramakiriti\"\n",
    "rs=\"\"\n",
    "for i in range(1,len(s)+1):\n",
    "    rs=rs+s[len(s)-i]\n",
    "print(\"The string {} in reverse order is {}\".format(s,rs)) "
   ]
  },
  {
   "cell_type": "code",
   "execution_count": 3,
   "id": "83b0a3ee-1538-49c2-b097-8343764c29a0",
   "metadata": {},
   "outputs": [
    {
     "name": "stdin",
     "output_type": "stream",
     "text": [
      "Please enter the number for which factorial needs to be calculated 8\n"
     ]
    },
    {
     "name": "stdout",
     "output_type": "stream",
     "text": [
      "40320\n"
     ]
    }
   ],
   "source": [
    "#4 Develop a program that finds the factorial of a given number using a `for` loop\n",
    "n=int(input(\"Please enter the number for which factorial needs to be calculated\"))\n",
    "a=1\n",
    "sum=1\n",
    "for i in range(1,n+1):\n",
    "    sum=(sum*i)\n",
    "print(sum)"
   ]
  },
  {
   "cell_type": "code",
   "execution_count": 6,
   "id": "ae226e65-c6e5-4976-aed3-24a2ce019aab",
   "metadata": {},
   "outputs": [
    {
     "name": "stdin",
     "output_type": "stream",
     "text": [
      "Please enter the number for which multiplication needs to be done 45\n"
     ]
    },
    {
     "name": "stdout",
     "output_type": "stream",
     "text": [
      "45 * 1 = 45\n",
      "45 * 2 = 90\n",
      "45 * 3 = 135\n",
      "45 * 4 = 180\n",
      "45 * 5 = 225\n",
      "45 * 6 = 270\n",
      "45 * 7 = 315\n",
      "45 * 8 = 360\n",
      "45 * 9 = 405\n",
      "45 * 10 = 450\n",
      "45 * 11 = 495\n",
      "45 * 12 = 540\n",
      "45 * 13 = 585\n",
      "45 * 14 = 630\n",
      "45 * 15 = 675\n"
     ]
    }
   ],
   "source": [
    "#5 Create a program to print the multiplication table of a given number using a `for` loop.\n",
    "n=int(input(\"Please enter the number for which multiplication needs to be done\"))\n",
    "for i in range(1,16):\n",
    "    print(\"{} * {} = {}\".format(n,i,n*i))"
   ]
  },
  {
   "cell_type": "code",
   "execution_count": 8,
   "id": "9222f0d2-a641-45a2-a051-fc8ede9e68e7",
   "metadata": {},
   "outputs": [
    {
     "name": "stdout",
     "output_type": "stream",
     "text": [
      "The no of even numbers in list [1, 2, 3, 4, 5, 6, 6, 8, 10, 11, 13, 15, 14, 16] is 8\n",
      "The no of odd numbers in list [1, 2, 3, 4, 5, 6, 6, 8, 10, 11, 13, 15, 14, 16] is 6\n"
     ]
    }
   ],
   "source": [
    "#6 Write a program that counts the number of even and odd numbers in a list using a `for` loop.\n",
    "l1=[1,2,3,4,5,6,6,8,10,11,13,15,14,16]\n",
    "c=0\n",
    "d=0\n",
    "for i in l1:\n",
    "    if i%2==0:\n",
    "        c+=1\n",
    "    if i%2!=0:\n",
    "        d+=1\n",
    "print(\"The no of even numbers in list {} is {}\".format(l1,c))\n",
    "print(\"The no of odd numbers in list {} is {}\".format(l1,d))"
   ]
  },
  {
   "cell_type": "code",
   "execution_count": 9,
   "id": "de76dc91-4c66-4183-9202-525669c82930",
   "metadata": {},
   "outputs": [
    {
     "name": "stdout",
     "output_type": "stream",
     "text": [
      "The square of 1 is 1\n",
      "The square of 2 is 4\n",
      "The square of 3 is 9\n",
      "The square of 4 is 16\n",
      "The square of 5 is 25\n"
     ]
    }
   ],
   "source": [
    "#7 Develop a program that prints the squares of numbers from 1 to 5 using a `for` loop.\n",
    "n=0\n",
    "for i in range(1,6):\n",
    "    n=i*i\n",
    "    print(f\"The square of {i} is {n}\")"
   ]
  },
  {
   "cell_type": "code",
   "execution_count": 10,
   "id": "8468c51f-0755-4d8d-a970-cdf308c4066d",
   "metadata": {},
   "outputs": [
    {
     "name": "stdout",
     "output_type": "stream",
     "text": [
      "13\n"
     ]
    }
   ],
   "source": [
    "#8 Create a program to find the length of a string without using the `len()` function\n",
    "s=\"sriramakiriti\"\n",
    "c=0\n",
    "for i in s:\n",
    "    c+=1\n",
    "print(c)"
   ]
  },
  {
   "cell_type": "code",
   "execution_count": 12,
   "id": "02fc9e9b-a969-487b-bf58-c07c8c22d57a",
   "metadata": {},
   "outputs": [
    {
     "name": "stdout",
     "output_type": "stream",
     "text": [
      "The Average of list [1, 2, 3, 4, 5, 6, 7, 8, 9, 10, 11, 12, 13, 14] is 7.5\n"
     ]
    }
   ],
   "source": [
    "#9 Write a program that calculates the average of a list of numbers using a `for` loop\n",
    "l1=[1,2,3,4,5,6,7,8,9,10,11,12,13,14]\n",
    "sum=0\n",
    "count=0\n",
    "for i in l1:\n",
    "    sum=sum+i\n",
    "    count=count+1\n",
    "print(f\"The Average of list {l1} is {sum/count}\")"
   ]
  },
  {
   "cell_type": "code",
   "execution_count": 17,
   "id": "b438a20e-3fec-4df4-bfbc-55622b769d1e",
   "metadata": {},
   "outputs": [
    {
     "name": "stdin",
     "output_type": "stream",
     "text": [
      "Please enter the range of fibnocci series 6\n"
     ]
    },
    {
     "name": "stdout",
     "output_type": "stream",
     "text": [
      "[0, 1, 1, 2, 3, 5, 8]\n"
     ]
    }
   ],
   "source": [
    "#10 Develop a program that prints the first `n` Fibonacci numbers using a `for` loop\n",
    "n=int(input(\"Please enter the range of fibnocci series\"))\n",
    "c=[0,1]\n",
    "for i in range(1,n):\n",
    "    d=c[i]+c[i-1]\n",
    "    c.append(d)\n",
    "print(c)"
   ]
  },
  {
   "cell_type": "code",
   "execution_count": 6,
   "id": "f7ca907e-befb-458d-a6c8-77f045667ed8",
   "metadata": {},
   "outputs": [
    {
     "name": "stdout",
     "output_type": "stream",
     "text": [
      "The list [1, 2, 3, 4, 4, 5, 6, 6] contains duplicates and the duplicate elements are [4, 6]\n"
     ]
    }
   ],
   "source": [
    "#11  Write a program to check if a given list contains any duplicates using a `for` loop.\n",
    "l1=[1,2,3,6,4,4,5,6]\n",
    "l1.sort()\n",
    "dl=[]\n",
    "for i in range(len(l1)):\n",
    "    if l1[i]==l1[i-1]:\n",
    "        dl.append(l1[i])\n",
    "print(f\"The list {l1} contains duplicates and the duplicate elements are {dl}\")"
   ]
  },
  {
   "cell_type": "code",
   "execution_count": 15,
   "id": "600a55b6-dcc3-4d27-9783-629d64fcc527",
   "metadata": {},
   "outputs": [
    {
     "name": "stdin",
     "output_type": "stream",
     "text": [
      "Please enter the range to find prime numbers 10\n"
     ]
    },
    {
     "name": "stdout",
     "output_type": "stream",
     "text": [
      "The list of prime numbers is [2, 3, 5, 7]\n"
     ]
    }
   ],
   "source": [
    "#12  Create a program that prints the prime numbers in a given range using a `for` loop\n",
    "n=int(input(\"Please enter the range to find prime numbers\"))\n",
    "l1=[]\n",
    "c=0\n",
    "for i in range(1,n+1):\n",
    "    c=0\n",
    "    for j in range(1,i+1):\n",
    "        if i%j==0:\n",
    "            c+=1\n",
    "    if c==2:\n",
    "        l1.append(j)\n",
    "print(\"The list of prime numbers is\",l1)"
   ]
  },
  {
   "cell_type": "code",
   "execution_count": 19,
   "id": "4dd5c77f-d1f6-44e9-b306-55a7a03ab8f6",
   "metadata": {},
   "outputs": [
    {
     "name": "stdin",
     "output_type": "stream",
     "text": [
      "Please enter the string Ikiriti\n"
     ]
    },
    {
     "name": "stdout",
     "output_type": "stream",
     "text": [
      "The no of vowels in the string Ikiriti is 4\n"
     ]
    }
   ],
   "source": [
    "#13 Develop a program that counts the number of vowels in a string using a `for` loop\n",
    "s=input(\"Please enter the string\")\n",
    "a=s.lower()\n",
    "c=0\n",
    "for i in a:\n",
    "    if i in ('a','e','i','o','u'):\n",
    "        c+=1\n",
    "print(f\"The no of vowels in the string {s} is {c}\")"
   ]
  },
  {
   "cell_type": "code",
   "execution_count": 23,
   "id": "a6dbccf6-0512-4754-a6d7-017bbe6dad20",
   "metadata": {},
   "outputs": [
    {
     "name": "stdout",
     "output_type": "stream",
     "text": [
      "The maximum element in the 2D list is 9\n"
     ]
    }
   ],
   "source": [
    "#14  Write a program to find the maximum element in a 2D list using a nested `for` loop\n",
    "a=[[1,2,3],[4,9,6],[7,8,6]]\n",
    "maxi=a[0][0]\n",
    "for i in a:\n",
    "    for j in i:\n",
    "        if j>maxi:\n",
    "            maxi=j\n",
    "print(\"The maximum element in the 2D list is\",maxi)"
   ]
  },
  {
   "cell_type": "code",
   "execution_count": 48,
   "id": "baa733c6-8f13-49de-9d21-aeaf50974a29",
   "metadata": {},
   "outputs": [
    {
     "name": "stdin",
     "output_type": "stream",
     "text": [
      "Enter the number you want to remove from the list[1, 2, 3, 3, 4, 5, 6, 7, 3, 4, 3] 3\n"
     ]
    },
    {
     "name": "stdout",
     "output_type": "stream",
     "text": [
      "List after removing 3 is [1, 2, 4, 5, 6, 7, 4]\n"
     ]
    }
   ],
   "source": [
    "#15 Create a program that removes all occurrences of a specific element from a list using a `for` loop\n",
    "a=[1,2,3,3,4,5,6,7,3,4,3]\n",
    "b=a.copy()\n",
    "n=int(input(f\"Enter the number you want to remove from the list{a}\"))\n",
    "for i in range(len(b)):\n",
    "    if b[i]==n:\n",
    "        a.remove(n)\n",
    "print(f\"List after removing {n} is {a}\")"
   ]
  },
  {
   "cell_type": "code",
   "execution_count": 3,
   "id": "4378f979-6e03-42ec-8ee9-050d378b0a44",
   "metadata": {},
   "outputs": [
    {
     "name": "stdout",
     "output_type": "stream",
     "text": [
      "1 * 1 = 1\n",
      "1 * 2 = 2\n",
      "1 * 3 = 3\n",
      "1 * 4 = 4\n",
      "1 * 5 = 5\n",
      "1 * 6 = 6\n",
      "1 * 7 = 7\n",
      "1 * 8 = 8\n",
      "1 * 9 = 9\n",
      "1 * 10 = 10\n",
      "1 * 11 = 11\n",
      "1 * 12 = 12\n",
      "1 * 13 = 13\n",
      "1 * 14 = 14\n",
      "1 * 15 = 15\n",
      "2 * 1 = 2\n",
      "2 * 2 = 4\n",
      "2 * 3 = 6\n",
      "2 * 4 = 8\n",
      "2 * 5 = 10\n",
      "2 * 6 = 12\n",
      "2 * 7 = 14\n",
      "2 * 8 = 16\n",
      "2 * 9 = 18\n",
      "2 * 10 = 20\n",
      "2 * 11 = 22\n",
      "2 * 12 = 24\n",
      "2 * 13 = 26\n",
      "2 * 14 = 28\n",
      "2 * 15 = 30\n",
      "3 * 1 = 3\n",
      "3 * 2 = 6\n",
      "3 * 3 = 9\n",
      "3 * 4 = 12\n",
      "3 * 5 = 15\n",
      "3 * 6 = 18\n",
      "3 * 7 = 21\n",
      "3 * 8 = 24\n",
      "3 * 9 = 27\n",
      "3 * 10 = 30\n",
      "3 * 11 = 33\n",
      "3 * 12 = 36\n",
      "3 * 13 = 39\n",
      "3 * 14 = 42\n",
      "3 * 15 = 45\n",
      "4 * 1 = 4\n",
      "4 * 2 = 8\n",
      "4 * 3 = 12\n",
      "4 * 4 = 16\n",
      "4 * 5 = 20\n",
      "4 * 6 = 24\n",
      "4 * 7 = 28\n",
      "4 * 8 = 32\n",
      "4 * 9 = 36\n",
      "4 * 10 = 40\n",
      "4 * 11 = 44\n",
      "4 * 12 = 48\n",
      "4 * 13 = 52\n",
      "4 * 14 = 56\n",
      "4 * 15 = 60\n",
      "5 * 1 = 5\n",
      "5 * 2 = 10\n",
      "5 * 3 = 15\n",
      "5 * 4 = 20\n",
      "5 * 5 = 25\n",
      "5 * 6 = 30\n",
      "5 * 7 = 35\n",
      "5 * 8 = 40\n",
      "5 * 9 = 45\n",
      "5 * 10 = 50\n",
      "5 * 11 = 55\n",
      "5 * 12 = 60\n",
      "5 * 13 = 65\n",
      "5 * 14 = 70\n",
      "5 * 15 = 75\n"
     ]
    }
   ],
   "source": [
    "#16 Develop a program that generates a multiplication table for numbers from 1 to 5 using a nested `for` loop\n",
    "for i in range(1,6):\n",
    "    for j in range(1,16):\n",
    "        print(f\"{i} * {j} = {i*j}\")"
   ]
  },
  {
   "cell_type": "code",
   "execution_count": 7,
   "id": "51445f5e-3b6d-49f2-928d-c69d95f54615",
   "metadata": {},
   "outputs": [
    {
     "name": "stdout",
     "output_type": "stream",
     "text": [
      "[0.0, 0.5555555555555556, 1.1111111111111112, 4.444444444444445]\n"
     ]
    }
   ],
   "source": [
    "#17 Write a program that converts a list of Fahrenheit temperatures to Celsius using a `for` loop.\n",
    "a=[32,33,34,40]\n",
    "dinc=[]\n",
    "for i in a:\n",
    "    c=(i - 32) * 5/9\n",
    "    dinc.append(c)\n",
    "print(dinc)"
   ]
  },
  {
   "cell_type": "code",
   "execution_count": 8,
   "id": "3492929a-8331-43f3-9b37-f95aaa7e9cbe",
   "metadata": {},
   "outputs": [
    {
     "name": "stdout",
     "output_type": "stream",
     "text": [
      "[2, 3, 4]\n"
     ]
    }
   ],
   "source": [
    "#18 Create a program to print the common elements from two lists using a `for` loop\n",
    "a=[1,2,3,4,5,6]\n",
    "b=[2,3,4,9,10,11]\n",
    "c=[]\n",
    "for i in a:\n",
    "    for j in b:\n",
    "        if i==j:\n",
    "            c.append(i)\n",
    "print(c)"
   ]
  },
  {
   "cell_type": "code",
   "execution_count": 21,
   "id": "1800cacb-4b80-4835-b125-fbf4a0ffb9b5",
   "metadata": {},
   "outputs": [
    {
     "name": "stdout",
     "output_type": "stream",
     "text": [
      "\n",
      " *\n",
      " * *\n",
      " * * *\n",
      " * * * *\n",
      " * * * * *\n",
      " * * * * * *\n",
      " * * * * * * *\n"
     ]
    }
   ],
   "source": [
    "#19 Develop a program that prints the pattern of right-angled triangles using a `for` loop. Use ‘*’ to draw the pattern\n",
    "for j in range(8):\n",
    "    print(j*\" *\")"
   ]
  },
  {
   "cell_type": "code",
   "execution_count": 29,
   "id": "bb630ef5-a781-4285-98ab-c19035eab7dd",
   "metadata": {},
   "outputs": [
    {
     "name": "stdin",
     "output_type": "stream",
     "text": [
      "Please enter first number to get the GCD 144\n",
      "Please enter second number to get the GCD 72\n"
     ]
    },
    {
     "name": "stdout",
     "output_type": "stream",
     "text": [
      "72\n"
     ]
    }
   ],
   "source": [
    "#20 Write a program to find the greatest common divisor (GCD) of two numbers using a `for` loop\n",
    "a=int(input(\"Please enter first number to get the GCD\"))\n",
    "b=int(input(\"Please enter second number to get the GCD\"))\n",
    "gcd=0\n",
    "for i in range(1,a+1):\n",
    "    if a==0 or b==0:\n",
    "        gcd=0\n",
    "    elif a%i ==0 and b%i == 0:\n",
    "        gcd=i\n",
    "print(gcd)"
   ]
  },
  {
   "cell_type": "code",
   "execution_count": 57,
   "id": "435ac8f4-929d-4d23-9460-adff4c48d693",
   "metadata": {},
   "outputs": [
    {
     "name": "stdout",
     "output_type": "stream",
     "text": [
      "[3, 5, 7, 12]\n"
     ]
    },
    {
     "ename": "TypeError",
     "evalue": "'int' object is not callable",
     "output_type": "error",
     "traceback": [
      "\u001b[0;31m---------------------------------------------------------------------------\u001b[0m",
      "\u001b[0;31mTypeError\u001b[0m                                 Traceback (most recent call last)",
      "Cell \u001b[0;32mIn[57], line 15\u001b[0m\n\u001b[1;32m     11\u001b[0m \u001b[38;5;28mprint\u001b[39m(b)\n\u001b[1;32m     13\u001b[0m \u001b[38;5;66;03m##using list comprehension method\u001b[39;00m\n\u001b[1;32m     14\u001b[0m \u001b[38;5;66;03m#summa=[sum([int(j) for j in str(i)]) for i in a]\u001b[39;00m\n\u001b[0;32m---> 15\u001b[0m res\u001b[38;5;241m=\u001b[39m\u001b[38;5;28;43mlist\u001b[39;49m\u001b[43m(\u001b[49m\u001b[38;5;28;43mmap\u001b[39;49m\u001b[43m(\u001b[49m\u001b[38;5;28;43;01mlambda\u001b[39;49;00m\u001b[43m \u001b[49m\u001b[43mele\u001b[49m\u001b[43m:\u001b[49m\u001b[43m \u001b[49m\u001b[38;5;28;43msum\u001b[39;49m\u001b[43m(\u001b[49m\u001b[38;5;28;43mint\u001b[39;49m\u001b[43m(\u001b[49m\u001b[43msub\u001b[49m\u001b[43m)\u001b[49m\u001b[43m \u001b[49m\u001b[38;5;28;43;01mfor\u001b[39;49;00m\u001b[43m \u001b[49m\u001b[43msub\u001b[49m\u001b[43m \u001b[49m\u001b[38;5;129;43;01min\u001b[39;49;00m\u001b[43m \u001b[49m\u001b[38;5;28;43mstr\u001b[39;49m\u001b[43m(\u001b[49m\u001b[43mele\u001b[49m\u001b[43m)\u001b[49m\u001b[43m)\u001b[49m\u001b[43m,\u001b[49m\u001b[43m \u001b[49m\u001b[43ma\u001b[49m\u001b[43m)\u001b[49m\u001b[43m)\u001b[49m\n\u001b[1;32m     16\u001b[0m \u001b[38;5;66;03m#summa=[sum([int(j) for j in str(i)]) for i in a]\u001b[39;00m\n\u001b[1;32m     17\u001b[0m \u001b[38;5;28mprint\u001b[39m(res)\n",
      "Cell \u001b[0;32mIn[57], line 15\u001b[0m, in \u001b[0;36m<lambda>\u001b[0;34m(ele)\u001b[0m\n\u001b[1;32m     11\u001b[0m \u001b[38;5;28mprint\u001b[39m(b)\n\u001b[1;32m     13\u001b[0m \u001b[38;5;66;03m##using list comprehension method\u001b[39;00m\n\u001b[1;32m     14\u001b[0m \u001b[38;5;66;03m#summa=[sum([int(j) for j in str(i)]) for i in a]\u001b[39;00m\n\u001b[0;32m---> 15\u001b[0m res\u001b[38;5;241m=\u001b[39m\u001b[38;5;28mlist\u001b[39m(\u001b[38;5;28mmap\u001b[39m(\u001b[38;5;28;01mlambda\u001b[39;00m ele: \u001b[38;5;28;43msum\u001b[39;49m\u001b[43m(\u001b[49m\u001b[38;5;28;43mint\u001b[39;49m\u001b[43m(\u001b[49m\u001b[43msub\u001b[49m\u001b[43m)\u001b[49m\u001b[43m \u001b[49m\u001b[38;5;28;43;01mfor\u001b[39;49;00m\u001b[43m \u001b[49m\u001b[43msub\u001b[49m\u001b[43m \u001b[49m\u001b[38;5;129;43;01min\u001b[39;49;00m\u001b[43m \u001b[49m\u001b[38;5;28;43mstr\u001b[39;49m\u001b[43m(\u001b[49m\u001b[43mele\u001b[49m\u001b[43m)\u001b[49m\u001b[43m)\u001b[49m, a))\n\u001b[1;32m     16\u001b[0m \u001b[38;5;66;03m#summa=[sum([int(j) for j in str(i)]) for i in a]\u001b[39;00m\n\u001b[1;32m     17\u001b[0m \u001b[38;5;28mprint\u001b[39m(res)\n",
      "\u001b[0;31mTypeError\u001b[0m: 'int' object is not callable"
     ]
    }
   ],
   "source": [
    "#21 Create a program that calculates the sum of the digits of numbers in a list using a list comprehension\n",
    "#normal for loop method\n",
    "a=[111,23,34,48]\n",
    "b=[]\n",
    "c1=0\n",
    "for i in a:\n",
    "    c=0\n",
    "    for y in str(i):\n",
    "        c+=int(y)\n",
    "    b.append(c)\n",
    "print(b)\n",
    "\n",
    "##using list comprehension method\n",
    "#summa=[sum([int(j) for j in str(i)]) for i in a]\n",
    "res=list(map(lambda ele: sum(int(sub) for sub in str(ele)), a))\n",
    "#summa=[sum([int(j) for j in str(i)]) for i in a]\n",
    "print(res)"
   ]
  },
  {
   "cell_type": "code",
   "execution_count": 26,
   "id": "ee3c7c09-c925-4432-a8de-1e835b52e71a",
   "metadata": {},
   "outputs": [
    {
     "name": "stdin",
     "output_type": "stream",
     "text": [
      "Please input the number for which you want prime factors 10\n"
     ]
    },
    {
     "name": "stdout",
     "output_type": "stream",
     "text": [
      "[2, 5]\n"
     ]
    }
   ],
   "source": [
    "#22 Write a program to find the prime factors of a given number using a `for` loop and list comprehension\n",
    "n=int(input(\"Please input the number for which you want prime factors\"))\n",
    "l=[]\n",
    "for i in range(1,n+1):\n",
    "    if n%i==0:\n",
    "        c=0\n",
    "        for j in range(1,i+1):\n",
    "            if i%j==0:\n",
    "                c+=1\n",
    "        if c==2:\n",
    "            l.append(i)\n",
    "print(l)"
   ]
  },
  {
   "cell_type": "code",
   "execution_count": 25,
   "id": "61b9211d-0833-412e-8b77-68de799d5807",
   "metadata": {},
   "outputs": [
    {
     "name": "stdin",
     "output_type": "stream",
     "text": [
      "Please input the number for which you want prime factors 10\n"
     ]
    },
    {
     "name": "stdout",
     "output_type": "stream",
     "text": [
      "[2, 5]\n"
     ]
    }
   ],
   "source": [
    "#22 Write a program to find the prime factors of a given number using a `for` loop and list comprehension\n",
    "n=int(input(\"Please input the number for which you want prime factors\"))\n",
    "k=[]\n",
    "l=[i for i in range(1,n+1) if n%i==0]\n",
    "for i in l:\n",
    "    c=0\n",
    "    for j in range(1,i+1):\n",
    "        if i%j==0:\n",
    "            c+=1\n",
    "    if c==2:\n",
    "        k.append(i)\n",
    "print(k)"
   ]
  },
  {
   "cell_type": "code",
   "execution_count": 41,
   "id": "6cd37c21-b4bd-4d7d-b5d4-62c65a5007ae",
   "metadata": {},
   "outputs": [
    {
     "name": "stdout",
     "output_type": "stream",
     "text": [
      "[8, 1, 2, 3, 4, 5, 7]\n"
     ]
    }
   ],
   "source": [
    "#23  Develop a program that extracts unique elements from a list and stores them in a new list using a list comprehension.\n",
    "l=[1,2,3,4,5,2,3,7,8,5]\n",
    "l.sort()\n",
    "c=[l[i-1] for i in range(len(l)) if l[i]!=l[i-1]]\n",
    "print(c)"
   ]
  },
  {
   "cell_type": "code",
   "execution_count": 108,
   "id": "c1054393-0d45-4284-b533-279ec73dbd9b",
   "metadata": {},
   "outputs": [
    {
     "name": "stdin",
     "output_type": "stream",
     "text": [
      "Please enter the number for which you want to have the palindrome list 300\n"
     ]
    },
    {
     "name": "stdout",
     "output_type": "stream",
     "text": [
      "[0, 1, 2, 3, 4, 5, 6, 7, 8, 9, 11, 22, 33, 44, 55, 66, 77, 88, 99, 101, 111, 121, 131, 141, 151, 161, 171, 181, 191, 202, 212, 222, 232, 242, 252, 262, 272, 282, 292]\n"
     ]
    }
   ],
   "source": [
    "#24 Create a program that generates a list of all palindromic numbers up to a specified limit using a list comprehension.\n",
    "n=int(input(\"Please enter the number for which you want to have the palindrome list\"))\n",
    "l=[]\n",
    "for i in range(n):\n",
    "    if str(i)==str(i)[::-1]:\n",
    "        l.append(i)\n",
    "print(l)"
   ]
  },
  {
   "cell_type": "code",
   "execution_count": 111,
   "id": "ccb1764f-8f72-4d29-a09a-e1bbf2f8fe0f",
   "metadata": {},
   "outputs": [
    {
     "name": "stdin",
     "output_type": "stream",
     "text": [
      "Please enter the number for which you want to have the palindrome list 300\n"
     ]
    },
    {
     "name": "stdout",
     "output_type": "stream",
     "text": [
      "[0, 1, 2, 3, 4, 5, 6, 7, 8, 9, 11, 22, 33, 44, 55, 66, 77, 88, 99, 101, 111, 121, 131, 141, 151, 161, 171, 181, 191, 202, 212, 222, 232, 242, 252, 262, 272, 282, 292]\n"
     ]
    }
   ],
   "source": [
    "#24 Create a program that generates a list of all palindromic numbers up to a specified limit using a list comprehension.\n",
    "n=int(input(\"Please enter the number for which you want to have the palindrome list\"))\n",
    "l=[i for i in range(n) if str(i)==str(i)[::-1]]\n",
    "print(l)"
   ]
  },
  {
   "cell_type": "code",
   "execution_count": 113,
   "id": "e08c5d5d-520f-46cf-8cd5-9b0dc12d4249",
   "metadata": {},
   "outputs": [
    {
     "name": "stdout",
     "output_type": "stream",
     "text": [
      "[1, 2, 3, 4, 5, 6, 7]\n"
     ]
    }
   ],
   "source": [
    "#25  Write a program to flatten a nested list using list comprehension\n",
    "l=[[1], [2, 3], [4, 5, 6, 7]]\n",
    "l5=[]\n",
    "for i in l:\n",
    "    for j in i:\n",
    "        l5.append(j)\n",
    "print(l5)"
   ]
  },
  {
   "cell_type": "code",
   "execution_count": 116,
   "id": "bbf62223-b646-4622-9c3c-2dcc99770dea",
   "metadata": {},
   "outputs": [
    {
     "name": "stdout",
     "output_type": "stream",
     "text": [
      "[1, 2, 3, 4, 5, 6, 7]\n"
     ]
    }
   ],
   "source": [
    "#25\n",
    "l=[[1], [2, 3], [4, 5, 6, 7]]\n",
    "l6=[j for i in l for j in i]\n",
    "print(l6)"
   ]
  },
  {
   "cell_type": "code",
   "execution_count": 123,
   "id": "52ec7308-e9ac-4a60-898a-a917a377a1e2",
   "metadata": {},
   "outputs": [
    {
     "name": "stdout",
     "output_type": "stream",
     "text": [
      "[20]\n",
      "[16]\n"
     ]
    }
   ],
   "source": [
    "#26  Develop a program that computes the sum of even and odd numbers in a list separately using list comprehension.\n",
    "l=[1,2,3,4,5,6,7,8]\n",
    "sum_of_even=[sum(i for i in l if i%2==0)]\n",
    "sum_of_odd=[sum(i for i in l if i%2!=0)]\n",
    "print(sum_of_even)\n",
    "print(sum_of_odd)"
   ]
  },
  {
   "cell_type": "code",
   "execution_count": 125,
   "id": "99e5764a-bbde-43da-88e8-d201611d4442",
   "metadata": {},
   "outputs": [
    {
     "name": "stdout",
     "output_type": "stream",
     "text": [
      "[1, 9, 25, 49, 81]\n"
     ]
    }
   ],
   "source": [
    "#27 Create a program that generates a list of squares of odd numbers between 1 and 10 using list comprehension\n",
    "list_of_odd_squares=[i*i for i in range(10) if i%2!=0]\n",
    "print(list_of_odd_squares)"
   ]
  },
  {
   "cell_type": "code",
   "execution_count": 138,
   "id": "8c68ef64-2341-41a5-a225-eadf3aee6446",
   "metadata": {},
   "outputs": [
    {
     "name": "stdout",
     "output_type": "stream",
     "text": [
      "{'name': 'kiriti', 'place': 'hyd', 'animal': 'Tiger', 'thing': 'Phone'}\n"
     ]
    },
    {
     "data": {
      "text/plain": [
       "dict"
      ]
     },
     "execution_count": 138,
     "metadata": {},
     "output_type": "execute_result"
    }
   ],
   "source": [
    "#28 Write a program that combines two lists into a dictionary using list comprehension.\n",
    "l1=['name','place','animal','thing']\n",
    "l2=['kiriti','hyd','Tiger','Phone']\n",
    "l={l1[i]:l2[i] for i in range(len(l1))}\n",
    "print(l)\n",
    "type(l)"
   ]
  },
  {
   "cell_type": "code",
   "execution_count": 140,
   "id": "5923acbe-38e6-4581-a0ba-83bec054cda7",
   "metadata": {},
   "outputs": [
    {
     "name": "stdout",
     "output_type": "stream",
     "text": [
      "['i', 'a', 'a', 'i', 'i', 'i']\n"
     ]
    }
   ],
   "source": [
    "#29 Develop a program that extracts the vowels from a string and stores them in a list using list comprehension\n",
    "s='sriramakiriti'\n",
    "s1=[i for i in s if i in ['a','e','i','o','u']]\n",
    "print(s1)"
   ]
  },
  {
   "cell_type": "code",
   "execution_count": 144,
   "id": "6178776f-fff2-4b13-832a-7a17df165a77",
   "metadata": {},
   "outputs": [
    {
     "name": "stdout",
     "output_type": "stream",
     "text": [
      "['k', 'i', 'r', 'i', 't', 'i']\n"
     ]
    }
   ],
   "source": [
    "#30 Create a program that removes all non-numeric characters from a list of strings using list comprehension.\n",
    "l1=['k','i','r','2','i','t','i','1','3','4']\n",
    "s1=[i for i in l1 if i not in [str(i) for i in range(9)]]\n",
    "print(s1)"
   ]
  },
  {
   "cell_type": "code",
   "execution_count": 20,
   "id": "9367749d-6b70-4a48-897d-322776a189f0",
   "metadata": {},
   "outputs": [
    {
     "name": "stdin",
     "output_type": "stream",
     "text": [
      "Please enter the input 100\n"
     ]
    },
    {
     "name": "stdout",
     "output_type": "stream",
     "text": [
      "[0, 1, 2, 3, 5, 7, 11, 13, 17, 19, 23, 29, 31, 37, 41, 43, 47, 53, 59, 61, 67, 71, 73, 79, 83, 89, 97]\n"
     ]
    }
   ],
   "source": [
    "#31 Write a program to generate a list of prime numbers using the Sieve of Eratosthenes algorithm and list comprehension\n",
    "n=int(input(\"Please enter the input\"))\n",
    "e=[]\n",
    "prime_list = []\n",
    "c=[j for i in range(2, n+1) if i not in prime_list for j in range(i*i, n+1, i)]\n",
    "for i in range(n):\n",
    "    if i not in d:\n",
    "        e.append(i)\n",
    "print(e)"
   ]
  },
  {
   "cell_type": "code",
   "execution_count": 7,
   "id": "ceb0d3ca-574e-42fb-ad2e-4b6981784366",
   "metadata": {},
   "outputs": [
    {
     "name": "stdin",
     "output_type": "stream",
     "text": [
      "Enter the value 20\n"
     ]
    },
    {
     "name": "stdout",
     "output_type": "stream",
     "text": [
      "[(4, 3, 5), (8, 6, 10), (12, 5, 13), (12, 9, 15), (15, 8, 17)]\n"
     ]
    }
   ],
   "source": [
    "#32 Create a program that generates a list of all Pythagorean triplets up to a specified limit using list comprehension.\n",
    "limit=int(input(\"Enter the value\"))                \n",
    "l=[(i,j,k) for i in range(1,100)  for j in range(1,i) for k in range(1,i+j) if (i*i)+(j*j)==(k*k) and k<limit]\n",
    "print(l)"
   ]
  },
  {
   "cell_type": "code",
   "execution_count": 10,
   "id": "99c3e7f0-d184-4976-a679-f0fcfe232b8c",
   "metadata": {},
   "outputs": [
    {
     "name": "stdout",
     "output_type": "stream",
     "text": [
      "[(1, 6), (1, 7), (1, 8), (1, 8), (1, 9), (1, 10), (2, 6), (2, 7), (2, 8), (2, 8), (2, 9), (2, 10), (3, 6), (3, 7), (3, 8), (3, 8), (3, 9), (3, 10), (4, 6), (4, 7), (4, 8), (4, 8), (4, 9), (4, 10), (5, 6), (5, 7), (5, 8), (5, 8), (5, 9), (5, 10), (6, 6), (6, 7), (6, 8), (6, 8), (6, 9), (6, 10)]\n"
     ]
    }
   ],
   "source": [
    "#33 Develop a program that generates a list of all possible combinations of two lists using list comprehension.\n",
    "l1=[1,2,3,4,5,6]\n",
    "l2=[6,7,8,8,9,10]\n",
    "l=[(i,j) for i in l1 for j in l2]\n",
    "print(l)"
   ]
  },
  {
   "cell_type": "code",
   "execution_count": 43,
   "id": "3de9aff6-2cbf-41a6-971e-912f2c8216c1",
   "metadata": {},
   "outputs": [
    {
     "name": "stdout",
     "output_type": "stream",
     "text": [
      "[4.9]\n",
      "6.0\n",
      "[6, 7]\n"
     ]
    }
   ],
   "source": [
    "#34 Write a program that calculates the mean, median, and mode of a list of numbers using list comprehension.\n",
    "l1=[1,2,3,4,5,6,6,7,7,8]\n",
    "n=len(l1)\n",
    "l2=[]\n",
    "mean=[sum(i for i in l1)/len(l1)]\n",
    "if len(l1)%2==0:\n",
    "    median=(l1[int(n/2)]+l1[int(n/2)+1])/2\n",
    "else :\n",
    "    median=l1[int((n-1)/2)]\n",
    "for i in range(len(l1)):\n",
    "    for j in range(i,len(l1)-1):\n",
    "        if i==l1[j]:\n",
    "            l2.append(i)\n",
    "print(mean)\n",
    "print(median)\n",
    "print(list(set(l2)))"
   ]
  },
  {
   "cell_type": "code",
   "execution_count": 11,
   "id": "78e3c306-4d6b-4d56-8e83-5f1f062af5c8",
   "metadata": {},
   "outputs": [
    {
     "name": "stdout",
     "output_type": "stream",
     "text": [
      "[1, 2, 6, 24, 120]\n",
      "[1, 2, 6, 6, 3]\n"
     ]
    }
   ],
   "source": [
    "#36  Develop a program that calculates the sum of the digits of a factorial of numbers from 1 to 5 using list comprehension.\n",
    "factorials = [1]\n",
    "[factorials.append(factorials[-1] * (i + 1)) for i in range(1,5)]\n",
    "print(factorials)\n",
    "digit_sums = [sum(int(digit) for digit in str(number)) for number in factorials]\n",
    "total_sum = sum(digit_sums)\n",
    "print(digit_sums)"
   ]
  },
  {
   "cell_type": "code",
   "execution_count": 5,
   "id": "b0e61150-7002-4305-9279-7795d7d53768",
   "metadata": {},
   "outputs": [
    {
     "name": "stdout",
     "output_type": "stream",
     "text": [
      "['abcdbefjehkejehekeheje']\n"
     ]
    }
   ],
   "source": [
    "#37 Write a program that finds the longest word in a sentence using list comprehension.\n",
    "s1=\"My Name is Kiriti kiritisrirama Srirama abcdbefjehkejehekeheje\"\n",
    "max_len1=0\n",
    "l=s1.split(\" \")\n",
    "max_l1=[max(max_len1:=len(i) for i in l if len(i)>max_len1)]\n",
    "max_word=[i for i in l if len(i)==max_l1[0]]\n",
    "print(max_word)"
   ]
  },
  {
   "cell_type": "code",
   "execution_count": 24,
   "id": "243c213b-81ab-4fdb-a39c-0dd3d468d83a",
   "metadata": {},
   "outputs": [
    {
     "name": "stdout",
     "output_type": "stream",
     "text": [
      "['kiritii', 'sriramaa']\n"
     ]
    }
   ],
   "source": [
    "#38\n",
    "l=['kiritii','sriramaa','hi','watrudng']\n",
    "l1 = [i for i in l if sum(1 for j in str(i) if j in ('a', 'e', 'i', 'o', 'u')) > 3]\n",
    "print(l1)"
   ]
  },
  {
   "cell_type": "code",
   "execution_count": 1,
   "id": "7b47bb9b-1914-4e85-95d3-54623ff531ff",
   "metadata": {},
   "outputs": [
    {
     "name": "stdout",
     "output_type": "stream",
     "text": [
      "[1, 2, 3, 4, 5, 6, 7, 8, 9, 1, 2, 3, 4, 5, 6, 7, 8, 9, 10, 2, 3, 4, 5, 6, 7, 8, 9, 10, 11, 3, 4, 5, 6, 7, 8, 9, 10, 11, 12, 4, 5, 6, 7, 8, 9, 10, 11, 12, 13, 5, 6, 7, 8, 9, 10, 11, 12, 13, 14, 6, 7, 8, 9, 10, 11, 12, 13, 14, 15, 7, 8, 9, 10, 11, 12, 13, 14, 15, 16, 8, 9, 10, 11, 12, 13, 14, 15, 16, 17, 9, 10, 11, 12, 13, 14, 15, 16, 17, 18, 1, 2, 3, 4, 5, 6, 7, 8, 9, 10, 2, 3, 4, 5, 6, 7, 8, 9, 10, 11, 3, 4, 5, 6, 7, 8, 9, 10, 11, 12, 4, 5, 6, 7, 8, 9, 10, 11, 12, 13, 5, 6, 7, 8, 9, 10, 11, 12, 13, 14, 6, 7, 8, 9, 10, 11, 12, 13, 14, 15, 7, 8, 9, 10, 11, 12, 13, 14, 15, 16, 8, 9, 10, 11, 12, 13, 14, 15, 16, 17, 9, 10, 11, 12, 13, 14, 15, 16, 17, 18, 10, 11, 12, 13, 14, 15, 16, 17, 18, 19, 2, 3, 4, 5, 6, 7, 8, 9, 10, 11, 3, 4, 5, 6, 7, 8, 9, 10, 11, 12, 4, 5, 6, 7, 8, 9, 10, 11, 12, 13, 5, 6, 7, 8, 9, 10, 11, 12, 13, 14, 6, 7, 8, 9, 10, 11, 12, 13, 14, 15, 7, 8, 9, 10, 11, 12, 13, 14, 15, 16, 8, 9, 10, 11, 12, 13, 14, 15, 16, 17, 9, 10, 11, 12, 13, 14, 15, 16, 17, 18, 10, 11, 12, 13, 14, 15, 16, 17, 18, 19, 11, 12, 13, 14, 15, 16, 17, 18, 19, 20, 3, 4, 5, 6, 7, 8, 9, 10, 11, 12, 4, 5, 6, 7, 8, 9, 10, 11, 12, 13, 5, 6, 7, 8, 9, 10, 11, 12, 13, 14, 6, 7, 8, 9, 10, 11, 12, 13, 14, 15, 7, 8, 9, 10, 11, 12, 13, 14, 15, 16, 8, 9, 10, 11, 12, 13, 14, 15, 16, 17, 9, 10, 11, 12, 13, 14, 15, 16, 17, 18, 10, 11, 12, 13, 14, 15, 16, 17, 18, 19, 11, 12, 13, 14, 15, 16, 17, 18, 19, 20, 12, 13, 14, 15, 16, 17, 18, 19, 20, 21, 4, 5, 6, 7, 8, 9, 10, 11, 12, 13, 5, 6, 7, 8, 9, 10, 11, 12, 13, 14, 6, 7, 8, 9, 10, 11, 12, 13, 14, 15, 7, 8, 9, 10, 11, 12, 13, 14, 15, 16, 8, 9, 10, 11, 12, 13, 14, 15, 16, 17, 9, 10, 11, 12, 13, 14, 15, 16, 17, 18, 10, 11, 12, 13, 14, 15, 16, 17, 18, 19, 11, 12, 13, 14, 15, 16, 17, 18, 19, 20, 12, 13, 14, 15, 16, 17, 18, 19, 20, 21, 13, 14, 15, 16, 17, 18, 19, 20, 21, 22, 5, 6, 7, 8, 9, 10, 11, 12, 13, 14, 6, 7, 8, 9, 10, 11, 12, 13, 14, 15, 7, 8, 9, 10, 11, 12, 13, 14, 15, 16, 8, 9, 10, 11, 12, 13, 14, 15, 16, 17, 9, 10, 11, 12, 13, 14, 15, 16, 17, 18, 10, 11, 12, 13, 14, 15, 16, 17, 18, 19, 11, 12, 13, 14, 15, 16, 17, 18, 19, 20, 12, 13, 14, 15, 16, 17, 18, 19, 20, 21, 13, 14, 15, 16, 17, 18, 19, 20, 21, 22, 14, 15, 16, 17, 18, 19, 20, 21, 22, 23, 6, 7, 8, 9, 10, 11, 12, 13, 14, 15, 7, 8, 9, 10, 11, 12, 13, 14, 15, 16, 8, 9, 10, 11, 12, 13, 14, 15, 16, 17, 9, 10, 11, 12, 13, 14, 15, 16, 17, 18, 10, 11, 12, 13, 14, 15, 16, 17, 18, 19, 11, 12, 13, 14, 15, 16, 17, 18, 19, 20, 12, 13, 14, 15, 16, 17, 18, 19, 20, 21, 13, 14, 15, 16, 17, 18, 19, 20, 21, 22, 14, 15, 16, 17, 18, 19, 20, 21, 22, 23, 15, 16, 17, 18, 19, 20, 21, 22, 23, 24, 7, 8, 9, 10, 11, 12, 13, 14, 15, 16, 8, 9, 10, 11, 12, 13, 14, 15, 16, 17, 9, 10, 11, 12, 13, 14, 15, 16, 17, 18, 10, 11, 12, 13, 14, 15, 16, 17, 18, 19, 11, 12, 13, 14, 15, 16, 17, 18, 19, 20, 12, 13, 14, 15, 16, 17, 18, 19, 20, 21, 13, 14, 15, 16, 17, 18, 19, 20, 21, 22, 14, 15, 16, 17, 18, 19, 20, 21, 22, 23, 15, 16, 17, 18, 19, 20, 21, 22, 23, 24, 16, 17, 18, 19, 20, 21, 22, 23, 24, 25, 8, 9, 10, 11, 12, 13, 14, 15, 16, 17, 9, 10, 11, 12, 13, 14, 15, 16, 17, 18, 10, 11, 12, 13, 14, 15, 16, 17, 18, 19, 11, 12, 13, 14, 15, 16, 17, 18, 19, 20, 12, 13, 14, 15, 16, 17, 18, 19, 20, 21, 13, 14, 15, 16, 17, 18, 19, 20, 21, 22, 14, 15, 16, 17, 18, 19, 20, 21, 22, 23, 15, 16, 17, 18, 19, 20, 21, 22, 23, 24, 16, 17, 18, 19, 20, 21, 22, 23, 24, 25, 17, 18, 19, 20, 21, 22, 23, 24, 25, 26, 9, 10, 11, 12, 13, 14, 15, 16, 17, 18, 10, 11, 12, 13, 14, 15, 16, 17, 18, 19, 11, 12, 13, 14, 15, 16, 17, 18, 19, 20, 12, 13, 14, 15, 16, 17, 18, 19, 20, 21, 13, 14, 15, 16, 17, 18, 19, 20, 21, 22, 14, 15, 16, 17, 18, 19, 20, 21, 22, 23, 15, 16, 17, 18, 19, 20, 21, 22, 23, 24, 16, 17, 18, 19, 20, 21, 22, 23, 24, 25, 17, 18, 19, 20, 21, 22, 23, 24, 25, 26, 18, 19, 20, 21, 22, 23, 24, 25, 26, 27, 1]\n"
     ]
    }
   ],
   "source": [
    "#39\n",
    "digit_sums = [sum(int(digit) for digit in str(number)) for number in range(1, 1001)]\n",
    "total_sum = sum(digit_sums)\n",
    "print(digit_sums)"
   ]
  },
  {
   "cell_type": "code",
   "execution_count": 26,
   "id": "c55d2bae-1d33-4323-bc01-6f04d51bfe50",
   "metadata": {},
   "outputs": [
    {
     "name": "stdout",
     "output_type": "stream",
     "text": [
      "[2, 3, 5, 7, 11, 13, 17, 19, 23, 29, 31, 37, 41, 43, 47, 53, 59, 61, 67, 71, 73, 79, 83, 89, 97, 101, 103, 107, 109, 113, 127, 131, 137, 139, 149, 151, 157, 163, 167, 173, 179, 181, 191, 193, 197, 199]\n",
      "2\n",
      "3\n",
      "5\n",
      "7\n",
      "11\n",
      "101\n",
      "131\n",
      "151\n",
      "181\n",
      "191\n",
      "[2, 3, 5, 7, 11, 101, 131, 151, 181, 191]\n"
     ]
    }
   ],
   "source": [
    "#40 Write a program that generates a list of prime palindromic numbers using list comprehension.\n",
    "lop=[]\n",
    "for i in range(1,200):\n",
    "    count=0\n",
    "    for j in range(1,i):\n",
    "        if i%j==0:\n",
    "            count+=1\n",
    "    if count==1:\n",
    "        lop.append(i)\n",
    "print(lop)\n",
    "for i in lop:\n",
    "    if str(i)[::-1]==str(i):\n",
    "        print(i)\n",
    "limit=200\n",
    "prime_numbers = [num for num in range(2, limit + 1) if all(num % div != 0 for div in range(2, int(num**0.5) + 1))]\n",
    "lopp=[i for i in prime_numbers if str(i)[::-1]==str(i)]\n",
    "print(lopp)"
   ]
  },
  {
   "cell_type": "code",
   "execution_count": null,
   "id": "ba858b02-432b-44ba-bce4-d466e2ca9aa5",
   "metadata": {},
   "outputs": [],
   "source": []
  }
 ],
 "metadata": {
  "kernelspec": {
   "display_name": "Python 3 (ipykernel)",
   "language": "python",
   "name": "python3"
  },
  "language_info": {
   "codemirror_mode": {
    "name": "ipython",
    "version": 3
   },
   "file_extension": ".py",
   "mimetype": "text/x-python",
   "name": "python",
   "nbconvert_exporter": "python",
   "pygments_lexer": "ipython3",
   "version": "3.10.8"
  }
 },
 "nbformat": 4,
 "nbformat_minor": 5
}
